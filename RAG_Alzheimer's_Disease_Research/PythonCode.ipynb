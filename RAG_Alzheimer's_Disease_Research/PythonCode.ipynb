{
 "cells": [
  {
   "cell_type": "markdown",
   "id": "ab9b2ba6",
   "metadata": {},
   "source": [
    "# RAG Development "
   ]
  },
  {
   "cell_type": "markdown",
   "id": "b47f3cfa",
   "metadata": {},
   "source": [
    "Ollama is installed locally on the system before running the code."
   ]
  },
  {
   "cell_type": "markdown",
   "id": "23114113",
   "metadata": {},
   "source": [
    "Installing required dependencies after installing Ollama locally and importing Phi-3 which is a small language model developed by Microsoft. "
   ]
  },
  {
   "cell_type": "code",
   "execution_count": 9,
   "id": "227cc2c0",
   "metadata": {},
   "outputs": [
    {
     "name": "stdout",
     "output_type": "stream",
     "text": [
      "Requirement already satisfied: langchain_community in c:\\users\\afafc\\anaconda3\\lib\\site-packages (0.2.3)\n",
      "Requirement already satisfied: PyYAML>=5.3 in c:\\users\\afafc\\anaconda3\\lib\\site-packages (from langchain_community) (6.0.1)\n",
      "Requirement already satisfied: SQLAlchemy<3,>=1.4 in c:\\users\\afafc\\anaconda3\\lib\\site-packages (from langchain_community) (2.0.30)\n",
      "Requirement already satisfied: aiohttp<4.0.0,>=3.8.3 in c:\\users\\afafc\\anaconda3\\lib\\site-packages (from langchain_community) (3.9.5)\n",
      "Requirement already satisfied: dataclasses-json<0.7,>=0.5.7 in c:\\users\\afafc\\anaconda3\\lib\\site-packages (from langchain_community) (0.6.6)\n",
      "Requirement already satisfied: langchain<0.3.0,>=0.2.0 in c:\\users\\afafc\\anaconda3\\lib\\site-packages (from langchain_community) (0.2.2)\n",
      "Requirement already satisfied: langchain-core<0.3.0,>=0.2.0 in c:\\users\\afafc\\anaconda3\\lib\\site-packages (from langchain_community) (0.2.4)\n",
      "Requirement already satisfied: langsmith<0.2.0,>=0.1.0 in c:\\users\\afafc\\anaconda3\\lib\\site-packages (from langchain_community) (0.1.73)\n",
      "Requirement already satisfied: numpy<2,>=1 in c:\\users\\afafc\\anaconda3\\lib\\site-packages (from langchain_community) (1.24.3)\n",
      "Requirement already satisfied: requests<3,>=2 in c:\\users\\afafc\\anaconda3\\lib\\site-packages (from langchain_community) (2.31.0)\n",
      "Requirement already satisfied: tenacity<9.0.0,>=8.1.0 in c:\\users\\afafc\\anaconda3\\lib\\site-packages (from langchain_community) (8.3.0)\n",
      "Requirement already satisfied: aiosignal>=1.1.2 in c:\\users\\afafc\\anaconda3\\lib\\site-packages (from aiohttp<4.0.0,>=3.8.3->langchain_community) (1.2.0)\n",
      "Requirement already satisfied: attrs>=17.3.0 in c:\\users\\afafc\\anaconda3\\lib\\site-packages (from aiohttp<4.0.0,>=3.8.3->langchain_community) (23.2.0)\n",
      "Requirement already satisfied: frozenlist>=1.1.1 in c:\\users\\afafc\\anaconda3\\lib\\site-packages (from aiohttp<4.0.0,>=3.8.3->langchain_community) (1.3.3)\n",
      "Requirement already satisfied: multidict<7.0,>=4.5 in c:\\users\\afafc\\anaconda3\\lib\\site-packages (from aiohttp<4.0.0,>=3.8.3->langchain_community) (6.0.2)\n",
      "Requirement already satisfied: yarl<2.0,>=1.0 in c:\\users\\afafc\\anaconda3\\lib\\site-packages (from aiohttp<4.0.0,>=3.8.3->langchain_community) (1.8.1)\n",
      "Requirement already satisfied: marshmallow<4.0.0,>=3.18.0 in c:\\users\\afafc\\anaconda3\\lib\\site-packages (from dataclasses-json<0.7,>=0.5.7->langchain_community) (3.21.2)\n",
      "Requirement already satisfied: typing-inspect<1,>=0.4.0 in c:\\users\\afafc\\anaconda3\\lib\\site-packages (from dataclasses-json<0.7,>=0.5.7->langchain_community) (0.9.0)\n",
      "Requirement already satisfied: langchain-text-splitters<0.3.0,>=0.2.0 in c:\\users\\afafc\\anaconda3\\lib\\site-packages (from langchain<0.3.0,>=0.2.0->langchain_community) (0.2.1)\n",
      "Requirement already satisfied: pydantic<3,>=1 in c:\\users\\afafc\\anaconda3\\lib\\site-packages (from langchain<0.3.0,>=0.2.0->langchain_community) (1.10.8)\n",
      "Requirement already satisfied: jsonpatch<2.0,>=1.33 in c:\\users\\afafc\\anaconda3\\lib\\site-packages (from langchain-core<0.3.0,>=0.2.0->langchain_community) (1.33)\n",
      "Requirement already satisfied: packaging<24.0,>=23.2 in c:\\users\\afafc\\anaconda3\\lib\\site-packages (from langchain-core<0.3.0,>=0.2.0->langchain_community) (23.2)\n",
      "Requirement already satisfied: orjson<4.0.0,>=3.9.14 in c:\\users\\afafc\\anaconda3\\lib\\site-packages (from langsmith<0.2.0,>=0.1.0->langchain_community) (3.10.3)\n",
      "Requirement already satisfied: charset-normalizer<4,>=2 in c:\\users\\afafc\\anaconda3\\lib\\site-packages (from requests<3,>=2->langchain_community) (3.3.2)\n",
      "Requirement already satisfied: idna<4,>=2.5 in c:\\users\\afafc\\anaconda3\\lib\\site-packages (from requests<3,>=2->langchain_community) (3.4)\n",
      "Requirement already satisfied: urllib3<3,>=1.21.1 in c:\\users\\afafc\\anaconda3\\lib\\site-packages (from requests<3,>=2->langchain_community) (2.2.1)\n",
      "Requirement already satisfied: certifi>=2017.4.17 in c:\\users\\afafc\\anaconda3\\lib\\site-packages (from requests<3,>=2->langchain_community) (2023.11.17)\n",
      "Requirement already satisfied: typing-extensions>=4.6.0 in c:\\users\\afafc\\anaconda3\\lib\\site-packages (from SQLAlchemy<3,>=1.4->langchain_community) (4.12.1)\n",
      "Requirement already satisfied: greenlet!=0.4.17 in c:\\users\\afafc\\anaconda3\\lib\\site-packages (from SQLAlchemy<3,>=1.4->langchain_community) (3.0.3)\n",
      "Requirement already satisfied: jsonpointer>=1.9 in c:\\users\\afafc\\anaconda3\\lib\\site-packages (from jsonpatch<2.0,>=1.33->langchain-core<0.3.0,>=0.2.0->langchain_community) (2.1)\n",
      "Requirement already satisfied: mypy-extensions>=0.3.0 in c:\\users\\afafc\\anaconda3\\lib\\site-packages (from typing-inspect<1,>=0.4.0->dataclasses-json<0.7,>=0.5.7->langchain_community) (1.0.0)\n",
      "Note: you may need to restart the kernel to use updated packages.\n"
     ]
    }
   ],
   "source": [
    "%pip install langchain_community "
   ]
  },
  {
   "cell_type": "markdown",
   "id": "4f65fb96",
   "metadata": {},
   "source": [
    "To import the phi3 model, disable the comment and run the following pull command."
   ]
  },
  {
   "cell_type": "code",
   "execution_count": null,
   "id": "98f38331",
   "metadata": {},
   "outputs": [],
   "source": [
    "#!ollama pull phi3 "
   ]
  },
  {
   "cell_type": "markdown",
   "id": "7c073229",
   "metadata": {},
   "source": [
    "Querying the LLM with non-domain questions"
   ]
  },
  {
   "cell_type": "code",
   "execution_count": 12,
   "id": "1d103aec",
   "metadata": {},
   "outputs": [
    {
     "name": "stdout",
     "output_type": "stream",
     "text": [
      " Kerala is a state located in the southwestern region of India. It lies along the Malabar Coast, bordered by the Western Ghats mountain range to the east and the Arabian Sea (a part of the Indian Ocean) to the west. The neighboring states are Karnataka to the northwest, Tamil Nadu to the northeast, and Lakshadweep Island to the southwest across the Arabian Sea. Kerala is known for its natural beauty, diverse landscapes ranging from sandy beaches to dense rainforests, as well as its rich cultural heritage and vibrant festivals.\n"
     ]
    }
   ],
   "source": [
    "from langchain_community.chat_models import ChatOllama\n",
    "from langchain_core.output_parsers import StrOutputParser\n",
    "from langchain_core.prompts import ChatPromptTemplate\n",
    "\n",
    "llm = ChatOllama(model=\"phi3\")\n",
    "prompt = ChatPromptTemplate.from_template(\"Where is Kerala ?\")\n",
    "\n",
    "# using LangChain Expressive Language chain syntax\n",
    "chain = prompt | llm | StrOutputParser()\n",
    "print(chain.invoke({}))"
   ]
  },
  {
   "cell_type": "markdown",
   "id": "58669ec6",
   "metadata": {},
   "source": [
    "Installing necessary packages importing libraries."
   ]
  },
  {
   "cell_type": "code",
   "execution_count": 3,
   "id": "e9c47bc2",
   "metadata": {},
   "outputs": [
    {
     "name": "stdout",
     "output_type": "stream",
     "text": [
      "Requirement already satisfied: llama-index-embeddings-huggingface in c:\\users\\afafc\\anaconda3\\lib\\site-packages (0.2.1)\n",
      "Requirement already satisfied: huggingface-hub[inference]>=0.19.0 in c:\\users\\afafc\\anaconda3\\lib\\site-packages (from llama-index-embeddings-huggingface) (0.23.3)\n",
      "Requirement already satisfied: llama-index-core<0.11.0,>=0.10.1 in c:\\users\\afafc\\anaconda3\\lib\\site-packages (from llama-index-embeddings-huggingface) (0.10.43)\n",
      "Requirement already satisfied: sentence-transformers<3.0.0,>=2.6.1 in c:\\users\\afafc\\anaconda3\\lib\\site-packages (from llama-index-embeddings-huggingface) (2.7.0)\n",
      "Requirement already satisfied: filelock in c:\\users\\afafc\\anaconda3\\lib\\site-packages (from huggingface-hub[inference]>=0.19.0->llama-index-embeddings-huggingface) (3.9.0)\n",
      "Requirement already satisfied: fsspec>=2023.5.0 in c:\\users\\afafc\\anaconda3\\lib\\site-packages (from huggingface-hub[inference]>=0.19.0->llama-index-embeddings-huggingface) (2024.5.0)\n",
      "Requirement already satisfied: packaging>=20.9 in c:\\users\\afafc\\anaconda3\\lib\\site-packages (from huggingface-hub[inference]>=0.19.0->llama-index-embeddings-huggingface) (23.2)\n",
      "Requirement already satisfied: pyyaml>=5.1 in c:\\users\\afafc\\anaconda3\\lib\\site-packages (from huggingface-hub[inference]>=0.19.0->llama-index-embeddings-huggingface) (6.0.1)\n",
      "Requirement already satisfied: requests in c:\\users\\afafc\\anaconda3\\lib\\site-packages (from huggingface-hub[inference]>=0.19.0->llama-index-embeddings-huggingface) (2.31.0)\n",
      "Requirement already satisfied: tqdm>=4.42.1 in c:\\users\\afafc\\anaconda3\\lib\\site-packages (from huggingface-hub[inference]>=0.19.0->llama-index-embeddings-huggingface) (4.66.4)\n",
      "Requirement already satisfied: typing-extensions>=3.7.4.3 in c:\\users\\afafc\\anaconda3\\lib\\site-packages (from huggingface-hub[inference]>=0.19.0->llama-index-embeddings-huggingface) (4.12.1)\n",
      "Requirement already satisfied: aiohttp in c:\\users\\afafc\\anaconda3\\lib\\site-packages (from huggingface-hub[inference]>=0.19.0->llama-index-embeddings-huggingface) (3.9.5)\n",
      "Requirement already satisfied: minijinja>=1.0 in c:\\users\\afafc\\anaconda3\\lib\\site-packages (from huggingface-hub[inference]>=0.19.0->llama-index-embeddings-huggingface) (2.0.1)\n",
      "Requirement already satisfied: SQLAlchemy[asyncio]>=1.4.49 in c:\\users\\afafc\\anaconda3\\lib\\site-packages (from llama-index-core<0.11.0,>=0.10.1->llama-index-embeddings-huggingface) (2.0.30)\n",
      "Requirement already satisfied: dataclasses-json in c:\\users\\afafc\\anaconda3\\lib\\site-packages (from llama-index-core<0.11.0,>=0.10.1->llama-index-embeddings-huggingface) (0.6.6)\n",
      "Requirement already satisfied: deprecated>=1.2.9.3 in c:\\users\\afafc\\anaconda3\\lib\\site-packages (from llama-index-core<0.11.0,>=0.10.1->llama-index-embeddings-huggingface) (1.2.14)\n",
      "Requirement already satisfied: dirtyjson<2.0.0,>=1.0.8 in c:\\users\\afafc\\anaconda3\\lib\\site-packages (from llama-index-core<0.11.0,>=0.10.1->llama-index-embeddings-huggingface) (1.0.8)\n",
      "Requirement already satisfied: httpx in c:\\users\\afafc\\anaconda3\\lib\\site-packages (from llama-index-core<0.11.0,>=0.10.1->llama-index-embeddings-huggingface) (0.27.0)\n",
      "Requirement already satisfied: llamaindex-py-client<0.2.0,>=0.1.18 in c:\\users\\afafc\\anaconda3\\lib\\site-packages (from llama-index-core<0.11.0,>=0.10.1->llama-index-embeddings-huggingface) (0.1.19)\n",
      "Requirement already satisfied: nest-asyncio<2.0.0,>=1.5.8 in c:\\users\\afafc\\anaconda3\\lib\\site-packages (from llama-index-core<0.11.0,>=0.10.1->llama-index-embeddings-huggingface) (1.6.0)\n",
      "Requirement already satisfied: networkx>=3.0 in c:\\users\\afafc\\anaconda3\\lib\\site-packages (from llama-index-core<0.11.0,>=0.10.1->llama-index-embeddings-huggingface) (3.1)\n",
      "Requirement already satisfied: nltk<4.0.0,>=3.8.1 in c:\\users\\afafc\\anaconda3\\lib\\site-packages (from llama-index-core<0.11.0,>=0.10.1->llama-index-embeddings-huggingface) (3.8.1)\n",
      "Requirement already satisfied: numpy in c:\\users\\afafc\\anaconda3\\lib\\site-packages (from llama-index-core<0.11.0,>=0.10.1->llama-index-embeddings-huggingface) (1.24.3)\n",
      "Requirement already satisfied: openai>=1.1.0 in c:\\users\\afafc\\anaconda3\\lib\\site-packages (from llama-index-core<0.11.0,>=0.10.1->llama-index-embeddings-huggingface) (1.30.5)\n",
      "Requirement already satisfied: pandas in c:\\users\\afafc\\anaconda3\\lib\\site-packages (from llama-index-core<0.11.0,>=0.10.1->llama-index-embeddings-huggingface) (2.0.3)\n",
      "Requirement already satisfied: pillow>=9.0.0 in c:\\users\\afafc\\anaconda3\\lib\\site-packages (from llama-index-core<0.11.0,>=0.10.1->llama-index-embeddings-huggingface) (9.4.0)\n",
      "Requirement already satisfied: tenacity<9.0.0,>=8.2.0 in c:\\users\\afafc\\anaconda3\\lib\\site-packages (from llama-index-core<0.11.0,>=0.10.1->llama-index-embeddings-huggingface) (8.2.2)\n",
      "Requirement already satisfied: tiktoken>=0.3.3 in c:\\users\\afafc\\anaconda3\\lib\\site-packages (from llama-index-core<0.11.0,>=0.10.1->llama-index-embeddings-huggingface) (0.7.0)\n",
      "Requirement already satisfied: typing-inspect>=0.8.0 in c:\\users\\afafc\\anaconda3\\lib\\site-packages (from llama-index-core<0.11.0,>=0.10.1->llama-index-embeddings-huggingface) (0.9.0)\n",
      "Requirement already satisfied: wrapt in c:\\users\\afafc\\anaconda3\\lib\\site-packages (from llama-index-core<0.11.0,>=0.10.1->llama-index-embeddings-huggingface) (1.14.1)\n",
      "Requirement already satisfied: transformers<5.0.0,>=4.34.0 in c:\\users\\afafc\\anaconda3\\lib\\site-packages (from sentence-transformers<3.0.0,>=2.6.1->llama-index-embeddings-huggingface) (4.41.2)\n",
      "Requirement already satisfied: torch>=1.11.0 in c:\\users\\afafc\\anaconda3\\lib\\site-packages (from sentence-transformers<3.0.0,>=2.6.1->llama-index-embeddings-huggingface) (2.0.1)\n",
      "Requirement already satisfied: scikit-learn in c:\\users\\afafc\\anaconda3\\lib\\site-packages (from sentence-transformers<3.0.0,>=2.6.1->llama-index-embeddings-huggingface) (1.3.0)\n",
      "Requirement already satisfied: scipy in c:\\users\\afafc\\anaconda3\\lib\\site-packages (from sentence-transformers<3.0.0,>=2.6.1->llama-index-embeddings-huggingface) (1.11.1)\n",
      "Requirement already satisfied: aiosignal>=1.1.2 in c:\\users\\afafc\\anaconda3\\lib\\site-packages (from aiohttp->huggingface-hub[inference]>=0.19.0->llama-index-embeddings-huggingface) (1.2.0)\n",
      "Requirement already satisfied: attrs>=17.3.0 in c:\\users\\afafc\\anaconda3\\lib\\site-packages (from aiohttp->huggingface-hub[inference]>=0.19.0->llama-index-embeddings-huggingface) (23.2.0)\n",
      "Requirement already satisfied: frozenlist>=1.1.1 in c:\\users\\afafc\\anaconda3\\lib\\site-packages (from aiohttp->huggingface-hub[inference]>=0.19.0->llama-index-embeddings-huggingface) (1.3.3)\n",
      "Requirement already satisfied: multidict<7.0,>=4.5 in c:\\users\\afafc\\anaconda3\\lib\\site-packages (from aiohttp->huggingface-hub[inference]>=0.19.0->llama-index-embeddings-huggingface) (6.0.2)\n",
      "Requirement already satisfied: yarl<2.0,>=1.0 in c:\\users\\afafc\\anaconda3\\lib\\site-packages (from aiohttp->huggingface-hub[inference]>=0.19.0->llama-index-embeddings-huggingface) (1.8.1)\n",
      "Requirement already satisfied: pydantic>=1.10 in c:\\users\\afafc\\anaconda3\\lib\\site-packages (from llamaindex-py-client<0.2.0,>=0.1.18->llama-index-core<0.11.0,>=0.10.1->llama-index-embeddings-huggingface) (1.10.8)\n",
      "Requirement already satisfied: anyio in c:\\users\\afafc\\anaconda3\\lib\\site-packages (from httpx->llama-index-core<0.11.0,>=0.10.1->llama-index-embeddings-huggingface) (3.5.0)\n",
      "Requirement already satisfied: certifi in c:\\users\\afafc\\anaconda3\\lib\\site-packages (from httpx->llama-index-core<0.11.0,>=0.10.1->llama-index-embeddings-huggingface) (2023.11.17)\n",
      "Requirement already satisfied: httpcore==1.* in c:\\users\\afafc\\anaconda3\\lib\\site-packages (from httpx->llama-index-core<0.11.0,>=0.10.1->llama-index-embeddings-huggingface) (1.0.5)\n",
      "Requirement already satisfied: idna in c:\\users\\afafc\\anaconda3\\lib\\site-packages (from httpx->llama-index-core<0.11.0,>=0.10.1->llama-index-embeddings-huggingface) (3.4)\n",
      "Requirement already satisfied: sniffio in c:\\users\\afafc\\anaconda3\\lib\\site-packages (from httpx->llama-index-core<0.11.0,>=0.10.1->llama-index-embeddings-huggingface) (1.3.1)\n",
      "Requirement already satisfied: h11<0.15,>=0.13 in c:\\users\\afafc\\anaconda3\\lib\\site-packages (from httpcore==1.*->httpx->llama-index-core<0.11.0,>=0.10.1->llama-index-embeddings-huggingface) (0.14.0)\n",
      "Requirement already satisfied: click in c:\\users\\afafc\\anaconda3\\lib\\site-packages (from nltk<4.0.0,>=3.8.1->llama-index-core<0.11.0,>=0.10.1->llama-index-embeddings-huggingface) (8.0.4)\n",
      "Requirement already satisfied: joblib in c:\\users\\afafc\\anaconda3\\lib\\site-packages (from nltk<4.0.0,>=3.8.1->llama-index-core<0.11.0,>=0.10.1->llama-index-embeddings-huggingface) (1.2.0)\n",
      "Requirement already satisfied: regex>=2021.8.3 in c:\\users\\afafc\\anaconda3\\lib\\site-packages (from nltk<4.0.0,>=3.8.1->llama-index-core<0.11.0,>=0.10.1->llama-index-embeddings-huggingface) (2022.7.9)\n",
      "Requirement already satisfied: distro<2,>=1.7.0 in c:\\users\\afafc\\anaconda3\\lib\\site-packages (from openai>=1.1.0->llama-index-core<0.11.0,>=0.10.1->llama-index-embeddings-huggingface) (1.9.0)\n",
      "Requirement already satisfied: charset-normalizer<4,>=2 in c:\\users\\afafc\\anaconda3\\lib\\site-packages (from requests->huggingface-hub[inference]>=0.19.0->llama-index-embeddings-huggingface) (3.3.2)\n",
      "Requirement already satisfied: urllib3<3,>=1.21.1 in c:\\users\\afafc\\anaconda3\\lib\\site-packages (from requests->huggingface-hub[inference]>=0.19.0->llama-index-embeddings-huggingface) (2.2.1)\n",
      "Requirement already satisfied: greenlet!=0.4.17 in c:\\users\\afafc\\anaconda3\\lib\\site-packages (from SQLAlchemy[asyncio]>=1.4.49->llama-index-core<0.11.0,>=0.10.1->llama-index-embeddings-huggingface) (3.0.3)\n",
      "Requirement already satisfied: sympy in c:\\users\\afafc\\anaconda3\\lib\\site-packages (from torch>=1.11.0->sentence-transformers<3.0.0,>=2.6.1->llama-index-embeddings-huggingface) (1.11.1)\n",
      "Requirement already satisfied: jinja2 in c:\\users\\afafc\\anaconda3\\lib\\site-packages (from torch>=1.11.0->sentence-transformers<3.0.0,>=2.6.1->llama-index-embeddings-huggingface) (3.1.2)\n",
      "Requirement already satisfied: colorama in c:\\users\\afafc\\anaconda3\\lib\\site-packages (from tqdm>=4.42.1->huggingface-hub[inference]>=0.19.0->llama-index-embeddings-huggingface) (0.4.6)\n",
      "Requirement already satisfied: tokenizers<0.20,>=0.19 in c:\\users\\afafc\\anaconda3\\lib\\site-packages (from transformers<5.0.0,>=4.34.0->sentence-transformers<3.0.0,>=2.6.1->llama-index-embeddings-huggingface) (0.19.1)\n",
      "Requirement already satisfied: safetensors>=0.4.1 in c:\\users\\afafc\\anaconda3\\lib\\site-packages (from transformers<5.0.0,>=4.34.0->sentence-transformers<3.0.0,>=2.6.1->llama-index-embeddings-huggingface) (0.4.3)\n",
      "Requirement already satisfied: mypy-extensions>=0.3.0 in c:\\users\\afafc\\anaconda3\\lib\\site-packages (from typing-inspect>=0.8.0->llama-index-core<0.11.0,>=0.10.1->llama-index-embeddings-huggingface) (1.0.0)\n",
      "Requirement already satisfied: marshmallow<4.0.0,>=3.18.0 in c:\\users\\afafc\\anaconda3\\lib\\site-packages (from dataclasses-json->llama-index-core<0.11.0,>=0.10.1->llama-index-embeddings-huggingface) (3.21.2)\n",
      "Requirement already satisfied: python-dateutil>=2.8.2 in c:\\users\\afafc\\anaconda3\\lib\\site-packages (from pandas->llama-index-core<0.11.0,>=0.10.1->llama-index-embeddings-huggingface) (2.8.2)\n",
      "Requirement already satisfied: pytz>=2020.1 in c:\\users\\afafc\\anaconda3\\lib\\site-packages (from pandas->llama-index-core<0.11.0,>=0.10.1->llama-index-embeddings-huggingface) (2023.3.post1)\n",
      "Requirement already satisfied: tzdata>=2022.1 in c:\\users\\afafc\\anaconda3\\lib\\site-packages (from pandas->llama-index-core<0.11.0,>=0.10.1->llama-index-embeddings-huggingface) (2023.3)\n",
      "Requirement already satisfied: threadpoolctl>=2.0.0 in c:\\users\\afafc\\anaconda3\\lib\\site-packages (from scikit-learn->sentence-transformers<3.0.0,>=2.6.1->llama-index-embeddings-huggingface) (2.2.0)\n",
      "Requirement already satisfied: six>=1.5 in c:\\users\\afafc\\anaconda3\\lib\\site-packages (from python-dateutil>=2.8.2->pandas->llama-index-core<0.11.0,>=0.10.1->llama-index-embeddings-huggingface) (1.16.0)\n",
      "Requirement already satisfied: MarkupSafe>=2.0 in c:\\users\\afafc\\anaconda3\\lib\\site-packages (from jinja2->torch>=1.11.0->sentence-transformers<3.0.0,>=2.6.1->llama-index-embeddings-huggingface) (2.1.1)\n",
      "Requirement already satisfied: mpmath>=0.19 in c:\\users\\afafc\\anaconda3\\lib\\site-packages (from sympy->torch>=1.11.0->sentence-transformers<3.0.0,>=2.6.1->llama-index-embeddings-huggingface) (1.3.0)\n",
      "Requirement already satisfied: llama-index-llms-ollama in c:\\users\\afafc\\anaconda3\\lib\\site-packages (0.1.5)\n",
      "Requirement already satisfied: llama-index-core<0.11.0,>=0.10.1 in c:\\users\\afafc\\anaconda3\\lib\\site-packages (from llama-index-llms-ollama) (0.10.43)\n",
      "Requirement already satisfied: PyYAML>=6.0.1 in c:\\users\\afafc\\anaconda3\\lib\\site-packages (from llama-index-core<0.11.0,>=0.10.1->llama-index-llms-ollama) (6.0.1)\n",
      "Requirement already satisfied: SQLAlchemy[asyncio]>=1.4.49 in c:\\users\\afafc\\anaconda3\\lib\\site-packages (from llama-index-core<0.11.0,>=0.10.1->llama-index-llms-ollama) (2.0.30)\n",
      "Requirement already satisfied: aiohttp<4.0.0,>=3.8.6 in c:\\users\\afafc\\anaconda3\\lib\\site-packages (from llama-index-core<0.11.0,>=0.10.1->llama-index-llms-ollama) (3.9.5)\n",
      "Requirement already satisfied: dataclasses-json in c:\\users\\afafc\\anaconda3\\lib\\site-packages (from llama-index-core<0.11.0,>=0.10.1->llama-index-llms-ollama) (0.6.6)\n",
      "Requirement already satisfied: deprecated>=1.2.9.3 in c:\\users\\afafc\\anaconda3\\lib\\site-packages (from llama-index-core<0.11.0,>=0.10.1->llama-index-llms-ollama) (1.2.14)\n",
      "Requirement already satisfied: dirtyjson<2.0.0,>=1.0.8 in c:\\users\\afafc\\anaconda3\\lib\\site-packages (from llama-index-core<0.11.0,>=0.10.1->llama-index-llms-ollama) (1.0.8)\n",
      "Requirement already satisfied: fsspec>=2023.5.0 in c:\\users\\afafc\\anaconda3\\lib\\site-packages (from llama-index-core<0.11.0,>=0.10.1->llama-index-llms-ollama) (2024.5.0)\n",
      "Requirement already satisfied: httpx in c:\\users\\afafc\\anaconda3\\lib\\site-packages (from llama-index-core<0.11.0,>=0.10.1->llama-index-llms-ollama) (0.27.0)\n",
      "Requirement already satisfied: llamaindex-py-client<0.2.0,>=0.1.18 in c:\\users\\afafc\\anaconda3\\lib\\site-packages (from llama-index-core<0.11.0,>=0.10.1->llama-index-llms-ollama) (0.1.19)\n",
      "Requirement already satisfied: nest-asyncio<2.0.0,>=1.5.8 in c:\\users\\afafc\\anaconda3\\lib\\site-packages (from llama-index-core<0.11.0,>=0.10.1->llama-index-llms-ollama) (1.6.0)\n",
      "Requirement already satisfied: networkx>=3.0 in c:\\users\\afafc\\anaconda3\\lib\\site-packages (from llama-index-core<0.11.0,>=0.10.1->llama-index-llms-ollama) (3.1)\n",
      "Requirement already satisfied: nltk<4.0.0,>=3.8.1 in c:\\users\\afafc\\anaconda3\\lib\\site-packages (from llama-index-core<0.11.0,>=0.10.1->llama-index-llms-ollama) (3.8.1)\n",
      "Requirement already satisfied: numpy in c:\\users\\afafc\\anaconda3\\lib\\site-packages (from llama-index-core<0.11.0,>=0.10.1->llama-index-llms-ollama) (1.24.3)\n",
      "Requirement already satisfied: openai>=1.1.0 in c:\\users\\afafc\\anaconda3\\lib\\site-packages (from llama-index-core<0.11.0,>=0.10.1->llama-index-llms-ollama) (1.30.5)\n",
      "Requirement already satisfied: pandas in c:\\users\\afafc\\anaconda3\\lib\\site-packages (from llama-index-core<0.11.0,>=0.10.1->llama-index-llms-ollama) (2.0.3)\n",
      "Requirement already satisfied: pillow>=9.0.0 in c:\\users\\afafc\\anaconda3\\lib\\site-packages (from llama-index-core<0.11.0,>=0.10.1->llama-index-llms-ollama) (9.4.0)\n",
      "Requirement already satisfied: requests>=2.31.0 in c:\\users\\afafc\\anaconda3\\lib\\site-packages (from llama-index-core<0.11.0,>=0.10.1->llama-index-llms-ollama) (2.31.0)\n",
      "Requirement already satisfied: tenacity<9.0.0,>=8.2.0 in c:\\users\\afafc\\anaconda3\\lib\\site-packages (from llama-index-core<0.11.0,>=0.10.1->llama-index-llms-ollama) (8.2.2)\n",
      "Requirement already satisfied: tiktoken>=0.3.3 in c:\\users\\afafc\\anaconda3\\lib\\site-packages (from llama-index-core<0.11.0,>=0.10.1->llama-index-llms-ollama) (0.7.0)\n",
      "Requirement already satisfied: tqdm<5.0.0,>=4.66.1 in c:\\users\\afafc\\anaconda3\\lib\\site-packages (from llama-index-core<0.11.0,>=0.10.1->llama-index-llms-ollama) (4.66.4)\n",
      "Requirement already satisfied: typing-extensions>=4.5.0 in c:\\users\\afafc\\anaconda3\\lib\\site-packages (from llama-index-core<0.11.0,>=0.10.1->llama-index-llms-ollama) (4.12.1)\n",
      "Requirement already satisfied: typing-inspect>=0.8.0 in c:\\users\\afafc\\anaconda3\\lib\\site-packages (from llama-index-core<0.11.0,>=0.10.1->llama-index-llms-ollama) (0.9.0)\n",
      "Requirement already satisfied: wrapt in c:\\users\\afafc\\anaconda3\\lib\\site-packages (from llama-index-core<0.11.0,>=0.10.1->llama-index-llms-ollama) (1.14.1)\n",
      "Requirement already satisfied: aiosignal>=1.1.2 in c:\\users\\afafc\\anaconda3\\lib\\site-packages (from aiohttp<4.0.0,>=3.8.6->llama-index-core<0.11.0,>=0.10.1->llama-index-llms-ollama) (1.2.0)\n",
      "Requirement already satisfied: attrs>=17.3.0 in c:\\users\\afafc\\anaconda3\\lib\\site-packages (from aiohttp<4.0.0,>=3.8.6->llama-index-core<0.11.0,>=0.10.1->llama-index-llms-ollama) (23.2.0)\n",
      "Requirement already satisfied: frozenlist>=1.1.1 in c:\\users\\afafc\\anaconda3\\lib\\site-packages (from aiohttp<4.0.0,>=3.8.6->llama-index-core<0.11.0,>=0.10.1->llama-index-llms-ollama) (1.3.3)\n",
      "Requirement already satisfied: multidict<7.0,>=4.5 in c:\\users\\afafc\\anaconda3\\lib\\site-packages (from aiohttp<4.0.0,>=3.8.6->llama-index-core<0.11.0,>=0.10.1->llama-index-llms-ollama) (6.0.2)\n",
      "Requirement already satisfied: yarl<2.0,>=1.0 in c:\\users\\afafc\\anaconda3\\lib\\site-packages (from aiohttp<4.0.0,>=3.8.6->llama-index-core<0.11.0,>=0.10.1->llama-index-llms-ollama) (1.8.1)\n",
      "Requirement already satisfied: pydantic>=1.10 in c:\\users\\afafc\\anaconda3\\lib\\site-packages (from llamaindex-py-client<0.2.0,>=0.1.18->llama-index-core<0.11.0,>=0.10.1->llama-index-llms-ollama) (1.10.8)\n",
      "Requirement already satisfied: anyio in c:\\users\\afafc\\anaconda3\\lib\\site-packages (from httpx->llama-index-core<0.11.0,>=0.10.1->llama-index-llms-ollama) (3.5.0)\n",
      "Requirement already satisfied: certifi in c:\\users\\afafc\\anaconda3\\lib\\site-packages (from httpx->llama-index-core<0.11.0,>=0.10.1->llama-index-llms-ollama) (2023.11.17)\n",
      "Requirement already satisfied: httpcore==1.* in c:\\users\\afafc\\anaconda3\\lib\\site-packages (from httpx->llama-index-core<0.11.0,>=0.10.1->llama-index-llms-ollama) (1.0.5)\n",
      "Requirement already satisfied: idna in c:\\users\\afafc\\anaconda3\\lib\\site-packages (from httpx->llama-index-core<0.11.0,>=0.10.1->llama-index-llms-ollama) (3.4)\n",
      "Requirement already satisfied: sniffio in c:\\users\\afafc\\anaconda3\\lib\\site-packages (from httpx->llama-index-core<0.11.0,>=0.10.1->llama-index-llms-ollama) (1.3.1)\n",
      "Requirement already satisfied: h11<0.15,>=0.13 in c:\\users\\afafc\\anaconda3\\lib\\site-packages (from httpcore==1.*->httpx->llama-index-core<0.11.0,>=0.10.1->llama-index-llms-ollama) (0.14.0)\n",
      "Requirement already satisfied: click in c:\\users\\afafc\\anaconda3\\lib\\site-packages (from nltk<4.0.0,>=3.8.1->llama-index-core<0.11.0,>=0.10.1->llama-index-llms-ollama) (8.0.4)\n",
      "Requirement already satisfied: joblib in c:\\users\\afafc\\anaconda3\\lib\\site-packages (from nltk<4.0.0,>=3.8.1->llama-index-core<0.11.0,>=0.10.1->llama-index-llms-ollama) (1.2.0)\n",
      "Requirement already satisfied: regex>=2021.8.3 in c:\\users\\afafc\\anaconda3\\lib\\site-packages (from nltk<4.0.0,>=3.8.1->llama-index-core<0.11.0,>=0.10.1->llama-index-llms-ollama) (2022.7.9)\n",
      "Requirement already satisfied: distro<2,>=1.7.0 in c:\\users\\afafc\\anaconda3\\lib\\site-packages (from openai>=1.1.0->llama-index-core<0.11.0,>=0.10.1->llama-index-llms-ollama) (1.9.0)\n",
      "Requirement already satisfied: charset-normalizer<4,>=2 in c:\\users\\afafc\\anaconda3\\lib\\site-packages (from requests>=2.31.0->llama-index-core<0.11.0,>=0.10.1->llama-index-llms-ollama) (3.3.2)\n",
      "Requirement already satisfied: urllib3<3,>=1.21.1 in c:\\users\\afafc\\anaconda3\\lib\\site-packages (from requests>=2.31.0->llama-index-core<0.11.0,>=0.10.1->llama-index-llms-ollama) (2.2.1)\n",
      "Requirement already satisfied: greenlet!=0.4.17 in c:\\users\\afafc\\anaconda3\\lib\\site-packages (from SQLAlchemy[asyncio]>=1.4.49->llama-index-core<0.11.0,>=0.10.1->llama-index-llms-ollama) (3.0.3)\n",
      "Requirement already satisfied: colorama in c:\\users\\afafc\\anaconda3\\lib\\site-packages (from tqdm<5.0.0,>=4.66.1->llama-index-core<0.11.0,>=0.10.1->llama-index-llms-ollama) (0.4.6)\n",
      "Requirement already satisfied: mypy-extensions>=0.3.0 in c:\\users\\afafc\\anaconda3\\lib\\site-packages (from typing-inspect>=0.8.0->llama-index-core<0.11.0,>=0.10.1->llama-index-llms-ollama) (1.0.0)\n",
      "Requirement already satisfied: marshmallow<4.0.0,>=3.18.0 in c:\\users\\afafc\\anaconda3\\lib\\site-packages (from dataclasses-json->llama-index-core<0.11.0,>=0.10.1->llama-index-llms-ollama) (3.21.2)\n",
      "Requirement already satisfied: python-dateutil>=2.8.2 in c:\\users\\afafc\\anaconda3\\lib\\site-packages (from pandas->llama-index-core<0.11.0,>=0.10.1->llama-index-llms-ollama) (2.8.2)\n",
      "Requirement already satisfied: pytz>=2020.1 in c:\\users\\afafc\\anaconda3\\lib\\site-packages (from pandas->llama-index-core<0.11.0,>=0.10.1->llama-index-llms-ollama) (2023.3.post1)\n",
      "Requirement already satisfied: tzdata>=2022.1 in c:\\users\\afafc\\anaconda3\\lib\\site-packages (from pandas->llama-index-core<0.11.0,>=0.10.1->llama-index-llms-ollama) (2023.3)\n",
      "Requirement already satisfied: packaging>=17.0 in c:\\users\\afafc\\anaconda3\\lib\\site-packages (from marshmallow<4.0.0,>=3.18.0->dataclasses-json->llama-index-core<0.11.0,>=0.10.1->llama-index-llms-ollama) (23.2)\n",
      "Requirement already satisfied: six>=1.5 in c:\\users\\afafc\\anaconda3\\lib\\site-packages (from python-dateutil>=2.8.2->pandas->llama-index-core<0.11.0,>=0.10.1->llama-index-llms-ollama) (1.16.0)\n",
      "Collecting llama-index-vector-stores-chroma\n",
      "  Obtaining dependency information for llama-index-vector-stores-chroma from https://files.pythonhosted.org/packages/df/b1/a8b06770de7eb8ddd3656b08c16884c43099aa9b140754e894dcb7528d8c/llama_index_vector_stores_chroma-0.1.8-py3-none-any.whl.metadata\n",
      "  Downloading llama_index_vector_stores_chroma-0.1.8-py3-none-any.whl.metadata (653 bytes)\n",
      "Collecting chromadb<0.6.0,>=0.4.0 (from llama-index-vector-stores-chroma)\n",
      "  Obtaining dependency information for chromadb<0.6.0,>=0.4.0 from https://files.pythonhosted.org/packages/a4/e1/ce276f553811bd6c684cfe5f637a33ae6444750746f974a8f73d5dc92004/chromadb-0.5.0-py3-none-any.whl.metadata\n",
      "  Downloading chromadb-0.5.0-py3-none-any.whl.metadata (7.3 kB)\n",
      "Requirement already satisfied: llama-index-core<0.11.0,>=0.10.1 in c:\\users\\afafc\\anaconda3\\lib\\site-packages (from llama-index-vector-stores-chroma) (0.10.43)\n",
      "Collecting build>=1.0.3 (from chromadb<0.6.0,>=0.4.0->llama-index-vector-stores-chroma)\n",
      "  Obtaining dependency information for build>=1.0.3 from https://files.pythonhosted.org/packages/e2/03/f3c8ba0a6b6e30d7d18c40faab90807c9bb5e9a1e3b2fe2008af624a9c97/build-1.2.1-py3-none-any.whl.metadata\n",
      "  Downloading build-1.2.1-py3-none-any.whl.metadata (4.3 kB)\n",
      "Requirement already satisfied: requests>=2.28 in c:\\users\\afafc\\anaconda3\\lib\\site-packages (from chromadb<0.6.0,>=0.4.0->llama-index-vector-stores-chroma) (2.31.0)\n",
      "Requirement already satisfied: pydantic>=1.9 in c:\\users\\afafc\\anaconda3\\lib\\site-packages (from chromadb<0.6.0,>=0.4.0->llama-index-vector-stores-chroma) (1.10.8)\n",
      "Collecting chroma-hnswlib==0.7.3 (from chromadb<0.6.0,>=0.4.0->llama-index-vector-stores-chroma)\n",
      "  Obtaining dependency information for chroma-hnswlib==0.7.3 from https://files.pythonhosted.org/packages/d2/32/a91850c7aa8a34f61838913155103808fe90da6f1ea4302731b59e9ba6f2/chroma_hnswlib-0.7.3-cp311-cp311-win_amd64.whl.metadata\n",
      "  Downloading chroma_hnswlib-0.7.3-cp311-cp311-win_amd64.whl.metadata (262 bytes)\n",
      "Collecting fastapi>=0.95.2 (from chromadb<0.6.0,>=0.4.0->llama-index-vector-stores-chroma)\n",
      "  Obtaining dependency information for fastapi>=0.95.2 from https://files.pythonhosted.org/packages/e6/33/de41e554e5a187d583906e10d53bfae5fd6c07e98cbf4fe5262bd37e739a/fastapi-0.111.0-py3-none-any.whl.metadata\n",
      "  Downloading fastapi-0.111.0-py3-none-any.whl.metadata (25 kB)\n",
      "Collecting uvicorn[standard]>=0.18.3 (from chromadb<0.6.0,>=0.4.0->llama-index-vector-stores-chroma)\n",
      "  Obtaining dependency information for uvicorn[standard]>=0.18.3 from https://files.pythonhosted.org/packages/b2/f9/e6f30ba6094733e4f9794fd098ca0543a19b07ac1fa3075d595bf0f1fb60/uvicorn-0.30.1-py3-none-any.whl.metadata\n",
      "  Downloading uvicorn-0.30.1-py3-none-any.whl.metadata (6.3 kB)\n",
      "Requirement already satisfied: numpy>=1.22.5 in c:\\users\\afafc\\anaconda3\\lib\\site-packages (from chromadb<0.6.0,>=0.4.0->llama-index-vector-stores-chroma) (1.24.3)\n",
      "Collecting posthog>=2.4.0 (from chromadb<0.6.0,>=0.4.0->llama-index-vector-stores-chroma)\n",
      "  Obtaining dependency information for posthog>=2.4.0 from https://files.pythonhosted.org/packages/6c/5f/24cb22118db0e11703b6b80ef9f982eadde21eb585c3a769719e48dce893/posthog-3.5.0-py2.py3-none-any.whl.metadata\n",
      "  Downloading posthog-3.5.0-py2.py3-none-any.whl.metadata (2.0 kB)\n",
      "Requirement already satisfied: typing-extensions>=4.5.0 in c:\\users\\afafc\\anaconda3\\lib\\site-packages (from chromadb<0.6.0,>=0.4.0->llama-index-vector-stores-chroma) (4.12.1)\n",
      "Collecting onnxruntime>=1.14.1 (from chromadb<0.6.0,>=0.4.0->llama-index-vector-stores-chroma)\n",
      "  Obtaining dependency information for onnxruntime>=1.14.1 from https://files.pythonhosted.org/packages/ba/2b/6c91bb0faab247f4e7c2c19066a0465489c46502509d71b4bca748d69d25/onnxruntime-1.18.0-cp311-cp311-win_amd64.whl.metadata\n",
      "  Using cached onnxruntime-1.18.0-cp311-cp311-win_amd64.whl.metadata (4.4 kB)\n",
      "Collecting opentelemetry-api>=1.2.0 (from chromadb<0.6.0,>=0.4.0->llama-index-vector-stores-chroma)\n",
      "  Obtaining dependency information for opentelemetry-api>=1.2.0 from https://files.pythonhosted.org/packages/7e/b2/4bc5e52c9a23df0ac17dbb23923e609a8269cd67000a712b4f5bcfae1490/opentelemetry_api-1.25.0-py3-none-any.whl.metadata\n",
      "  Downloading opentelemetry_api-1.25.0-py3-none-any.whl.metadata (1.4 kB)\n",
      "Collecting opentelemetry-exporter-otlp-proto-grpc>=1.2.0 (from chromadb<0.6.0,>=0.4.0->llama-index-vector-stores-chroma)\n",
      "  Obtaining dependency information for opentelemetry-exporter-otlp-proto-grpc>=1.2.0 from https://files.pythonhosted.org/packages/b0/f3/e24294e7b3f6d2b9aafc97b9b82e214dfe9ffa152dfecbd897e7ffbf6844/opentelemetry_exporter_otlp_proto_grpc-1.25.0-py3-none-any.whl.metadata\n",
      "  Downloading opentelemetry_exporter_otlp_proto_grpc-1.25.0-py3-none-any.whl.metadata (2.2 kB)\n",
      "Collecting opentelemetry-instrumentation-fastapi>=0.41b0 (from chromadb<0.6.0,>=0.4.0->llama-index-vector-stores-chroma)\n",
      "  Obtaining dependency information for opentelemetry-instrumentation-fastapi>=0.41b0 from https://files.pythonhosted.org/packages/b8/96/905d575947342c4fd6781a28f6d7bc7f4f6670d45e3b1a85f8a06955c9ae/opentelemetry_instrumentation_fastapi-0.46b0-py3-none-any.whl.metadata\n",
      "  Downloading opentelemetry_instrumentation_fastapi-0.46b0-py3-none-any.whl.metadata (2.0 kB)\n",
      "Collecting opentelemetry-sdk>=1.2.0 (from chromadb<0.6.0,>=0.4.0->llama-index-vector-stores-chroma)\n",
      "  Obtaining dependency information for opentelemetry-sdk>=1.2.0 from https://files.pythonhosted.org/packages/ae/b2/729a959a8aa032bce246c791f977161099ab60fb0188408ccec1bf283b00/opentelemetry_sdk-1.25.0-py3-none-any.whl.metadata\n",
      "  Downloading opentelemetry_sdk-1.25.0-py3-none-any.whl.metadata (1.4 kB)\n",
      "Requirement already satisfied: tokenizers>=0.13.2 in c:\\users\\afafc\\anaconda3\\lib\\site-packages (from chromadb<0.6.0,>=0.4.0->llama-index-vector-stores-chroma) (0.19.1)\n",
      "Collecting pypika>=0.48.9 (from chromadb<0.6.0,>=0.4.0->llama-index-vector-stores-chroma)\n",
      "  Downloading PyPika-0.48.9.tar.gz (67 kB)\n",
      "     ---------------------------------------- 0.0/67.3 kB ? eta -:--:--\n",
      "     ---------------------------------------- 67.3/67.3 kB 3.6 MB/s eta 0:00:00\n",
      "  Installing build dependencies: started\n",
      "  Installing build dependencies: finished with status 'done'\n",
      "  Getting requirements to build wheel: started\n",
      "  Getting requirements to build wheel: finished with status 'done'\n",
      "  Preparing metadata (pyproject.toml): started\n",
      "  Preparing metadata (pyproject.toml): finished with status 'done'\n",
      "Requirement already satisfied: tqdm>=4.65.0 in c:\\users\\afafc\\anaconda3\\lib\\site-packages (from chromadb<0.6.0,>=0.4.0->llama-index-vector-stores-chroma) (4.66.4)\n",
      "Collecting overrides>=7.3.1 (from chromadb<0.6.0,>=0.4.0->llama-index-vector-stores-chroma)\n",
      "  Obtaining dependency information for overrides>=7.3.1 from https://files.pythonhosted.org/packages/2c/ab/fc8290c6a4c722e5514d80f62b2dc4c4df1a68a41d1364e625c35990fcf3/overrides-7.7.0-py3-none-any.whl.metadata\n",
      "  Downloading overrides-7.7.0-py3-none-any.whl.metadata (5.8 kB)\n",
      "Collecting importlib-resources (from chromadb<0.6.0,>=0.4.0->llama-index-vector-stores-chroma)\n",
      "  Obtaining dependency information for importlib-resources from https://files.pythonhosted.org/packages/75/06/4df55e1b7b112d183f65db9503bff189e97179b256e1ea450a3c365241e0/importlib_resources-6.4.0-py3-none-any.whl.metadata\n",
      "  Downloading importlib_resources-6.4.0-py3-none-any.whl.metadata (3.9 kB)\n",
      "Collecting grpcio>=1.58.0 (from chromadb<0.6.0,>=0.4.0->llama-index-vector-stores-chroma)\n",
      "  Obtaining dependency information for grpcio>=1.58.0 from https://files.pythonhosted.org/packages/d4/f0/4a936fbe350bead6fa885c9dcb2c269a85603dc0cbeb35cbcf107c123131/grpcio-1.64.1-cp311-cp311-win_amd64.whl.metadata\n",
      "  Using cached grpcio-1.64.1-cp311-cp311-win_amd64.whl.metadata (3.4 kB)\n",
      "Collecting bcrypt>=4.0.1 (from chromadb<0.6.0,>=0.4.0->llama-index-vector-stores-chroma)\n",
      "  Obtaining dependency information for bcrypt>=4.0.1 from https://files.pythonhosted.org/packages/b1/46/fada28872f3f3e121868f4cd2d61dcdc7085a07821debf1320cafeabc0db/bcrypt-4.1.3-cp39-abi3-win_amd64.whl.metadata\n",
      "  Downloading bcrypt-4.1.3-cp39-abi3-win_amd64.whl.metadata (9.8 kB)\n",
      "Collecting typer>=0.9.0 (from chromadb<0.6.0,>=0.4.0->llama-index-vector-stores-chroma)\n",
      "  Obtaining dependency information for typer>=0.9.0 from https://files.pythonhosted.org/packages/20/b5/11cf2e34fbb11b937e006286ab5b8cfd334fde1c8fa4dd7f491226931180/typer-0.12.3-py3-none-any.whl.metadata\n",
      "  Downloading typer-0.12.3-py3-none-any.whl.metadata (15 kB)\n",
      "Collecting kubernetes>=28.1.0 (from chromadb<0.6.0,>=0.4.0->llama-index-vector-stores-chroma)\n",
      "  Obtaining dependency information for kubernetes>=28.1.0 from https://files.pythonhosted.org/packages/6f/34/164e57fec8a9693d7e6ae2d1a345482020ea9e9b32eab95a90bb3eaea83d/kubernetes-29.0.0-py2.py3-none-any.whl.metadata\n",
      "  Downloading kubernetes-29.0.0-py2.py3-none-any.whl.metadata (1.5 kB)\n",
      "Collecting tenacity>=8.2.3 (from chromadb<0.6.0,>=0.4.0->llama-index-vector-stores-chroma)\n",
      "  Obtaining dependency information for tenacity>=8.2.3 from https://files.pythonhosted.org/packages/61/a1/6bb0cbebefb23641f068bb58a2bc56da9beb2b1c550242e3c540b37698f3/tenacity-8.3.0-py3-none-any.whl.metadata\n",
      "  Downloading tenacity-8.3.0-py3-none-any.whl.metadata (1.2 kB)\n",
      "Requirement already satisfied: PyYAML>=6.0.0 in c:\\users\\afafc\\anaconda3\\lib\\site-packages (from chromadb<0.6.0,>=0.4.0->llama-index-vector-stores-chroma) (6.0.1)\n",
      "Collecting mmh3>=4.0.1 (from chromadb<0.6.0,>=0.4.0->llama-index-vector-stores-chroma)\n",
      "  Obtaining dependency information for mmh3>=4.0.1 from https://files.pythonhosted.org/packages/d1/b0/500ef56c29b276d796bfdb47c16d34fa18a68945e4d730a6fa7d483583ed/mmh3-4.1.0-cp311-cp311-win_amd64.whl.metadata\n",
      "  Downloading mmh3-4.1.0-cp311-cp311-win_amd64.whl.metadata (13 kB)\n",
      "Requirement already satisfied: orjson>=3.9.12 in c:\\users\\afafc\\anaconda3\\lib\\site-packages (from chromadb<0.6.0,>=0.4.0->llama-index-vector-stores-chroma) (3.10.3)\n",
      "Requirement already satisfied: SQLAlchemy[asyncio]>=1.4.49 in c:\\users\\afafc\\anaconda3\\lib\\site-packages (from llama-index-core<0.11.0,>=0.10.1->llama-index-vector-stores-chroma) (2.0.30)\n",
      "Requirement already satisfied: aiohttp<4.0.0,>=3.8.6 in c:\\users\\afafc\\anaconda3\\lib\\site-packages (from llama-index-core<0.11.0,>=0.10.1->llama-index-vector-stores-chroma) (3.9.5)\n",
      "Requirement already satisfied: dataclasses-json in c:\\users\\afafc\\anaconda3\\lib\\site-packages (from llama-index-core<0.11.0,>=0.10.1->llama-index-vector-stores-chroma) (0.6.6)\n",
      "Requirement already satisfied: deprecated>=1.2.9.3 in c:\\users\\afafc\\anaconda3\\lib\\site-packages (from llama-index-core<0.11.0,>=0.10.1->llama-index-vector-stores-chroma) (1.2.14)\n",
      "Requirement already satisfied: dirtyjson<2.0.0,>=1.0.8 in c:\\users\\afafc\\anaconda3\\lib\\site-packages (from llama-index-core<0.11.0,>=0.10.1->llama-index-vector-stores-chroma) (1.0.8)\n",
      "Requirement already satisfied: fsspec>=2023.5.0 in c:\\users\\afafc\\anaconda3\\lib\\site-packages (from llama-index-core<0.11.0,>=0.10.1->llama-index-vector-stores-chroma) (2024.5.0)\n",
      "Requirement already satisfied: httpx in c:\\users\\afafc\\anaconda3\\lib\\site-packages (from llama-index-core<0.11.0,>=0.10.1->llama-index-vector-stores-chroma) (0.27.0)\n",
      "Requirement already satisfied: llamaindex-py-client<0.2.0,>=0.1.18 in c:\\users\\afafc\\anaconda3\\lib\\site-packages (from llama-index-core<0.11.0,>=0.10.1->llama-index-vector-stores-chroma) (0.1.19)\n",
      "Requirement already satisfied: nest-asyncio<2.0.0,>=1.5.8 in c:\\users\\afafc\\anaconda3\\lib\\site-packages (from llama-index-core<0.11.0,>=0.10.1->llama-index-vector-stores-chroma) (1.6.0)\n",
      "Requirement already satisfied: networkx>=3.0 in c:\\users\\afafc\\anaconda3\\lib\\site-packages (from llama-index-core<0.11.0,>=0.10.1->llama-index-vector-stores-chroma) (3.1)\n",
      "Requirement already satisfied: nltk<4.0.0,>=3.8.1 in c:\\users\\afafc\\anaconda3\\lib\\site-packages (from llama-index-core<0.11.0,>=0.10.1->llama-index-vector-stores-chroma) (3.8.1)\n",
      "Requirement already satisfied: openai>=1.1.0 in c:\\users\\afafc\\anaconda3\\lib\\site-packages (from llama-index-core<0.11.0,>=0.10.1->llama-index-vector-stores-chroma) (1.30.5)\n",
      "Requirement already satisfied: pandas in c:\\users\\afafc\\anaconda3\\lib\\site-packages (from llama-index-core<0.11.0,>=0.10.1->llama-index-vector-stores-chroma) (2.0.3)\n",
      "Requirement already satisfied: pillow>=9.0.0 in c:\\users\\afafc\\anaconda3\\lib\\site-packages (from llama-index-core<0.11.0,>=0.10.1->llama-index-vector-stores-chroma) (9.4.0)\n",
      "Requirement already satisfied: tiktoken>=0.3.3 in c:\\users\\afafc\\anaconda3\\lib\\site-packages (from llama-index-core<0.11.0,>=0.10.1->llama-index-vector-stores-chroma) (0.7.0)\n",
      "Requirement already satisfied: typing-inspect>=0.8.0 in c:\\users\\afafc\\anaconda3\\lib\\site-packages (from llama-index-core<0.11.0,>=0.10.1->llama-index-vector-stores-chroma) (0.9.0)\n",
      "Requirement already satisfied: wrapt in c:\\users\\afafc\\anaconda3\\lib\\site-packages (from llama-index-core<0.11.0,>=0.10.1->llama-index-vector-stores-chroma) (1.14.1)\n",
      "Requirement already satisfied: aiosignal>=1.1.2 in c:\\users\\afafc\\anaconda3\\lib\\site-packages (from aiohttp<4.0.0,>=3.8.6->llama-index-core<0.11.0,>=0.10.1->llama-index-vector-stores-chroma) (1.2.0)\n",
      "Requirement already satisfied: attrs>=17.3.0 in c:\\users\\afafc\\anaconda3\\lib\\site-packages (from aiohttp<4.0.0,>=3.8.6->llama-index-core<0.11.0,>=0.10.1->llama-index-vector-stores-chroma) (23.2.0)\n",
      "Requirement already satisfied: frozenlist>=1.1.1 in c:\\users\\afafc\\anaconda3\\lib\\site-packages (from aiohttp<4.0.0,>=3.8.6->llama-index-core<0.11.0,>=0.10.1->llama-index-vector-stores-chroma) (1.3.3)\n",
      "Requirement already satisfied: multidict<7.0,>=4.5 in c:\\users\\afafc\\anaconda3\\lib\\site-packages (from aiohttp<4.0.0,>=3.8.6->llama-index-core<0.11.0,>=0.10.1->llama-index-vector-stores-chroma) (6.0.2)\n",
      "Requirement already satisfied: yarl<2.0,>=1.0 in c:\\users\\afafc\\anaconda3\\lib\\site-packages (from aiohttp<4.0.0,>=3.8.6->llama-index-core<0.11.0,>=0.10.1->llama-index-vector-stores-chroma) (1.8.1)\n",
      "Requirement already satisfied: packaging>=19.1 in c:\\users\\afafc\\anaconda3\\lib\\site-packages (from build>=1.0.3->chromadb<0.6.0,>=0.4.0->llama-index-vector-stores-chroma) (23.2)\n",
      "Collecting pyproject_hooks (from build>=1.0.3->chromadb<0.6.0,>=0.4.0->llama-index-vector-stores-chroma)\n",
      "  Obtaining dependency information for pyproject_hooks from https://files.pythonhosted.org/packages/ae/f3/431b9d5fe7d14af7a32340792ef43b8a714e7726f1d7b69cc4e8e7a3f1d7/pyproject_hooks-1.1.0-py3-none-any.whl.metadata\n",
      "  Downloading pyproject_hooks-1.1.0-py3-none-any.whl.metadata (1.3 kB)\n",
      "Requirement already satisfied: colorama in c:\\users\\afafc\\anaconda3\\lib\\site-packages (from build>=1.0.3->chromadb<0.6.0,>=0.4.0->llama-index-vector-stores-chroma) (0.4.6)\n",
      "Collecting starlette<0.38.0,>=0.37.2 (from fastapi>=0.95.2->chromadb<0.6.0,>=0.4.0->llama-index-vector-stores-chroma)\n",
      "  Obtaining dependency information for starlette<0.38.0,>=0.37.2 from https://files.pythonhosted.org/packages/fd/18/31fa32ed6c68ba66220204ef0be798c349d0a20c1901f9d4a794e08c76d8/starlette-0.37.2-py3-none-any.whl.metadata\n",
      "  Downloading starlette-0.37.2-py3-none-any.whl.metadata (5.9 kB)\n",
      "Collecting fastapi-cli>=0.0.2 (from fastapi>=0.95.2->chromadb<0.6.0,>=0.4.0->llama-index-vector-stores-chroma)\n",
      "  Obtaining dependency information for fastapi-cli>=0.0.2 from https://files.pythonhosted.org/packages/a1/03/89bf615052aa5453c04d952225ded0b88aab6487b9c5f0c268939d13b860/fastapi_cli-0.0.4-py3-none-any.whl.metadata\n",
      "  Downloading fastapi_cli-0.0.4-py3-none-any.whl.metadata (7.0 kB)\n",
      "Requirement already satisfied: jinja2>=2.11.2 in c:\\users\\afafc\\anaconda3\\lib\\site-packages (from fastapi>=0.95.2->chromadb<0.6.0,>=0.4.0->llama-index-vector-stores-chroma) (3.1.2)\n",
      "Collecting python-multipart>=0.0.7 (from fastapi>=0.95.2->chromadb<0.6.0,>=0.4.0->llama-index-vector-stores-chroma)\n",
      "  Obtaining dependency information for python-multipart>=0.0.7 from https://files.pythonhosted.org/packages/3d/47/444768600d9e0ebc82f8e347775d24aef8f6348cf00e9fa0e81910814e6d/python_multipart-0.0.9-py3-none-any.whl.metadata\n",
      "  Using cached python_multipart-0.0.9-py3-none-any.whl.metadata (2.5 kB)\n",
      "Requirement already satisfied: ujson!=4.0.2,!=4.1.0,!=4.2.0,!=4.3.0,!=5.0.0,!=5.1.0,>=4.0.1 in c:\\users\\afafc\\anaconda3\\lib\\site-packages (from fastapi>=0.95.2->chromadb<0.6.0,>=0.4.0->llama-index-vector-stores-chroma) (5.4.0)\n",
      "Collecting email_validator>=2.0.0 (from fastapi>=0.95.2->chromadb<0.6.0,>=0.4.0->llama-index-vector-stores-chroma)\n",
      "  Obtaining dependency information for email_validator>=2.0.0 from https://files.pythonhosted.org/packages/e4/60/b02cb0f5ee0be88bd4fbfdd9cc91e43ec2dfcc47fe064e7c70587ff58a94/email_validator-2.1.1-py3-none-any.whl.metadata\n",
      "  Downloading email_validator-2.1.1-py3-none-any.whl.metadata (26 kB)\n",
      "Requirement already satisfied: anyio in c:\\users\\afafc\\anaconda3\\lib\\site-packages (from httpx->llama-index-core<0.11.0,>=0.10.1->llama-index-vector-stores-chroma) (3.5.0)\n",
      "Requirement already satisfied: certifi in c:\\users\\afafc\\anaconda3\\lib\\site-packages (from httpx->llama-index-core<0.11.0,>=0.10.1->llama-index-vector-stores-chroma) (2023.11.17)\n",
      "Requirement already satisfied: httpcore==1.* in c:\\users\\afafc\\anaconda3\\lib\\site-packages (from httpx->llama-index-core<0.11.0,>=0.10.1->llama-index-vector-stores-chroma) (1.0.5)\n",
      "Requirement already satisfied: idna in c:\\users\\afafc\\anaconda3\\lib\\site-packages (from httpx->llama-index-core<0.11.0,>=0.10.1->llama-index-vector-stores-chroma) (3.4)\n",
      "Requirement already satisfied: sniffio in c:\\users\\afafc\\anaconda3\\lib\\site-packages (from httpx->llama-index-core<0.11.0,>=0.10.1->llama-index-vector-stores-chroma) (1.3.1)\n",
      "Requirement already satisfied: h11<0.15,>=0.13 in c:\\users\\afafc\\anaconda3\\lib\\site-packages (from httpcore==1.*->httpx->llama-index-core<0.11.0,>=0.10.1->llama-index-vector-stores-chroma) (0.14.0)\n",
      "Requirement already satisfied: six>=1.9.0 in c:\\users\\afafc\\anaconda3\\lib\\site-packages (from kubernetes>=28.1.0->chromadb<0.6.0,>=0.4.0->llama-index-vector-stores-chroma) (1.16.0)\n",
      "Requirement already satisfied: python-dateutil>=2.5.3 in c:\\users\\afafc\\anaconda3\\lib\\site-packages (from kubernetes>=28.1.0->chromadb<0.6.0,>=0.4.0->llama-index-vector-stores-chroma) (2.8.2)\n",
      "Collecting google-auth>=1.0.1 (from kubernetes>=28.1.0->chromadb<0.6.0,>=0.4.0->llama-index-vector-stores-chroma)\n",
      "  Obtaining dependency information for google-auth>=1.0.1 from https://files.pythonhosted.org/packages/9e/8d/ddbcf81ec751d8ee5fd18ac11ff38a0e110f39dfbf105e6d9db69d556dd0/google_auth-2.29.0-py2.py3-none-any.whl.metadata\n",
      "  Using cached google_auth-2.29.0-py2.py3-none-any.whl.metadata (4.7 kB)\n",
      "Requirement already satisfied: websocket-client!=0.40.0,!=0.41.*,!=0.42.*,>=0.32.0 in c:\\users\\afafc\\anaconda3\\lib\\site-packages (from kubernetes>=28.1.0->chromadb<0.6.0,>=0.4.0->llama-index-vector-stores-chroma) (0.58.0)\n",
      "Collecting requests-oauthlib (from kubernetes>=28.1.0->chromadb<0.6.0,>=0.4.0->llama-index-vector-stores-chroma)\n",
      "  Obtaining dependency information for requests-oauthlib from https://files.pythonhosted.org/packages/3b/5d/63d4ae3b9daea098d5d6f5da83984853c1bbacd5dc826764b249fe119d24/requests_oauthlib-2.0.0-py2.py3-none-any.whl.metadata\n",
      "  Downloading requests_oauthlib-2.0.0-py2.py3-none-any.whl.metadata (11 kB)\n",
      "Collecting oauthlib>=3.2.2 (from kubernetes>=28.1.0->chromadb<0.6.0,>=0.4.0->llama-index-vector-stores-chroma)\n",
      "  Obtaining dependency information for oauthlib>=3.2.2 from https://files.pythonhosted.org/packages/7e/80/cab10959dc1faead58dc8384a781dfbf93cb4d33d50988f7a69f1b7c9bbe/oauthlib-3.2.2-py3-none-any.whl.metadata\n",
      "  Downloading oauthlib-3.2.2-py3-none-any.whl.metadata (7.5 kB)\n",
      "Requirement already satisfied: urllib3>=1.24.2 in c:\\users\\afafc\\anaconda3\\lib\\site-packages (from kubernetes>=28.1.0->chromadb<0.6.0,>=0.4.0->llama-index-vector-stores-chroma) (2.2.1)\n",
      "Requirement already satisfied: click in c:\\users\\afafc\\anaconda3\\lib\\site-packages (from nltk<4.0.0,>=3.8.1->llama-index-core<0.11.0,>=0.10.1->llama-index-vector-stores-chroma) (8.0.4)\n",
      "Requirement already satisfied: joblib in c:\\users\\afafc\\anaconda3\\lib\\site-packages (from nltk<4.0.0,>=3.8.1->llama-index-core<0.11.0,>=0.10.1->llama-index-vector-stores-chroma) (1.2.0)\n",
      "Requirement already satisfied: regex>=2021.8.3 in c:\\users\\afafc\\anaconda3\\lib\\site-packages (from nltk<4.0.0,>=3.8.1->llama-index-core<0.11.0,>=0.10.1->llama-index-vector-stores-chroma) (2022.7.9)\n",
      "Collecting coloredlogs (from onnxruntime>=1.14.1->chromadb<0.6.0,>=0.4.0->llama-index-vector-stores-chroma)\n",
      "  Obtaining dependency information for coloredlogs from https://files.pythonhosted.org/packages/a7/06/3d6badcf13db419e25b07041d9c7b4a2c331d3f4e7134445ec5df57714cd/coloredlogs-15.0.1-py2.py3-none-any.whl.metadata\n",
      "  Using cached coloredlogs-15.0.1-py2.py3-none-any.whl.metadata (12 kB)\n",
      "Collecting flatbuffers (from onnxruntime>=1.14.1->chromadb<0.6.0,>=0.4.0->llama-index-vector-stores-chroma)\n",
      "  Obtaining dependency information for flatbuffers from https://files.pythonhosted.org/packages/41/f0/7e988a019bc54b2dbd0ad4182ef2d53488bb02e58694cd79d61369e85900/flatbuffers-24.3.25-py2.py3-none-any.whl.metadata\n",
      "  Using cached flatbuffers-24.3.25-py2.py3-none-any.whl.metadata (850 bytes)\n",
      "Collecting protobuf (from onnxruntime>=1.14.1->chromadb<0.6.0,>=0.4.0->llama-index-vector-stores-chroma)\n",
      "  Obtaining dependency information for protobuf from https://files.pythonhosted.org/packages/7f/75/8d4c58ec98e50d229921db75d4fbdf3dcb2a2b3889004a03885b91322041/protobuf-5.27.0-cp310-abi3-win_amd64.whl.metadata\n",
      "  Downloading protobuf-5.27.0-cp310-abi3-win_amd64.whl.metadata (592 bytes)\n",
      "Requirement already satisfied: sympy in c:\\users\\afafc\\anaconda3\\lib\\site-packages (from onnxruntime>=1.14.1->chromadb<0.6.0,>=0.4.0->llama-index-vector-stores-chroma) (1.11.1)\n",
      "Requirement already satisfied: distro<2,>=1.7.0 in c:\\users\\afafc\\anaconda3\\lib\\site-packages (from openai>=1.1.0->llama-index-core<0.11.0,>=0.10.1->llama-index-vector-stores-chroma) (1.9.0)\n",
      "Requirement already satisfied: importlib-metadata<=7.1,>=6.0 in c:\\users\\afafc\\anaconda3\\lib\\site-packages (from opentelemetry-api>=1.2.0->chromadb<0.6.0,>=0.4.0->llama-index-vector-stores-chroma) (6.0.0)\n",
      "Collecting googleapis-common-protos~=1.52 (from opentelemetry-exporter-otlp-proto-grpc>=1.2.0->chromadb<0.6.0,>=0.4.0->llama-index-vector-stores-chroma)\n",
      "  Obtaining dependency information for googleapis-common-protos~=1.52 from https://files.pythonhosted.org/packages/98/87/1608d23bb9879694579fff5dc56d60e3d48e012fd08670f140cf82f6cf26/googleapis_common_protos-1.63.1-py2.py3-none-any.whl.metadata\n",
      "  Using cached googleapis_common_protos-1.63.1-py2.py3-none-any.whl.metadata (1.5 kB)\n",
      "Collecting opentelemetry-exporter-otlp-proto-common==1.25.0 (from opentelemetry-exporter-otlp-proto-grpc>=1.2.0->chromadb<0.6.0,>=0.4.0->llama-index-vector-stores-chroma)\n",
      "  Obtaining dependency information for opentelemetry-exporter-otlp-proto-common==1.25.0 from https://files.pythonhosted.org/packages/05/02/74ac6619eec78c82a923324f916d3eccd2f2254cf4270b669e96b76bf717/opentelemetry_exporter_otlp_proto_common-1.25.0-py3-none-any.whl.metadata\n",
      "  Downloading opentelemetry_exporter_otlp_proto_common-1.25.0-py3-none-any.whl.metadata (1.7 kB)\n",
      "Collecting opentelemetry-proto==1.25.0 (from opentelemetry-exporter-otlp-proto-grpc>=1.2.0->chromadb<0.6.0,>=0.4.0->llama-index-vector-stores-chroma)\n",
      "  Obtaining dependency information for opentelemetry-proto==1.25.0 from https://files.pythonhosted.org/packages/64/ae/d6b5f11ecbffafe8b6d54130fed0cc78aad3711e00074d63a7359d6dcf3b/opentelemetry_proto-1.25.0-py3-none-any.whl.metadata\n",
      "  Downloading opentelemetry_proto-1.25.0-py3-none-any.whl.metadata (2.2 kB)\n",
      "Collecting protobuf (from onnxruntime>=1.14.1->chromadb<0.6.0,>=0.4.0->llama-index-vector-stores-chroma)\n",
      "  Obtaining dependency information for protobuf from https://files.pythonhosted.org/packages/ad/6e/1bed3b7c904cc178cb8ee8dbaf72934964452b3de95b7a63412591edb93c/protobuf-4.25.3-cp310-abi3-win_amd64.whl.metadata\n",
      "  Using cached protobuf-4.25.3-cp310-abi3-win_amd64.whl.metadata (541 bytes)\n",
      "Collecting opentelemetry-instrumentation-asgi==0.46b0 (from opentelemetry-instrumentation-fastapi>=0.41b0->chromadb<0.6.0,>=0.4.0->llama-index-vector-stores-chroma)\n",
      "  Obtaining dependency information for opentelemetry-instrumentation-asgi==0.46b0 from https://files.pythonhosted.org/packages/47/8d/8955c7fbd949e3ea1c186c7422047f675bf4f7c8976afd2fdf713183318e/opentelemetry_instrumentation_asgi-0.46b0-py3-none-any.whl.metadata\n",
      "  Downloading opentelemetry_instrumentation_asgi-0.46b0-py3-none-any.whl.metadata (1.9 kB)\n",
      "Collecting opentelemetry-instrumentation==0.46b0 (from opentelemetry-instrumentation-fastapi>=0.41b0->chromadb<0.6.0,>=0.4.0->llama-index-vector-stores-chroma)\n",
      "  Obtaining dependency information for opentelemetry-instrumentation==0.46b0 from https://files.pythonhosted.org/packages/10/e5/d6fff0a6f6fbddf03c7fb48ab47925581c4f1a8268f9ad98e5ea4a8b90a5/opentelemetry_instrumentation-0.46b0-py3-none-any.whl.metadata\n",
      "  Downloading opentelemetry_instrumentation-0.46b0-py3-none-any.whl.metadata (6.1 kB)\n",
      "Collecting opentelemetry-semantic-conventions==0.46b0 (from opentelemetry-instrumentation-fastapi>=0.41b0->chromadb<0.6.0,>=0.4.0->llama-index-vector-stores-chroma)\n",
      "  Obtaining dependency information for opentelemetry-semantic-conventions==0.46b0 from https://files.pythonhosted.org/packages/fd/41/28dae1ec1fe0151373f06bd06d9170ca14b52d5b3a6c2dc55f85bc219619/opentelemetry_semantic_conventions-0.46b0-py3-none-any.whl.metadata\n",
      "  Downloading opentelemetry_semantic_conventions-0.46b0-py3-none-any.whl.metadata (2.3 kB)\n",
      "Collecting opentelemetry-util-http==0.46b0 (from opentelemetry-instrumentation-fastapi>=0.41b0->chromadb<0.6.0,>=0.4.0->llama-index-vector-stores-chroma)\n",
      "  Obtaining dependency information for opentelemetry-util-http==0.46b0 from https://files.pythonhosted.org/packages/a2/7f/26d3d8880ea79adde8bb7bc306b25ca5134d6f6c3006ba464716405b4729/opentelemetry_util_http-0.46b0-py3-none-any.whl.metadata\n",
      "  Downloading opentelemetry_util_http-0.46b0-py3-none-any.whl.metadata (2.4 kB)\n",
      "Requirement already satisfied: setuptools>=16.0 in c:\\users\\afafc\\anaconda3\\lib\\site-packages (from opentelemetry-instrumentation==0.46b0->opentelemetry-instrumentation-fastapi>=0.41b0->chromadb<0.6.0,>=0.4.0->llama-index-vector-stores-chroma) (68.0.0)\n",
      "Collecting asgiref~=3.0 (from opentelemetry-instrumentation-asgi==0.46b0->opentelemetry-instrumentation-fastapi>=0.41b0->chromadb<0.6.0,>=0.4.0->llama-index-vector-stores-chroma)\n",
      "  Obtaining dependency information for asgiref~=3.0 from https://files.pythonhosted.org/packages/39/e3/893e8757be2612e6c266d9bb58ad2e3651524b5b40cf56761e985a28b13e/asgiref-3.8.1-py3-none-any.whl.metadata\n",
      "  Downloading asgiref-3.8.1-py3-none-any.whl.metadata (9.3 kB)\n",
      "Collecting monotonic>=1.5 (from posthog>=2.4.0->chromadb<0.6.0,>=0.4.0->llama-index-vector-stores-chroma)\n",
      "  Obtaining dependency information for monotonic>=1.5 from https://files.pythonhosted.org/packages/9a/67/7e8406a29b6c45be7af7740456f7f37025f0506ae2e05fb9009a53946860/monotonic-1.6-py2.py3-none-any.whl.metadata\n",
      "  Downloading monotonic-1.6-py2.py3-none-any.whl.metadata (1.5 kB)\n",
      "Requirement already satisfied: backoff>=1.10.0 in c:\\users\\afafc\\anaconda3\\lib\\site-packages (from posthog>=2.4.0->chromadb<0.6.0,>=0.4.0->llama-index-vector-stores-chroma) (2.2.1)\n",
      "Requirement already satisfied: charset-normalizer<4,>=2 in c:\\users\\afafc\\anaconda3\\lib\\site-packages (from requests>=2.28->chromadb<0.6.0,>=0.4.0->llama-index-vector-stores-chroma) (3.3.2)\n",
      "Requirement already satisfied: greenlet!=0.4.17 in c:\\users\\afafc\\anaconda3\\lib\\site-packages (from SQLAlchemy[asyncio]>=1.4.49->llama-index-core<0.11.0,>=0.10.1->llama-index-vector-stores-chroma) (3.0.3)\n",
      "Requirement already satisfied: huggingface-hub<1.0,>=0.16.4 in c:\\users\\afafc\\anaconda3\\lib\\site-packages (from tokenizers>=0.13.2->chromadb<0.6.0,>=0.4.0->llama-index-vector-stores-chroma) (0.23.3)\n",
      "Collecting shellingham>=1.3.0 (from typer>=0.9.0->chromadb<0.6.0,>=0.4.0->llama-index-vector-stores-chroma)\n",
      "  Obtaining dependency information for shellingham>=1.3.0 from https://files.pythonhosted.org/packages/e0/f9/0595336914c5619e5f28a1fb793285925a8cd4b432c9da0a987836c7f822/shellingham-1.5.4-py2.py3-none-any.whl.metadata\n",
      "  Downloading shellingham-1.5.4-py2.py3-none-any.whl.metadata (3.5 kB)\n",
      "Collecting rich>=10.11.0 (from typer>=0.9.0->chromadb<0.6.0,>=0.4.0->llama-index-vector-stores-chroma)\n",
      "  Obtaining dependency information for rich>=10.11.0 from https://files.pythonhosted.org/packages/87/67/a37f6214d0e9fe57f6ae54b2956d550ca8365857f42a1ce0392bb21d9410/rich-13.7.1-py3-none-any.whl.metadata\n",
      "  Downloading rich-13.7.1-py3-none-any.whl.metadata (18 kB)\n",
      "Requirement already satisfied: mypy-extensions>=0.3.0 in c:\\users\\afafc\\anaconda3\\lib\\site-packages (from typing-inspect>=0.8.0->llama-index-core<0.11.0,>=0.10.1->llama-index-vector-stores-chroma) (1.0.0)\n",
      "Collecting httptools>=0.5.0 (from uvicorn[standard]>=0.18.3->chromadb<0.6.0,>=0.4.0->llama-index-vector-stores-chroma)\n",
      "  Obtaining dependency information for httptools>=0.5.0 from https://files.pythonhosted.org/packages/14/e4/20d28dfe7f5b5603b6b04c33bb88662ad749de51f0c539a561f235f42666/httptools-0.6.1-cp311-cp311-win_amd64.whl.metadata\n",
      "  Downloading httptools-0.6.1-cp311-cp311-win_amd64.whl.metadata (3.7 kB)\n",
      "Requirement already satisfied: python-dotenv>=0.13 in c:\\users\\afafc\\anaconda3\\lib\\site-packages (from uvicorn[standard]>=0.18.3->chromadb<0.6.0,>=0.4.0->llama-index-vector-stores-chroma) (0.21.0)\n",
      "Collecting watchfiles>=0.13 (from uvicorn[standard]>=0.18.3->chromadb<0.6.0,>=0.4.0->llama-index-vector-stores-chroma)\n",
      "  Obtaining dependency information for watchfiles>=0.13 from https://files.pythonhosted.org/packages/2b/8b/93f4e3ed0d578676b3c2e9d4ebf0b51237f4a96bbe3830b146662cb249da/watchfiles-0.22.0-cp311-none-win_amd64.whl.metadata\n",
      "  Downloading watchfiles-0.22.0-cp311-none-win_amd64.whl.metadata (5.0 kB)\n",
      "Collecting websockets>=10.4 (from uvicorn[standard]>=0.18.3->chromadb<0.6.0,>=0.4.0->llama-index-vector-stores-chroma)\n",
      "  Obtaining dependency information for websockets>=10.4 from https://files.pythonhosted.org/packages/d1/40/6b169cd1957476374f51f4486a3e85003149e62a14e6b78a958c2222337a/websockets-12.0-cp311-cp311-win_amd64.whl.metadata\n",
      "  Downloading websockets-12.0-cp311-cp311-win_amd64.whl.metadata (6.8 kB)\n",
      "Requirement already satisfied: marshmallow<4.0.0,>=3.18.0 in c:\\users\\afafc\\anaconda3\\lib\\site-packages (from dataclasses-json->llama-index-core<0.11.0,>=0.10.1->llama-index-vector-stores-chroma) (3.21.2)\n",
      "Requirement already satisfied: pytz>=2020.1 in c:\\users\\afafc\\anaconda3\\lib\\site-packages (from pandas->llama-index-core<0.11.0,>=0.10.1->llama-index-vector-stores-chroma) (2023.3.post1)\n",
      "Requirement already satisfied: tzdata>=2022.1 in c:\\users\\afafc\\anaconda3\\lib\\site-packages (from pandas->llama-index-core<0.11.0,>=0.10.1->llama-index-vector-stores-chroma) (2023.3)\n",
      "Collecting dnspython>=2.0.0 (from email_validator>=2.0.0->fastapi>=0.95.2->chromadb<0.6.0,>=0.4.0->llama-index-vector-stores-chroma)\n",
      "  Obtaining dependency information for dnspython>=2.0.0 from https://files.pythonhosted.org/packages/87/a1/8c5287991ddb8d3e4662f71356d9656d91ab3a36618c3dd11b280df0d255/dnspython-2.6.1-py3-none-any.whl.metadata\n",
      "  Downloading dnspython-2.6.1-py3-none-any.whl.metadata (5.8 kB)\n",
      "Collecting cachetools<6.0,>=2.0.0 (from google-auth>=1.0.1->kubernetes>=28.1.0->chromadb<0.6.0,>=0.4.0->llama-index-vector-stores-chroma)\n",
      "  Obtaining dependency information for cachetools<6.0,>=2.0.0 from https://files.pythonhosted.org/packages/fb/2b/a64c2d25a37aeb921fddb929111413049fc5f8b9a4c1aefaffaafe768d54/cachetools-5.3.3-py3-none-any.whl.metadata\n",
      "  Using cached cachetools-5.3.3-py3-none-any.whl.metadata (5.3 kB)\n",
      "Requirement already satisfied: pyasn1-modules>=0.2.1 in c:\\users\\afafc\\anaconda3\\lib\\site-packages (from google-auth>=1.0.1->kubernetes>=28.1.0->chromadb<0.6.0,>=0.4.0->llama-index-vector-stores-chroma) (0.2.8)\n",
      "Collecting rsa<5,>=3.1.4 (from google-auth>=1.0.1->kubernetes>=28.1.0->chromadb<0.6.0,>=0.4.0->llama-index-vector-stores-chroma)\n",
      "  Obtaining dependency information for rsa<5,>=3.1.4 from https://files.pythonhosted.org/packages/49/97/fa78e3d2f65c02c8e1268b9aba606569fe97f6c8f7c2d74394553347c145/rsa-4.9-py3-none-any.whl.metadata\n",
      "  Using cached rsa-4.9-py3-none-any.whl.metadata (4.2 kB)\n",
      "Requirement already satisfied: filelock in c:\\users\\afafc\\anaconda3\\lib\\site-packages (from huggingface-hub<1.0,>=0.16.4->tokenizers>=0.13.2->chromadb<0.6.0,>=0.4.0->llama-index-vector-stores-chroma) (3.9.0)\n",
      "Requirement already satisfied: zipp>=0.5 in c:\\users\\afafc\\anaconda3\\lib\\site-packages (from importlib-metadata<=7.1,>=6.0->opentelemetry-api>=1.2.0->chromadb<0.6.0,>=0.4.0->llama-index-vector-stores-chroma) (3.11.0)\n",
      "Requirement already satisfied: MarkupSafe>=2.0 in c:\\users\\afafc\\anaconda3\\lib\\site-packages (from jinja2>=2.11.2->fastapi>=0.95.2->chromadb<0.6.0,>=0.4.0->llama-index-vector-stores-chroma) (2.1.1)\n",
      "Requirement already satisfied: markdown-it-py>=2.2.0 in c:\\users\\afafc\\anaconda3\\lib\\site-packages (from rich>=10.11.0->typer>=0.9.0->chromadb<0.6.0,>=0.4.0->llama-index-vector-stores-chroma) (2.2.0)\n",
      "Requirement already satisfied: pygments<3.0.0,>=2.13.0 in c:\\users\\afafc\\anaconda3\\lib\\site-packages (from rich>=10.11.0->typer>=0.9.0->chromadb<0.6.0,>=0.4.0->llama-index-vector-stores-chroma) (2.15.1)\n",
      "Collecting humanfriendly>=9.1 (from coloredlogs->onnxruntime>=1.14.1->chromadb<0.6.0,>=0.4.0->llama-index-vector-stores-chroma)\n",
      "  Obtaining dependency information for humanfriendly>=9.1 from https://files.pythonhosted.org/packages/f0/0f/310fb31e39e2d734ccaa2c0fb981ee41f7bd5056ce9bc29b2248bd569169/humanfriendly-10.0-py2.py3-none-any.whl.metadata\n",
      "  Using cached humanfriendly-10.0-py2.py3-none-any.whl.metadata (9.2 kB)\n",
      "Requirement already satisfied: mpmath>=0.19 in c:\\users\\afafc\\anaconda3\\lib\\site-packages (from sympy->onnxruntime>=1.14.1->chromadb<0.6.0,>=0.4.0->llama-index-vector-stores-chroma) (1.3.0)\n",
      "Collecting pyreadline3 (from humanfriendly>=9.1->coloredlogs->onnxruntime>=1.14.1->chromadb<0.6.0,>=0.4.0->llama-index-vector-stores-chroma)\n",
      "  Obtaining dependency information for pyreadline3 from https://files.pythonhosted.org/packages/56/fc/a3c13ded7b3057680c8ae95a9b6cc83e63657c38e0005c400a5d018a33a7/pyreadline3-3.4.1-py3-none-any.whl.metadata\n",
      "  Using cached pyreadline3-3.4.1-py3-none-any.whl.metadata (2.0 kB)\n",
      "Requirement already satisfied: mdurl~=0.1 in c:\\users\\afafc\\anaconda3\\lib\\site-packages (from markdown-it-py>=2.2.0->rich>=10.11.0->typer>=0.9.0->chromadb<0.6.0,>=0.4.0->llama-index-vector-stores-chroma) (0.1.0)\n",
      "Requirement already satisfied: pyasn1<0.5.0,>=0.4.6 in c:\\users\\afafc\\anaconda3\\lib\\site-packages (from pyasn1-modules>=0.2.1->google-auth>=1.0.1->kubernetes>=28.1.0->chromadb<0.6.0,>=0.4.0->llama-index-vector-stores-chroma) (0.4.8)\n",
      "Downloading llama_index_vector_stores_chroma-0.1.8-py3-none-any.whl (4.8 kB)\n",
      "Downloading chromadb-0.5.0-py3-none-any.whl (526 kB)\n",
      "   ---------------------------------------- 0.0/526.8 kB ? eta -:--:--\n",
      "   --------------------------------- ----- 450.6/526.8 kB 14.2 MB/s eta 0:00:01\n",
      "   --------------------------------------- 526.8/526.8 kB 11.0 MB/s eta 0:00:00\n",
      "Downloading chroma_hnswlib-0.7.3-cp311-cp311-win_amd64.whl (151 kB)\n",
      "   ---------------------------------------- 0.0/151.6 kB ? eta -:--:--\n",
      "   ---------------------------------------- 151.6/151.6 kB 8.8 MB/s eta 0:00:00\n",
      "Downloading bcrypt-4.1.3-cp39-abi3-win_amd64.whl (158 kB)\n",
      "   ---------------------------------------- 0.0/158.1 kB ? eta -:--:--\n",
      "   ---------------------------------------- 158.1/158.1 kB ? eta 0:00:00\n",
      "Downloading build-1.2.1-py3-none-any.whl (21 kB)\n",
      "Downloading fastapi-0.111.0-py3-none-any.whl (91 kB)\n",
      "   ---------------------------------------- 0.0/92.0 kB ? eta -:--:--\n",
      "   ---------------------------------------- 92.0/92.0 kB 5.1 MB/s eta 0:00:00\n",
      "Using cached grpcio-1.64.1-cp311-cp311-win_amd64.whl (4.1 MB)\n",
      "Downloading kubernetes-29.0.0-py2.py3-none-any.whl (1.6 MB)\n",
      "   ---------------------------------------- 0.0/1.6 MB ? eta -:--:--\n",
      "   ----------------------------- ---------- 1.2/1.6 MB 25.6 MB/s eta 0:00:01\n",
      "   ---------------------------------------- 1.6/1.6 MB 20.3 MB/s eta 0:00:00\n",
      "Downloading mmh3-4.1.0-cp311-cp311-win_amd64.whl (31 kB)\n",
      "Using cached onnxruntime-1.18.0-cp311-cp311-win_amd64.whl (5.6 MB)\n",
      "Downloading opentelemetry_api-1.25.0-py3-none-any.whl (59 kB)\n",
      "   ---------------------------------------- 0.0/59.9 kB ? eta -:--:--\n",
      "   ---------------------------------------- 59.9/59.9 kB 3.1 MB/s eta 0:00:00\n",
      "Downloading opentelemetry_exporter_otlp_proto_grpc-1.25.0-py3-none-any.whl (18 kB)\n",
      "Downloading opentelemetry_exporter_otlp_proto_common-1.25.0-py3-none-any.whl (17 kB)\n",
      "Downloading opentelemetry_proto-1.25.0-py3-none-any.whl (52 kB)\n",
      "   ---------------------------------------- 0.0/52.5 kB ? eta -:--:--\n",
      "   ---------------------------------------- 52.5/52.5 kB ? eta 0:00:00\n",
      "Downloading opentelemetry_instrumentation_fastapi-0.46b0-py3-none-any.whl (11 kB)\n",
      "Downloading opentelemetry_instrumentation-0.46b0-py3-none-any.whl (29 kB)\n",
      "Downloading opentelemetry_instrumentation_asgi-0.46b0-py3-none-any.whl (14 kB)\n",
      "Downloading opentelemetry_semantic_conventions-0.46b0-py3-none-any.whl (130 kB)\n",
      "   ---------------------------------------- 0.0/130.5 kB ? eta -:--:--\n",
      "   ---------------------------------------- 130.5/130.5 kB ? eta 0:00:00\n",
      "Downloading opentelemetry_util_http-0.46b0-py3-none-any.whl (6.9 kB)\n",
      "Downloading opentelemetry_sdk-1.25.0-py3-none-any.whl (107 kB)\n",
      "   ---------------------------------------- 0.0/107.0 kB ? eta -:--:--\n",
      "   ---------------------------------------- 107.0/107.0 kB 6.0 MB/s eta 0:00:00\n",
      "Downloading overrides-7.7.0-py3-none-any.whl (17 kB)\n",
      "Downloading posthog-3.5.0-py2.py3-none-any.whl (41 kB)\n",
      "   ---------------------------------------- 0.0/41.3 kB ? eta -:--:--\n",
      "   ---------------------------------------- 41.3/41.3 kB 2.1 MB/s eta 0:00:00\n",
      "Downloading tenacity-8.3.0-py3-none-any.whl (25 kB)\n",
      "Downloading typer-0.12.3-py3-none-any.whl (47 kB)\n",
      "   ---------------------------------------- 0.0/47.2 kB ? eta -:--:--\n",
      "   ---------------------------------------- 47.2/47.2 kB 2.5 MB/s eta 0:00:00\n",
      "Downloading importlib_resources-6.4.0-py3-none-any.whl (38 kB)\n",
      "Downloading email_validator-2.1.1-py3-none-any.whl (30 kB)\n",
      "Downloading fastapi_cli-0.0.4-py3-none-any.whl (9.5 kB)\n",
      "Using cached google_auth-2.29.0-py2.py3-none-any.whl (189 kB)\n",
      "Using cached googleapis_common_protos-1.63.1-py2.py3-none-any.whl (229 kB)\n",
      "Downloading httptools-0.6.1-cp311-cp311-win_amd64.whl (55 kB)\n",
      "   ---------------------------------------- 0.0/55.4 kB ? eta -:--:--\n",
      "   ---------------------------------------- 55.4/55.4 kB 2.8 MB/s eta 0:00:00\n",
      "Downloading monotonic-1.6-py2.py3-none-any.whl (8.2 kB)\n",
      "Downloading oauthlib-3.2.2-py3-none-any.whl (151 kB)\n",
      "   ---------------------------------------- 0.0/151.7 kB ? eta -:--:--\n",
      "   ---------------------------------------- 151.7/151.7 kB ? eta 0:00:00\n",
      "Using cached protobuf-4.25.3-cp310-abi3-win_amd64.whl (413 kB)\n",
      "Using cached python_multipart-0.0.9-py3-none-any.whl (22 kB)\n",
      "Downloading rich-13.7.1-py3-none-any.whl (240 kB)\n",
      "   ---------------------------------------- 0.0/240.7 kB ? eta -:--:--\n",
      "   --------------------------------------- 240.7/240.7 kB 14.4 MB/s eta 0:00:00\n",
      "Downloading shellingham-1.5.4-py2.py3-none-any.whl (9.8 kB)\n",
      "Downloading starlette-0.37.2-py3-none-any.whl (71 kB)\n",
      "   ---------------------------------------- 0.0/71.9 kB ? eta -:--:--\n",
      "   ---------------------------------------- 71.9/71.9 kB ? eta 0:00:00\n",
      "Downloading watchfiles-0.22.0-cp311-none-win_amd64.whl (281 kB)\n",
      "   ---------------------------------------- 0.0/282.0 kB ? eta -:--:--\n",
      "   --------------------------------------- 282.0/282.0 kB 17.0 MB/s eta 0:00:00\n",
      "Downloading websockets-12.0-cp311-cp311-win_amd64.whl (124 kB)\n",
      "   ---------------------------------------- 0.0/125.0 kB ? eta -:--:--\n",
      "   ---------------------------------------- 125.0/125.0 kB 7.2 MB/s eta 0:00:00\n",
      "Downloading coloredlogs-15.0.1-py2.py3-none-any.whl (46 kB)\n",
      "   ---------------------------------------- 0.0/46.0 kB ? eta -:--:--\n",
      "   ---------------------------------------- 46.0/46.0 kB 2.2 MB/s eta 0:00:00\n",
      "Downloading flatbuffers-24.3.25-py2.py3-none-any.whl (26 kB)\n",
      "Downloading pyproject_hooks-1.1.0-py3-none-any.whl (9.2 kB)\n",
      "Downloading requests_oauthlib-2.0.0-py2.py3-none-any.whl (24 kB)\n",
      "Downloading uvicorn-0.30.1-py3-none-any.whl (62 kB)\n",
      "   ---------------------------------------- 0.0/62.4 kB ? eta -:--:--\n",
      "   ---------------------------------------- 62.4/62.4 kB 3.3 MB/s eta 0:00:00\n",
      "Downloading asgiref-3.8.1-py3-none-any.whl (23 kB)\n",
      "Using cached cachetools-5.3.3-py3-none-any.whl (9.3 kB)\n",
      "Downloading dnspython-2.6.1-py3-none-any.whl (307 kB)\n",
      "   ---------------------------------------- 0.0/307.7 kB ? eta -:--:--\n",
      "   ---------------------------------------- 307.7/307.7 kB ? eta 0:00:00\n",
      "Downloading humanfriendly-10.0-py2.py3-none-any.whl (86 kB)\n",
      "   ---------------------------------------- 0.0/86.8 kB ? eta -:--:--\n",
      "   ---------------------------------------- 86.8/86.8 kB 5.1 MB/s eta 0:00:00\n",
      "Downloading rsa-4.9-py3-none-any.whl (34 kB)\n",
      "Downloading pyreadline3-3.4.1-py3-none-any.whl (95 kB)\n",
      "   ---------------------------------------- 0.0/95.2 kB ? eta -:--:--\n",
      "   ---------------------------------------- 95.2/95.2 kB 5.3 MB/s eta 0:00:00\n",
      "Building wheels for collected packages: pypika\n",
      "  Building wheel for pypika (pyproject.toml): started\n",
      "  Building wheel for pypika (pyproject.toml): finished with status 'done'\n",
      "  Created wheel for pypika: filename=PyPika-0.48.9-py2.py3-none-any.whl size=53835 sha256=27e61b7faa86508426dbf9354fa807a8558ad694e9094ef166a4d1d4ebcab296\n",
      "  Stored in directory: c:\\users\\afafc\\appdata\\local\\pip\\cache\\wheels\\a3\\01\\bd\\4c40ceb9d5354160cb186dcc153360f4ab7eb23e2b24daf96d\n",
      "Successfully built pypika\n",
      "Installing collected packages: pyreadline3, pypika, monotonic, mmh3, flatbuffers, websockets, tenacity, shellingham, rsa, python-multipart, pyproject_hooks, protobuf, overrides, opentelemetry-util-http, oauthlib, importlib-resources, humanfriendly, httptools, grpcio, dnspython, chroma-hnswlib, cachetools, bcrypt, asgiref, watchfiles, uvicorn, starlette, rich, requests-oauthlib, posthog, opentelemetry-proto, opentelemetry-api, googleapis-common-protos, google-auth, email_validator, coloredlogs, build, typer, opentelemetry-semantic-conventions, opentelemetry-instrumentation, opentelemetry-exporter-otlp-proto-common, onnxruntime, kubernetes, opentelemetry-sdk, opentelemetry-instrumentation-asgi, fastapi-cli, opentelemetry-instrumentation-fastapi, opentelemetry-exporter-otlp-proto-grpc, fastapi, chromadb, llama-index-vector-stores-chroma\n",
      "  Attempting uninstall: tenacity\n",
      "    Found existing installation: tenacity 8.2.2\n",
      "    Uninstalling tenacity-8.2.2:\n",
      "      Successfully uninstalled tenacity-8.2.2\n",
      "  Attempting uninstall: bcrypt\n",
      "    Found existing installation: bcrypt 3.2.0\n",
      "    Uninstalling bcrypt-3.2.0:\n",
      "      Successfully uninstalled bcrypt-3.2.0\n",
      "Successfully installed asgiref-3.8.1 bcrypt-4.1.3 build-1.2.1 cachetools-5.3.3 chroma-hnswlib-0.7.3 chromadb-0.5.0 coloredlogs-15.0.1 dnspython-2.6.1 email_validator-2.1.1 fastapi-0.111.0 fastapi-cli-0.0.4 flatbuffers-24.3.25 google-auth-2.29.0 googleapis-common-protos-1.63.1 grpcio-1.64.1 httptools-0.6.1 humanfriendly-10.0 importlib-resources-6.4.0 kubernetes-29.0.0 llama-index-vector-stores-chroma-0.1.8 mmh3-4.1.0 monotonic-1.6 oauthlib-3.2.2 onnxruntime-1.18.0 opentelemetry-api-1.25.0 opentelemetry-exporter-otlp-proto-common-1.25.0 opentelemetry-exporter-otlp-proto-grpc-1.25.0 opentelemetry-instrumentation-0.46b0 opentelemetry-instrumentation-asgi-0.46b0 opentelemetry-instrumentation-fastapi-0.46b0 opentelemetry-proto-1.25.0 opentelemetry-sdk-1.25.0 opentelemetry-semantic-conventions-0.46b0 opentelemetry-util-http-0.46b0 overrides-7.7.0 posthog-3.5.0 protobuf-4.25.3 pypika-0.48.9 pyproject_hooks-1.1.0 pyreadline3-3.4.1 python-multipart-0.0.9 requests-oauthlib-2.0.0 rich-13.7.1 rsa-4.9 shellingham-1.5.4 starlette-0.37.2 tenacity-8.3.0 typer-0.12.3 uvicorn-0.30.1 watchfiles-0.22.0 websockets-12.0\n",
      "Requirement already satisfied: llama-index in c:\\users\\afafc\\anaconda3\\lib\\site-packages (0.10.43)\n",
      "Requirement already satisfied: ipywidgets in c:\\users\\afafc\\anaconda3\\lib\\site-packages (8.0.4)\n",
      "Requirement already satisfied: llama-index-agent-openai<0.3.0,>=0.1.4 in c:\\users\\afafc\\anaconda3\\lib\\site-packages (from llama-index) (0.2.7)\n",
      "Requirement already satisfied: llama-index-cli<0.2.0,>=0.1.2 in c:\\users\\afafc\\anaconda3\\lib\\site-packages (from llama-index) (0.1.12)\n",
      "Requirement already satisfied: llama-index-core==0.10.43 in c:\\users\\afafc\\anaconda3\\lib\\site-packages (from llama-index) (0.10.43)\n",
      "Requirement already satisfied: llama-index-embeddings-openai<0.2.0,>=0.1.5 in c:\\users\\afafc\\anaconda3\\lib\\site-packages (from llama-index) (0.1.10)\n",
      "Requirement already satisfied: llama-index-indices-managed-llama-cloud<0.2.0,>=0.1.2 in c:\\users\\afafc\\anaconda3\\lib\\site-packages (from llama-index) (0.1.6)\n",
      "Requirement already satisfied: llama-index-legacy<0.10.0,>=0.9.48 in c:\\users\\afafc\\anaconda3\\lib\\site-packages (from llama-index) (0.9.48)\n",
      "Requirement already satisfied: llama-index-llms-openai<0.2.0,>=0.1.13 in c:\\users\\afafc\\anaconda3\\lib\\site-packages (from llama-index) (0.1.22)\n",
      "Requirement already satisfied: llama-index-multi-modal-llms-openai<0.2.0,>=0.1.3 in c:\\users\\afafc\\anaconda3\\lib\\site-packages (from llama-index) (0.1.6)\n",
      "Requirement already satisfied: llama-index-program-openai<0.2.0,>=0.1.3 in c:\\users\\afafc\\anaconda3\\lib\\site-packages (from llama-index) (0.1.6)\n",
      "Requirement already satisfied: llama-index-question-gen-openai<0.2.0,>=0.1.2 in c:\\users\\afafc\\anaconda3\\lib\\site-packages (from llama-index) (0.1.3)\n",
      "Requirement already satisfied: llama-index-readers-file<0.2.0,>=0.1.4 in c:\\users\\afafc\\anaconda3\\lib\\site-packages (from llama-index) (0.1.23)\n",
      "Requirement already satisfied: llama-index-readers-llama-parse<0.2.0,>=0.1.2 in c:\\users\\afafc\\anaconda3\\lib\\site-packages (from llama-index) (0.1.4)\n",
      "Requirement already satisfied: PyYAML>=6.0.1 in c:\\users\\afafc\\anaconda3\\lib\\site-packages (from llama-index-core==0.10.43->llama-index) (6.0.1)\n",
      "Requirement already satisfied: SQLAlchemy[asyncio]>=1.4.49 in c:\\users\\afafc\\anaconda3\\lib\\site-packages (from llama-index-core==0.10.43->llama-index) (2.0.30)\n",
      "Requirement already satisfied: aiohttp<4.0.0,>=3.8.6 in c:\\users\\afafc\\anaconda3\\lib\\site-packages (from llama-index-core==0.10.43->llama-index) (3.9.5)\n",
      "Requirement already satisfied: dataclasses-json in c:\\users\\afafc\\anaconda3\\lib\\site-packages (from llama-index-core==0.10.43->llama-index) (0.6.6)\n",
      "Requirement already satisfied: deprecated>=1.2.9.3 in c:\\users\\afafc\\anaconda3\\lib\\site-packages (from llama-index-core==0.10.43->llama-index) (1.2.14)\n",
      "Requirement already satisfied: dirtyjson<2.0.0,>=1.0.8 in c:\\users\\afafc\\anaconda3\\lib\\site-packages (from llama-index-core==0.10.43->llama-index) (1.0.8)\n",
      "Requirement already satisfied: fsspec>=2023.5.0 in c:\\users\\afafc\\anaconda3\\lib\\site-packages (from llama-index-core==0.10.43->llama-index) (2024.5.0)\n",
      "Requirement already satisfied: httpx in c:\\users\\afafc\\anaconda3\\lib\\site-packages (from llama-index-core==0.10.43->llama-index) (0.27.0)\n",
      "Requirement already satisfied: llamaindex-py-client<0.2.0,>=0.1.18 in c:\\users\\afafc\\anaconda3\\lib\\site-packages (from llama-index-core==0.10.43->llama-index) (0.1.19)\n",
      "Requirement already satisfied: nest-asyncio<2.0.0,>=1.5.8 in c:\\users\\afafc\\anaconda3\\lib\\site-packages (from llama-index-core==0.10.43->llama-index) (1.6.0)\n",
      "Requirement already satisfied: networkx>=3.0 in c:\\users\\afafc\\anaconda3\\lib\\site-packages (from llama-index-core==0.10.43->llama-index) (3.1)\n",
      "Requirement already satisfied: nltk<4.0.0,>=3.8.1 in c:\\users\\afafc\\anaconda3\\lib\\site-packages (from llama-index-core==0.10.43->llama-index) (3.8.1)\n",
      "Requirement already satisfied: numpy in c:\\users\\afafc\\anaconda3\\lib\\site-packages (from llama-index-core==0.10.43->llama-index) (1.24.3)\n",
      "Requirement already satisfied: openai>=1.1.0 in c:\\users\\afafc\\anaconda3\\lib\\site-packages (from llama-index-core==0.10.43->llama-index) (1.30.5)\n",
      "Requirement already satisfied: pandas in c:\\users\\afafc\\anaconda3\\lib\\site-packages (from llama-index-core==0.10.43->llama-index) (2.0.3)\n",
      "Requirement already satisfied: pillow>=9.0.0 in c:\\users\\afafc\\anaconda3\\lib\\site-packages (from llama-index-core==0.10.43->llama-index) (9.4.0)\n",
      "Requirement already satisfied: requests>=2.31.0 in c:\\users\\afafc\\anaconda3\\lib\\site-packages (from llama-index-core==0.10.43->llama-index) (2.31.0)\n",
      "Requirement already satisfied: tenacity<9.0.0,>=8.2.0 in c:\\users\\afafc\\anaconda3\\lib\\site-packages (from llama-index-core==0.10.43->llama-index) (8.3.0)\n",
      "Requirement already satisfied: tiktoken>=0.3.3 in c:\\users\\afafc\\anaconda3\\lib\\site-packages (from llama-index-core==0.10.43->llama-index) (0.7.0)\n",
      "Requirement already satisfied: tqdm<5.0.0,>=4.66.1 in c:\\users\\afafc\\anaconda3\\lib\\site-packages (from llama-index-core==0.10.43->llama-index) (4.66.4)\n",
      "Requirement already satisfied: typing-extensions>=4.5.0 in c:\\users\\afafc\\anaconda3\\lib\\site-packages (from llama-index-core==0.10.43->llama-index) (4.12.1)\n",
      "Requirement already satisfied: typing-inspect>=0.8.0 in c:\\users\\afafc\\anaconda3\\lib\\site-packages (from llama-index-core==0.10.43->llama-index) (0.9.0)\n",
      "Requirement already satisfied: wrapt in c:\\users\\afafc\\anaconda3\\lib\\site-packages (from llama-index-core==0.10.43->llama-index) (1.14.1)\n",
      "Requirement already satisfied: ipykernel>=4.5.1 in c:\\users\\afafc\\anaconda3\\lib\\site-packages (from ipywidgets) (6.25.0)\n",
      "Requirement already satisfied: ipython>=6.1.0 in c:\\users\\afafc\\anaconda3\\lib\\site-packages (from ipywidgets) (8.15.0)\n",
      "Requirement already satisfied: traitlets>=4.3.1 in c:\\users\\afafc\\anaconda3\\lib\\site-packages (from ipywidgets) (5.7.1)\n",
      "Requirement already satisfied: widgetsnbextension~=4.0 in c:\\users\\afafc\\anaconda3\\lib\\site-packages (from ipywidgets) (4.0.5)\n",
      "Requirement already satisfied: jupyterlab-widgets~=3.0 in c:\\users\\afafc\\anaconda3\\lib\\site-packages (from ipywidgets) (3.0.5)\n",
      "Requirement already satisfied: comm>=0.1.1 in c:\\users\\afafc\\anaconda3\\lib\\site-packages (from ipykernel>=4.5.1->ipywidgets) (0.1.2)\n",
      "Requirement already satisfied: debugpy>=1.6.5 in c:\\users\\afafc\\anaconda3\\lib\\site-packages (from ipykernel>=4.5.1->ipywidgets) (1.6.7)\n",
      "Requirement already satisfied: jupyter-client>=6.1.12 in c:\\users\\afafc\\anaconda3\\lib\\site-packages (from ipykernel>=4.5.1->ipywidgets) (7.4.9)\n",
      "Requirement already satisfied: jupyter-core!=5.0.*,>=4.12 in c:\\users\\afafc\\anaconda3\\lib\\site-packages (from ipykernel>=4.5.1->ipywidgets) (5.3.0)\n",
      "Requirement already satisfied: matplotlib-inline>=0.1 in c:\\users\\afafc\\anaconda3\\lib\\site-packages (from ipykernel>=4.5.1->ipywidgets) (0.1.6)\n",
      "Requirement already satisfied: packaging in c:\\users\\afafc\\anaconda3\\lib\\site-packages (from ipykernel>=4.5.1->ipywidgets) (23.2)\n",
      "Requirement already satisfied: psutil in c:\\users\\afafc\\anaconda3\\lib\\site-packages (from ipykernel>=4.5.1->ipywidgets) (5.9.0)\n",
      "Requirement already satisfied: pyzmq>=20 in c:\\users\\afafc\\anaconda3\\lib\\site-packages (from ipykernel>=4.5.1->ipywidgets) (23.2.0)\n",
      "Requirement already satisfied: tornado>=6.1 in c:\\users\\afafc\\anaconda3\\lib\\site-packages (from ipykernel>=4.5.1->ipywidgets) (6.3.2)\n",
      "Requirement already satisfied: backcall in c:\\users\\afafc\\anaconda3\\lib\\site-packages (from ipython>=6.1.0->ipywidgets) (0.2.0)\n",
      "Requirement already satisfied: decorator in c:\\users\\afafc\\anaconda3\\lib\\site-packages (from ipython>=6.1.0->ipywidgets) (5.1.1)\n",
      "Requirement already satisfied: jedi>=0.16 in c:\\users\\afafc\\anaconda3\\lib\\site-packages (from ipython>=6.1.0->ipywidgets) (0.18.1)\n",
      "Requirement already satisfied: pickleshare in c:\\users\\afafc\\anaconda3\\lib\\site-packages (from ipython>=6.1.0->ipywidgets) (0.7.5)\n",
      "Requirement already satisfied: prompt-toolkit!=3.0.37,<3.1.0,>=3.0.30 in c:\\users\\afafc\\anaconda3\\lib\\site-packages (from ipython>=6.1.0->ipywidgets) (3.0.36)\n",
      "Requirement already satisfied: pygments>=2.4.0 in c:\\users\\afafc\\anaconda3\\lib\\site-packages (from ipython>=6.1.0->ipywidgets) (2.15.1)\n",
      "Requirement already satisfied: stack-data in c:\\users\\afafc\\anaconda3\\lib\\site-packages (from ipython>=6.1.0->ipywidgets) (0.2.0)\n",
      "Requirement already satisfied: colorama in c:\\users\\afafc\\anaconda3\\lib\\site-packages (from ipython>=6.1.0->ipywidgets) (0.4.6)\n",
      "Requirement already satisfied: beautifulsoup4<5.0.0,>=4.12.3 in c:\\users\\afafc\\anaconda3\\lib\\site-packages (from llama-index-readers-file<0.2.0,>=0.1.4->llama-index) (4.12.3)\n",
      "Requirement already satisfied: pypdf<5.0.0,>=4.0.1 in c:\\users\\afafc\\anaconda3\\lib\\site-packages (from llama-index-readers-file<0.2.0,>=0.1.4->llama-index) (4.2.0)\n",
      "Requirement already satisfied: striprtf<0.0.27,>=0.0.26 in c:\\users\\afafc\\anaconda3\\lib\\site-packages (from llama-index-readers-file<0.2.0,>=0.1.4->llama-index) (0.0.26)\n",
      "Requirement already satisfied: llama-parse<0.5.0,>=0.4.0 in c:\\users\\afafc\\anaconda3\\lib\\site-packages (from llama-index-readers-llama-parse<0.2.0,>=0.1.2->llama-index) (0.4.4)\n",
      "Requirement already satisfied: aiosignal>=1.1.2 in c:\\users\\afafc\\anaconda3\\lib\\site-packages (from aiohttp<4.0.0,>=3.8.6->llama-index-core==0.10.43->llama-index) (1.2.0)\n",
      "Requirement already satisfied: attrs>=17.3.0 in c:\\users\\afafc\\anaconda3\\lib\\site-packages (from aiohttp<4.0.0,>=3.8.6->llama-index-core==0.10.43->llama-index) (23.2.0)\n",
      "Requirement already satisfied: frozenlist>=1.1.1 in c:\\users\\afafc\\anaconda3\\lib\\site-packages (from aiohttp<4.0.0,>=3.8.6->llama-index-core==0.10.43->llama-index) (1.3.3)\n",
      "Requirement already satisfied: multidict<7.0,>=4.5 in c:\\users\\afafc\\anaconda3\\lib\\site-packages (from aiohttp<4.0.0,>=3.8.6->llama-index-core==0.10.43->llama-index) (6.0.2)\n",
      "Requirement already satisfied: yarl<2.0,>=1.0 in c:\\users\\afafc\\anaconda3\\lib\\site-packages (from aiohttp<4.0.0,>=3.8.6->llama-index-core==0.10.43->llama-index) (1.8.1)\n",
      "Requirement already satisfied: soupsieve>1.2 in c:\\users\\afafc\\anaconda3\\lib\\site-packages (from beautifulsoup4<5.0.0,>=4.12.3->llama-index-readers-file<0.2.0,>=0.1.4->llama-index) (2.4)\n",
      "Requirement already satisfied: parso<0.9.0,>=0.8.0 in c:\\users\\afafc\\anaconda3\\lib\\site-packages (from jedi>=0.16->ipython>=6.1.0->ipywidgets) (0.8.3)\n",
      "Requirement already satisfied: entrypoints in c:\\users\\afafc\\anaconda3\\lib\\site-packages (from jupyter-client>=6.1.12->ipykernel>=4.5.1->ipywidgets) (0.4)\n",
      "Requirement already satisfied: python-dateutil>=2.8.2 in c:\\users\\afafc\\anaconda3\\lib\\site-packages (from jupyter-client>=6.1.12->ipykernel>=4.5.1->ipywidgets) (2.8.2)\n",
      "Requirement already satisfied: platformdirs>=2.5 in c:\\users\\afafc\\anaconda3\\lib\\site-packages (from jupyter-core!=5.0.*,>=4.12->ipykernel>=4.5.1->ipywidgets) (3.10.0)\n",
      "Requirement already satisfied: pywin32>=300 in c:\\users\\afafc\\anaconda3\\lib\\site-packages (from jupyter-core!=5.0.*,>=4.12->ipykernel>=4.5.1->ipywidgets) (305.1)\n",
      "Requirement already satisfied: pydantic>=1.10 in c:\\users\\afafc\\anaconda3\\lib\\site-packages (from llamaindex-py-client<0.2.0,>=0.1.18->llama-index-core==0.10.43->llama-index) (1.10.8)\n",
      "Requirement already satisfied: anyio in c:\\users\\afafc\\anaconda3\\lib\\site-packages (from httpx->llama-index-core==0.10.43->llama-index) (3.5.0)\n",
      "Requirement already satisfied: certifi in c:\\users\\afafc\\anaconda3\\lib\\site-packages (from httpx->llama-index-core==0.10.43->llama-index) (2023.11.17)\n",
      "Requirement already satisfied: httpcore==1.* in c:\\users\\afafc\\anaconda3\\lib\\site-packages (from httpx->llama-index-core==0.10.43->llama-index) (1.0.5)\n",
      "Requirement already satisfied: idna in c:\\users\\afafc\\anaconda3\\lib\\site-packages (from httpx->llama-index-core==0.10.43->llama-index) (3.4)\n",
      "Requirement already satisfied: sniffio in c:\\users\\afafc\\anaconda3\\lib\\site-packages (from httpx->llama-index-core==0.10.43->llama-index) (1.3.1)\n",
      "Requirement already satisfied: h11<0.15,>=0.13 in c:\\users\\afafc\\anaconda3\\lib\\site-packages (from httpcore==1.*->httpx->llama-index-core==0.10.43->llama-index) (0.14.0)\n",
      "Requirement already satisfied: click in c:\\users\\afafc\\anaconda3\\lib\\site-packages (from nltk<4.0.0,>=3.8.1->llama-index-core==0.10.43->llama-index) (8.0.4)\n",
      "Requirement already satisfied: joblib in c:\\users\\afafc\\anaconda3\\lib\\site-packages (from nltk<4.0.0,>=3.8.1->llama-index-core==0.10.43->llama-index) (1.2.0)\n",
      "Requirement already satisfied: regex>=2021.8.3 in c:\\users\\afafc\\anaconda3\\lib\\site-packages (from nltk<4.0.0,>=3.8.1->llama-index-core==0.10.43->llama-index) (2022.7.9)\n",
      "Requirement already satisfied: distro<2,>=1.7.0 in c:\\users\\afafc\\anaconda3\\lib\\site-packages (from openai>=1.1.0->llama-index-core==0.10.43->llama-index) (1.9.0)\n",
      "Requirement already satisfied: wcwidth in c:\\users\\afafc\\anaconda3\\lib\\site-packages (from prompt-toolkit!=3.0.37,<3.1.0,>=3.0.30->ipython>=6.1.0->ipywidgets) (0.2.5)\n",
      "Requirement already satisfied: charset-normalizer<4,>=2 in c:\\users\\afafc\\anaconda3\\lib\\site-packages (from requests>=2.31.0->llama-index-core==0.10.43->llama-index) (3.3.2)\n",
      "Requirement already satisfied: urllib3<3,>=1.21.1 in c:\\users\\afafc\\anaconda3\\lib\\site-packages (from requests>=2.31.0->llama-index-core==0.10.43->llama-index) (2.2.1)\n",
      "Requirement already satisfied: greenlet!=0.4.17 in c:\\users\\afafc\\anaconda3\\lib\\site-packages (from SQLAlchemy[asyncio]>=1.4.49->llama-index-core==0.10.43->llama-index) (3.0.3)\n",
      "Requirement already satisfied: mypy-extensions>=0.3.0 in c:\\users\\afafc\\anaconda3\\lib\\site-packages (from typing-inspect>=0.8.0->llama-index-core==0.10.43->llama-index) (1.0.0)\n",
      "Requirement already satisfied: marshmallow<4.0.0,>=3.18.0 in c:\\users\\afafc\\anaconda3\\lib\\site-packages (from dataclasses-json->llama-index-core==0.10.43->llama-index) (3.21.2)\n",
      "Requirement already satisfied: pytz>=2020.1 in c:\\users\\afafc\\anaconda3\\lib\\site-packages (from pandas->llama-index-core==0.10.43->llama-index) (2023.3.post1)\n",
      "Requirement already satisfied: tzdata>=2022.1 in c:\\users\\afafc\\anaconda3\\lib\\site-packages (from pandas->llama-index-core==0.10.43->llama-index) (2023.3)\n",
      "Requirement already satisfied: executing in c:\\users\\afafc\\anaconda3\\lib\\site-packages (from stack-data->ipython>=6.1.0->ipywidgets) (0.8.3)\n",
      "Requirement already satisfied: asttokens in c:\\users\\afafc\\anaconda3\\lib\\site-packages (from stack-data->ipython>=6.1.0->ipywidgets) (2.0.5)\n",
      "Requirement already satisfied: pure-eval in c:\\users\\afafc\\anaconda3\\lib\\site-packages (from stack-data->ipython>=6.1.0->ipywidgets) (0.2.2)\n",
      "Requirement already satisfied: six>=1.5 in c:\\users\\afafc\\anaconda3\\lib\\site-packages (from python-dateutil>=2.8.2->jupyter-client>=6.1.12->ipykernel>=4.5.1->ipywidgets) (1.16.0)\n",
      "Collecting llama-index-llms-huggingface\n",
      "  Obtaining dependency information for llama-index-llms-huggingface from https://files.pythonhosted.org/packages/54/3b/a805a93efa59a91e181ccd3326ba88d789417bd90e85ad64a91b2e65274d/llama_index_llms_huggingface-0.2.3-py3-none-any.whl.metadata\n",
      "  Downloading llama_index_llms_huggingface-0.2.3-py3-none-any.whl.metadata (790 bytes)\n",
      "Requirement already satisfied: huggingface-hub<0.24.0,>=0.23.0 in c:\\users\\afafc\\anaconda3\\lib\\site-packages (from llama-index-llms-huggingface) (0.23.3)\n",
      "Requirement already satisfied: llama-index-core<0.11.0,>=0.10.41 in c:\\users\\afafc\\anaconda3\\lib\\site-packages (from llama-index-llms-huggingface) (0.10.43)\n",
      "Collecting text-generation<0.8.0,>=0.7.0 (from llama-index-llms-huggingface)\n",
      "  Obtaining dependency information for text-generation<0.8.0,>=0.7.0 from https://files.pythonhosted.org/packages/7b/79/8fc351fd919a41287243c998a47692c7eb0fa5acded13db0080f2c6f1852/text_generation-0.7.0-py3-none-any.whl.metadata\n",
      "  Downloading text_generation-0.7.0-py3-none-any.whl.metadata (8.5 kB)\n",
      "Collecting torch<3.0.0,>=2.1.2 (from llama-index-llms-huggingface)\n",
      "  Obtaining dependency information for torch<3.0.0,>=2.1.2 from https://files.pythonhosted.org/packages/d3/1d/a257913c89572de61316461db91867f87519146e58132cdeace3d9ffbe1f/torch-2.3.1-cp311-cp311-win_amd64.whl.metadata\n",
      "  Using cached torch-2.3.1-cp311-cp311-win_amd64.whl.metadata (26 kB)\n",
      "Requirement already satisfied: transformers[torch]<5.0.0,>=4.37.0 in c:\\users\\afafc\\anaconda3\\lib\\site-packages (from llama-index-llms-huggingface) (4.41.2)\n",
      "Requirement already satisfied: filelock in c:\\users\\afafc\\anaconda3\\lib\\site-packages (from huggingface-hub<0.24.0,>=0.23.0->llama-index-llms-huggingface) (3.9.0)\n",
      "Requirement already satisfied: fsspec>=2023.5.0 in c:\\users\\afafc\\anaconda3\\lib\\site-packages (from huggingface-hub<0.24.0,>=0.23.0->llama-index-llms-huggingface) (2024.5.0)\n",
      "Requirement already satisfied: packaging>=20.9 in c:\\users\\afafc\\anaconda3\\lib\\site-packages (from huggingface-hub<0.24.0,>=0.23.0->llama-index-llms-huggingface) (23.2)\n",
      "Requirement already satisfied: pyyaml>=5.1 in c:\\users\\afafc\\anaconda3\\lib\\site-packages (from huggingface-hub<0.24.0,>=0.23.0->llama-index-llms-huggingface) (6.0.1)\n",
      "Requirement already satisfied: requests in c:\\users\\afafc\\anaconda3\\lib\\site-packages (from huggingface-hub<0.24.0,>=0.23.0->llama-index-llms-huggingface) (2.31.0)\n",
      "Requirement already satisfied: tqdm>=4.42.1 in c:\\users\\afafc\\anaconda3\\lib\\site-packages (from huggingface-hub<0.24.0,>=0.23.0->llama-index-llms-huggingface) (4.66.4)\n",
      "Requirement already satisfied: typing-extensions>=3.7.4.3 in c:\\users\\afafc\\anaconda3\\lib\\site-packages (from huggingface-hub<0.24.0,>=0.23.0->llama-index-llms-huggingface) (4.12.1)\n",
      "Requirement already satisfied: SQLAlchemy[asyncio]>=1.4.49 in c:\\users\\afafc\\anaconda3\\lib\\site-packages (from llama-index-core<0.11.0,>=0.10.41->llama-index-llms-huggingface) (2.0.30)\n",
      "Requirement already satisfied: aiohttp<4.0.0,>=3.8.6 in c:\\users\\afafc\\anaconda3\\lib\\site-packages (from llama-index-core<0.11.0,>=0.10.41->llama-index-llms-huggingface) (3.9.5)\n",
      "Requirement already satisfied: dataclasses-json in c:\\users\\afafc\\anaconda3\\lib\\site-packages (from llama-index-core<0.11.0,>=0.10.41->llama-index-llms-huggingface) (0.6.6)\n",
      "Requirement already satisfied: deprecated>=1.2.9.3 in c:\\users\\afafc\\anaconda3\\lib\\site-packages (from llama-index-core<0.11.0,>=0.10.41->llama-index-llms-huggingface) (1.2.14)\n",
      "Requirement already satisfied: dirtyjson<2.0.0,>=1.0.8 in c:\\users\\afafc\\anaconda3\\lib\\site-packages (from llama-index-core<0.11.0,>=0.10.41->llama-index-llms-huggingface) (1.0.8)\n",
      "Requirement already satisfied: httpx in c:\\users\\afafc\\anaconda3\\lib\\site-packages (from llama-index-core<0.11.0,>=0.10.41->llama-index-llms-huggingface) (0.27.0)\n",
      "Requirement already satisfied: llamaindex-py-client<0.2.0,>=0.1.18 in c:\\users\\afafc\\anaconda3\\lib\\site-packages (from llama-index-core<0.11.0,>=0.10.41->llama-index-llms-huggingface) (0.1.19)\n",
      "Requirement already satisfied: nest-asyncio<2.0.0,>=1.5.8 in c:\\users\\afafc\\anaconda3\\lib\\site-packages (from llama-index-core<0.11.0,>=0.10.41->llama-index-llms-huggingface) (1.6.0)\n",
      "Requirement already satisfied: networkx>=3.0 in c:\\users\\afafc\\anaconda3\\lib\\site-packages (from llama-index-core<0.11.0,>=0.10.41->llama-index-llms-huggingface) (3.1)\n",
      "Requirement already satisfied: nltk<4.0.0,>=3.8.1 in c:\\users\\afafc\\anaconda3\\lib\\site-packages (from llama-index-core<0.11.0,>=0.10.41->llama-index-llms-huggingface) (3.8.1)\n",
      "Requirement already satisfied: numpy in c:\\users\\afafc\\anaconda3\\lib\\site-packages (from llama-index-core<0.11.0,>=0.10.41->llama-index-llms-huggingface) (1.24.3)\n",
      "Requirement already satisfied: openai>=1.1.0 in c:\\users\\afafc\\anaconda3\\lib\\site-packages (from llama-index-core<0.11.0,>=0.10.41->llama-index-llms-huggingface) (1.30.5)\n",
      "Requirement already satisfied: pandas in c:\\users\\afafc\\anaconda3\\lib\\site-packages (from llama-index-core<0.11.0,>=0.10.41->llama-index-llms-huggingface) (2.0.3)\n",
      "Requirement already satisfied: pillow>=9.0.0 in c:\\users\\afafc\\anaconda3\\lib\\site-packages (from llama-index-core<0.11.0,>=0.10.41->llama-index-llms-huggingface) (9.4.0)\n",
      "Requirement already satisfied: tenacity<9.0.0,>=8.2.0 in c:\\users\\afafc\\anaconda3\\lib\\site-packages (from llama-index-core<0.11.0,>=0.10.41->llama-index-llms-huggingface) (8.3.0)\n",
      "Requirement already satisfied: tiktoken>=0.3.3 in c:\\users\\afafc\\anaconda3\\lib\\site-packages (from llama-index-core<0.11.0,>=0.10.41->llama-index-llms-huggingface) (0.7.0)\n",
      "Requirement already satisfied: typing-inspect>=0.8.0 in c:\\users\\afafc\\anaconda3\\lib\\site-packages (from llama-index-core<0.11.0,>=0.10.41->llama-index-llms-huggingface) (0.9.0)\n",
      "Requirement already satisfied: wrapt in c:\\users\\afafc\\anaconda3\\lib\\site-packages (from llama-index-core<0.11.0,>=0.10.41->llama-index-llms-huggingface) (1.14.1)\n",
      "Collecting pydantic<3,>2 (from text-generation<0.8.0,>=0.7.0->llama-index-llms-huggingface)\n",
      "  Obtaining dependency information for pydantic<3,>2 from https://files.pythonhosted.org/packages/e6/f5/80931903275942770f1112b524f1948f6d6ebd44725425025ca838800de2/pydantic-2.7.3-py3-none-any.whl.metadata\n",
      "  Downloading pydantic-2.7.3-py3-none-any.whl.metadata (108 kB)\n",
      "     ---------------------------------------- 0.0/109.0 kB ? eta -:--:--\n",
      "     ------------- ----------------------- 41.0/109.0 kB 991.0 kB/s eta 0:00:01\n",
      "     -------------------------------------- 109.0/109.0 kB 2.1 MB/s eta 0:00:00\n",
      "Requirement already satisfied: sympy in c:\\users\\afafc\\anaconda3\\lib\\site-packages (from torch<3.0.0,>=2.1.2->llama-index-llms-huggingface) (1.11.1)\n",
      "Requirement already satisfied: jinja2 in c:\\users\\afafc\\anaconda3\\lib\\site-packages (from torch<3.0.0,>=2.1.2->llama-index-llms-huggingface) (3.1.2)\n",
      "Collecting mkl<=2021.4.0,>=2021.1.1 (from torch<3.0.0,>=2.1.2->llama-index-llms-huggingface)\n",
      "  Obtaining dependency information for mkl<=2021.4.0,>=2021.1.1 from https://files.pythonhosted.org/packages/fe/1c/5f6dbf18e8b73e0a5472466f0ea8d48ce9efae39bd2ff38cebf8dce61259/mkl-2021.4.0-py2.py3-none-win_amd64.whl.metadata\n",
      "  Using cached mkl-2021.4.0-py2.py3-none-win_amd64.whl.metadata (1.4 kB)\n",
      "Requirement already satisfied: regex!=2019.12.17 in c:\\users\\afafc\\anaconda3\\lib\\site-packages (from transformers[torch]<5.0.0,>=4.37.0->llama-index-llms-huggingface) (2022.7.9)\n",
      "Requirement already satisfied: tokenizers<0.20,>=0.19 in c:\\users\\afafc\\anaconda3\\lib\\site-packages (from transformers[torch]<5.0.0,>=4.37.0->llama-index-llms-huggingface) (0.19.1)\n",
      "Requirement already satisfied: safetensors>=0.4.1 in c:\\users\\afafc\\anaconda3\\lib\\site-packages (from transformers[torch]<5.0.0,>=4.37.0->llama-index-llms-huggingface) (0.4.3)\n",
      "Collecting accelerate>=0.21.0 (from transformers[torch]<5.0.0,>=4.37.0->llama-index-llms-huggingface)\n",
      "  Obtaining dependency information for accelerate>=0.21.0 from https://files.pythonhosted.org/packages/e9/bb/1edd2c836071e91d2bd331b9542bbd592e23d1474645b9c6fd56232caace/accelerate-0.30.1-py3-none-any.whl.metadata\n",
      "  Downloading accelerate-0.30.1-py3-none-any.whl.metadata (18 kB)\n",
      "Requirement already satisfied: psutil in c:\\users\\afafc\\anaconda3\\lib\\site-packages (from accelerate>=0.21.0->transformers[torch]<5.0.0,>=4.37.0->llama-index-llms-huggingface) (5.9.0)\n",
      "Requirement already satisfied: aiosignal>=1.1.2 in c:\\users\\afafc\\anaconda3\\lib\\site-packages (from aiohttp<4.0.0,>=3.8.6->llama-index-core<0.11.0,>=0.10.41->llama-index-llms-huggingface) (1.2.0)\n",
      "Requirement already satisfied: attrs>=17.3.0 in c:\\users\\afafc\\anaconda3\\lib\\site-packages (from aiohttp<4.0.0,>=3.8.6->llama-index-core<0.11.0,>=0.10.41->llama-index-llms-huggingface) (23.2.0)\n",
      "Requirement already satisfied: frozenlist>=1.1.1 in c:\\users\\afafc\\anaconda3\\lib\\site-packages (from aiohttp<4.0.0,>=3.8.6->llama-index-core<0.11.0,>=0.10.41->llama-index-llms-huggingface) (1.3.3)\n",
      "Requirement already satisfied: multidict<7.0,>=4.5 in c:\\users\\afafc\\anaconda3\\lib\\site-packages (from aiohttp<4.0.0,>=3.8.6->llama-index-core<0.11.0,>=0.10.41->llama-index-llms-huggingface) (6.0.2)\n",
      "Requirement already satisfied: yarl<2.0,>=1.0 in c:\\users\\afafc\\anaconda3\\lib\\site-packages (from aiohttp<4.0.0,>=3.8.6->llama-index-core<0.11.0,>=0.10.41->llama-index-llms-huggingface) (1.8.1)\n",
      "Requirement already satisfied: anyio in c:\\users\\afafc\\anaconda3\\lib\\site-packages (from httpx->llama-index-core<0.11.0,>=0.10.41->llama-index-llms-huggingface) (3.5.0)\n",
      "Requirement already satisfied: certifi in c:\\users\\afafc\\anaconda3\\lib\\site-packages (from httpx->llama-index-core<0.11.0,>=0.10.41->llama-index-llms-huggingface) (2023.11.17)\n",
      "Requirement already satisfied: httpcore==1.* in c:\\users\\afafc\\anaconda3\\lib\\site-packages (from httpx->llama-index-core<0.11.0,>=0.10.41->llama-index-llms-huggingface) (1.0.5)\n",
      "Requirement already satisfied: idna in c:\\users\\afafc\\anaconda3\\lib\\site-packages (from httpx->llama-index-core<0.11.0,>=0.10.41->llama-index-llms-huggingface) (3.4)\n",
      "Requirement already satisfied: sniffio in c:\\users\\afafc\\anaconda3\\lib\\site-packages (from httpx->llama-index-core<0.11.0,>=0.10.41->llama-index-llms-huggingface) (1.3.1)\n",
      "Requirement already satisfied: h11<0.15,>=0.13 in c:\\users\\afafc\\anaconda3\\lib\\site-packages (from httpcore==1.*->httpx->llama-index-core<0.11.0,>=0.10.41->llama-index-llms-huggingface) (0.14.0)\n",
      "Collecting intel-openmp==2021.* (from mkl<=2021.4.0,>=2021.1.1->torch<3.0.0,>=2.1.2->llama-index-llms-huggingface)\n",
      "  Obtaining dependency information for intel-openmp==2021.* from https://files.pythonhosted.org/packages/6f/21/b590c0cc3888b24f2ac9898c41d852d7454a1695fbad34bee85dba6dc408/intel_openmp-2021.4.0-py2.py3-none-win_amd64.whl.metadata\n",
      "  Using cached intel_openmp-2021.4.0-py2.py3-none-win_amd64.whl.metadata (1.2 kB)\n",
      "Collecting tbb==2021.* (from mkl<=2021.4.0,>=2021.1.1->torch<3.0.0,>=2.1.2->llama-index-llms-huggingface)\n",
      "  Obtaining dependency information for tbb==2021.* from https://files.pythonhosted.org/packages/7b/2d/1e1c70fae8ace27e6200fb71c2372a9aeac2baba474b1609d7d466e969b4/tbb-2021.12.0-py3-none-win_amd64.whl.metadata\n",
      "  Using cached tbb-2021.12.0-py3-none-win_amd64.whl.metadata (1.1 kB)\n",
      "Requirement already satisfied: click in c:\\users\\afafc\\anaconda3\\lib\\site-packages (from nltk<4.0.0,>=3.8.1->llama-index-core<0.11.0,>=0.10.41->llama-index-llms-huggingface) (8.0.4)\n",
      "Requirement already satisfied: joblib in c:\\users\\afafc\\anaconda3\\lib\\site-packages (from nltk<4.0.0,>=3.8.1->llama-index-core<0.11.0,>=0.10.41->llama-index-llms-huggingface) (1.2.0)\n",
      "Requirement already satisfied: distro<2,>=1.7.0 in c:\\users\\afafc\\anaconda3\\lib\\site-packages (from openai>=1.1.0->llama-index-core<0.11.0,>=0.10.41->llama-index-llms-huggingface) (1.9.0)\n",
      "Collecting annotated-types>=0.4.0 (from pydantic<3,>2->text-generation<0.8.0,>=0.7.0->llama-index-llms-huggingface)\n",
      "  Obtaining dependency information for annotated-types>=0.4.0 from https://files.pythonhosted.org/packages/78/b6/6307fbef88d9b5ee7421e68d78a9f162e0da4900bc5f5793f6d3d0e34fb8/annotated_types-0.7.0-py3-none-any.whl.metadata\n",
      "  Downloading annotated_types-0.7.0-py3-none-any.whl.metadata (15 kB)\n",
      "Collecting pydantic-core==2.18.4 (from pydantic<3,>2->text-generation<0.8.0,>=0.7.0->llama-index-llms-huggingface)\n",
      "  Obtaining dependency information for pydantic-core==2.18.4 from https://files.pythonhosted.org/packages/00/29/62236e5e19b92c1b908089589300e5834a8fcb5f870ae4f2a08b17782142/pydantic_core-2.18.4-cp311-none-win_amd64.whl.metadata\n",
      "  Downloading pydantic_core-2.18.4-cp311-none-win_amd64.whl.metadata (6.7 kB)\n",
      "Requirement already satisfied: charset-normalizer<4,>=2 in c:\\users\\afafc\\anaconda3\\lib\\site-packages (from requests->huggingface-hub<0.24.0,>=0.23.0->llama-index-llms-huggingface) (3.3.2)\n",
      "Requirement already satisfied: urllib3<3,>=1.21.1 in c:\\users\\afafc\\anaconda3\\lib\\site-packages (from requests->huggingface-hub<0.24.0,>=0.23.0->llama-index-llms-huggingface) (2.2.1)\n",
      "Requirement already satisfied: greenlet!=0.4.17 in c:\\users\\afafc\\anaconda3\\lib\\site-packages (from SQLAlchemy[asyncio]>=1.4.49->llama-index-core<0.11.0,>=0.10.41->llama-index-llms-huggingface) (3.0.3)\n",
      "Requirement already satisfied: colorama in c:\\users\\afafc\\anaconda3\\lib\\site-packages (from tqdm>=4.42.1->huggingface-hub<0.24.0,>=0.23.0->llama-index-llms-huggingface) (0.4.6)\n",
      "Requirement already satisfied: mypy-extensions>=0.3.0 in c:\\users\\afafc\\anaconda3\\lib\\site-packages (from typing-inspect>=0.8.0->llama-index-core<0.11.0,>=0.10.41->llama-index-llms-huggingface) (1.0.0)\n",
      "Requirement already satisfied: marshmallow<4.0.0,>=3.18.0 in c:\\users\\afafc\\anaconda3\\lib\\site-packages (from dataclasses-json->llama-index-core<0.11.0,>=0.10.41->llama-index-llms-huggingface) (3.21.2)\n",
      "Requirement already satisfied: MarkupSafe>=2.0 in c:\\users\\afafc\\anaconda3\\lib\\site-packages (from jinja2->torch<3.0.0,>=2.1.2->llama-index-llms-huggingface) (2.1.1)\n",
      "Requirement already satisfied: python-dateutil>=2.8.2 in c:\\users\\afafc\\anaconda3\\lib\\site-packages (from pandas->llama-index-core<0.11.0,>=0.10.41->llama-index-llms-huggingface) (2.8.2)\n",
      "Requirement already satisfied: pytz>=2020.1 in c:\\users\\afafc\\anaconda3\\lib\\site-packages (from pandas->llama-index-core<0.11.0,>=0.10.41->llama-index-llms-huggingface) (2023.3.post1)\n",
      "Requirement already satisfied: tzdata>=2022.1 in c:\\users\\afafc\\anaconda3\\lib\\site-packages (from pandas->llama-index-core<0.11.0,>=0.10.41->llama-index-llms-huggingface) (2023.3)\n",
      "Requirement already satisfied: mpmath>=0.19 in c:\\users\\afafc\\anaconda3\\lib\\site-packages (from sympy->torch<3.0.0,>=2.1.2->llama-index-llms-huggingface) (1.3.0)\n",
      "Requirement already satisfied: six>=1.5 in c:\\users\\afafc\\anaconda3\\lib\\site-packages (from python-dateutil>=2.8.2->pandas->llama-index-core<0.11.0,>=0.10.41->llama-index-llms-huggingface) (1.16.0)\n",
      "Downloading llama_index_llms_huggingface-0.2.3-py3-none-any.whl (10 kB)\n",
      "Downloading text_generation-0.7.0-py3-none-any.whl (12 kB)\n",
      "Using cached torch-2.3.1-cp311-cp311-win_amd64.whl (159.8 MB)\n"
     ]
    },
    {
     "name": "stderr",
     "output_type": "stream",
     "text": [
      "ERROR: Could not install packages due to an OSError: [Errno 28] No space left on device\n",
      "\n"
     ]
    },
    {
     "name": "stdout",
     "output_type": "stream",
     "text": [
      "Requirement already satisfied: llama_index.readers.web in c:\\users\\afafc\\anaconda3\\lib\\site-packages (0.1.18)\n",
      "Requirement already satisfied: aiohttp<4.0.0,>=3.9.1 in c:\\users\\afafc\\anaconda3\\lib\\site-packages (from llama_index.readers.web) (3.9.5)\n",
      "Requirement already satisfied: beautifulsoup4<5.0.0,>=4.12.3 in c:\\users\\afafc\\anaconda3\\lib\\site-packages (from llama_index.readers.web) (4.12.3)\n",
      "Requirement already satisfied: chromedriver-autoinstaller<0.7.0,>=0.6.3 in c:\\users\\afafc\\anaconda3\\lib\\site-packages (from llama_index.readers.web) (0.6.4)\n",
      "Requirement already satisfied: html2text<2021.0.0,>=2020.1.16 in c:\\users\\afafc\\anaconda3\\lib\\site-packages (from llama_index.readers.web) (2020.1.16)\n",
      "Requirement already satisfied: llama-index-core<0.11.0,>=0.10.1 in c:\\users\\afafc\\anaconda3\\lib\\site-packages (from llama_index.readers.web) (0.10.43)\n",
      "Requirement already satisfied: newspaper3k<0.3.0,>=0.2.8 in c:\\users\\afafc\\anaconda3\\lib\\site-packages (from llama_index.readers.web) (0.2.8)\n",
      "Requirement already satisfied: playwright<2.0,>=1.30 in c:\\users\\afafc\\anaconda3\\lib\\site-packages (from llama_index.readers.web) (1.44.0)\n",
      "Requirement already satisfied: requests<3.0.0,>=2.31.0 in c:\\users\\afafc\\anaconda3\\lib\\site-packages (from llama_index.readers.web) (2.31.0)\n",
      "Requirement already satisfied: selenium<5.0.0,>=4.17.2 in c:\\users\\afafc\\anaconda3\\lib\\site-packages (from llama_index.readers.web) (4.21.0)\n",
      "Requirement already satisfied: spider-client<0.0.12,>=0.0.11 in c:\\users\\afafc\\anaconda3\\lib\\site-packages (from llama_index.readers.web) (0.0.11)\n",
      "Requirement already satisfied: urllib3>=1.1.0 in c:\\users\\afafc\\anaconda3\\lib\\site-packages (from llama_index.readers.web) (2.2.1)\n",
      "Requirement already satisfied: aiosignal>=1.1.2 in c:\\users\\afafc\\anaconda3\\lib\\site-packages (from aiohttp<4.0.0,>=3.9.1->llama_index.readers.web) (1.2.0)\n",
      "Requirement already satisfied: attrs>=17.3.0 in c:\\users\\afafc\\anaconda3\\lib\\site-packages (from aiohttp<4.0.0,>=3.9.1->llama_index.readers.web) (23.2.0)\n",
      "Requirement already satisfied: frozenlist>=1.1.1 in c:\\users\\afafc\\anaconda3\\lib\\site-packages (from aiohttp<4.0.0,>=3.9.1->llama_index.readers.web) (1.3.3)\n",
      "Requirement already satisfied: multidict<7.0,>=4.5 in c:\\users\\afafc\\anaconda3\\lib\\site-packages (from aiohttp<4.0.0,>=3.9.1->llama_index.readers.web) (6.0.2)\n",
      "Requirement already satisfied: yarl<2.0,>=1.0 in c:\\users\\afafc\\anaconda3\\lib\\site-packages (from aiohttp<4.0.0,>=3.9.1->llama_index.readers.web) (1.8.1)\n",
      "Requirement already satisfied: soupsieve>1.2 in c:\\users\\afafc\\anaconda3\\lib\\site-packages (from beautifulsoup4<5.0.0,>=4.12.3->llama_index.readers.web) (2.4)\n",
      "Requirement already satisfied: packaging>=23.1 in c:\\users\\afafc\\anaconda3\\lib\\site-packages (from chromedriver-autoinstaller<0.7.0,>=0.6.3->llama_index.readers.web) (23.2)\n",
      "Requirement already satisfied: PyYAML>=6.0.1 in c:\\users\\afafc\\anaconda3\\lib\\site-packages (from llama-index-core<0.11.0,>=0.10.1->llama_index.readers.web) (6.0.1)\n",
      "Requirement already satisfied: SQLAlchemy[asyncio]>=1.4.49 in c:\\users\\afafc\\anaconda3\\lib\\site-packages (from llama-index-core<0.11.0,>=0.10.1->llama_index.readers.web) (2.0.30)\n",
      "Requirement already satisfied: dataclasses-json in c:\\users\\afafc\\anaconda3\\lib\\site-packages (from llama-index-core<0.11.0,>=0.10.1->llama_index.readers.web) (0.6.6)\n",
      "Requirement already satisfied: deprecated>=1.2.9.3 in c:\\users\\afafc\\anaconda3\\lib\\site-packages (from llama-index-core<0.11.0,>=0.10.1->llama_index.readers.web) (1.2.14)\n",
      "Requirement already satisfied: dirtyjson<2.0.0,>=1.0.8 in c:\\users\\afafc\\anaconda3\\lib\\site-packages (from llama-index-core<0.11.0,>=0.10.1->llama_index.readers.web) (1.0.8)\n",
      "Requirement already satisfied: fsspec>=2023.5.0 in c:\\users\\afafc\\anaconda3\\lib\\site-packages (from llama-index-core<0.11.0,>=0.10.1->llama_index.readers.web) (2024.5.0)\n",
      "Requirement already satisfied: httpx in c:\\users\\afafc\\anaconda3\\lib\\site-packages (from llama-index-core<0.11.0,>=0.10.1->llama_index.readers.web) (0.27.0)\n",
      "Requirement already satisfied: llamaindex-py-client<0.2.0,>=0.1.18 in c:\\users\\afafc\\anaconda3\\lib\\site-packages (from llama-index-core<0.11.0,>=0.10.1->llama_index.readers.web) (0.1.19)\n",
      "Requirement already satisfied: nest-asyncio<2.0.0,>=1.5.8 in c:\\users\\afafc\\anaconda3\\lib\\site-packages (from llama-index-core<0.11.0,>=0.10.1->llama_index.readers.web) (1.6.0)\n",
      "Requirement already satisfied: networkx>=3.0 in c:\\users\\afafc\\anaconda3\\lib\\site-packages (from llama-index-core<0.11.0,>=0.10.1->llama_index.readers.web) (3.1)\n",
      "Requirement already satisfied: nltk<4.0.0,>=3.8.1 in c:\\users\\afafc\\anaconda3\\lib\\site-packages (from llama-index-core<0.11.0,>=0.10.1->llama_index.readers.web) (3.8.1)\n",
      "Requirement already satisfied: numpy in c:\\users\\afafc\\anaconda3\\lib\\site-packages (from llama-index-core<0.11.0,>=0.10.1->llama_index.readers.web) (1.24.3)\n",
      "Requirement already satisfied: openai>=1.1.0 in c:\\users\\afafc\\anaconda3\\lib\\site-packages (from llama-index-core<0.11.0,>=0.10.1->llama_index.readers.web) (1.30.5)\n",
      "Requirement already satisfied: pandas in c:\\users\\afafc\\anaconda3\\lib\\site-packages (from llama-index-core<0.11.0,>=0.10.1->llama_index.readers.web) (2.0.3)\n",
      "Requirement already satisfied: pillow>=9.0.0 in c:\\users\\afafc\\anaconda3\\lib\\site-packages (from llama-index-core<0.11.0,>=0.10.1->llama_index.readers.web) (9.4.0)\n",
      "Requirement already satisfied: tenacity<9.0.0,>=8.2.0 in c:\\users\\afafc\\anaconda3\\lib\\site-packages (from llama-index-core<0.11.0,>=0.10.1->llama_index.readers.web) (8.3.0)\n",
      "Requirement already satisfied: tiktoken>=0.3.3 in c:\\users\\afafc\\anaconda3\\lib\\site-packages (from llama-index-core<0.11.0,>=0.10.1->llama_index.readers.web) (0.7.0)\n",
      "Requirement already satisfied: tqdm<5.0.0,>=4.66.1 in c:\\users\\afafc\\anaconda3\\lib\\site-packages (from llama-index-core<0.11.0,>=0.10.1->llama_index.readers.web) (4.66.4)\n",
      "Requirement already satisfied: typing-extensions>=4.5.0 in c:\\users\\afafc\\anaconda3\\lib\\site-packages (from llama-index-core<0.11.0,>=0.10.1->llama_index.readers.web) (4.12.1)\n",
      "Requirement already satisfied: typing-inspect>=0.8.0 in c:\\users\\afafc\\anaconda3\\lib\\site-packages (from llama-index-core<0.11.0,>=0.10.1->llama_index.readers.web) (0.9.0)\n",
      "Requirement already satisfied: wrapt in c:\\users\\afafc\\anaconda3\\lib\\site-packages (from llama-index-core<0.11.0,>=0.10.1->llama_index.readers.web) (1.14.1)\n",
      "Requirement already satisfied: cssselect>=0.9.2 in c:\\users\\afafc\\anaconda3\\lib\\site-packages (from newspaper3k<0.3.0,>=0.2.8->llama_index.readers.web) (1.1.0)\n",
      "Requirement already satisfied: lxml>=3.6.0 in c:\\users\\afafc\\anaconda3\\lib\\site-packages (from newspaper3k<0.3.0,>=0.2.8->llama_index.readers.web) (4.9.3)\n",
      "Requirement already satisfied: feedparser>=5.2.1 in c:\\users\\afafc\\anaconda3\\lib\\site-packages (from newspaper3k<0.3.0,>=0.2.8->llama_index.readers.web) (6.0.11)\n",
      "Requirement already satisfied: tldextract>=2.0.1 in c:\\users\\afafc\\anaconda3\\lib\\site-packages (from newspaper3k<0.3.0,>=0.2.8->llama_index.readers.web) (3.2.0)\n",
      "Requirement already satisfied: feedfinder2>=0.0.4 in c:\\users\\afafc\\anaconda3\\lib\\site-packages (from newspaper3k<0.3.0,>=0.2.8->llama_index.readers.web) (0.0.4)\n",
      "Requirement already satisfied: jieba3k>=0.35.1 in c:\\users\\afafc\\anaconda3\\lib\\site-packages (from newspaper3k<0.3.0,>=0.2.8->llama_index.readers.web) (0.35.1)\n",
      "Requirement already satisfied: python-dateutil>=2.5.3 in c:\\users\\afafc\\anaconda3\\lib\\site-packages (from newspaper3k<0.3.0,>=0.2.8->llama_index.readers.web) (2.8.2)\n",
      "Requirement already satisfied: tinysegmenter==0.3 in c:\\users\\afafc\\anaconda3\\lib\\site-packages (from newspaper3k<0.3.0,>=0.2.8->llama_index.readers.web) (0.3)\n",
      "Requirement already satisfied: greenlet==3.0.3 in c:\\users\\afafc\\anaconda3\\lib\\site-packages (from playwright<2.0,>=1.30->llama_index.readers.web) (3.0.3)\n",
      "Requirement already satisfied: pyee==11.1.0 in c:\\users\\afafc\\anaconda3\\lib\\site-packages (from playwright<2.0,>=1.30->llama_index.readers.web) (11.1.0)\n",
      "Requirement already satisfied: charset-normalizer<4,>=2 in c:\\users\\afafc\\anaconda3\\lib\\site-packages (from requests<3.0.0,>=2.31.0->llama_index.readers.web) (3.3.2)\n",
      "Requirement already satisfied: idna<4,>=2.5 in c:\\users\\afafc\\anaconda3\\lib\\site-packages (from requests<3.0.0,>=2.31.0->llama_index.readers.web) (3.4)\n",
      "Requirement already satisfied: certifi>=2017.4.17 in c:\\users\\afafc\\anaconda3\\lib\\site-packages (from requests<3.0.0,>=2.31.0->llama_index.readers.web) (2023.11.17)\n",
      "Requirement already satisfied: trio~=0.17 in c:\\users\\afafc\\anaconda3\\lib\\site-packages (from selenium<5.0.0,>=4.17.2->llama_index.readers.web) (0.25.1)\n",
      "Requirement already satisfied: trio-websocket~=0.9 in c:\\users\\afafc\\anaconda3\\lib\\site-packages (from selenium<5.0.0,>=4.17.2->llama_index.readers.web) (0.11.1)\n",
      "Requirement already satisfied: six in c:\\users\\afafc\\anaconda3\\lib\\site-packages (from feedfinder2>=0.0.4->newspaper3k<0.3.0,>=0.2.8->llama_index.readers.web) (1.16.0)\n",
      "Requirement already satisfied: sgmllib3k in c:\\users\\afafc\\anaconda3\\lib\\site-packages (from feedparser>=5.2.1->newspaper3k<0.3.0,>=0.2.8->llama_index.readers.web) (1.0.0)\n",
      "Requirement already satisfied: pydantic>=1.10 in c:\\users\\afafc\\anaconda3\\lib\\site-packages (from llamaindex-py-client<0.2.0,>=0.1.18->llama-index-core<0.11.0,>=0.10.1->llama_index.readers.web) (1.10.8)\n",
      "Requirement already satisfied: anyio in c:\\users\\afafc\\anaconda3\\lib\\site-packages (from httpx->llama-index-core<0.11.0,>=0.10.1->llama_index.readers.web) (3.5.0)\n",
      "Requirement already satisfied: httpcore==1.* in c:\\users\\afafc\\anaconda3\\lib\\site-packages (from httpx->llama-index-core<0.11.0,>=0.10.1->llama_index.readers.web) (1.0.5)\n",
      "Requirement already satisfied: sniffio in c:\\users\\afafc\\anaconda3\\lib\\site-packages (from httpx->llama-index-core<0.11.0,>=0.10.1->llama_index.readers.web) (1.3.1)\n",
      "Requirement already satisfied: h11<0.15,>=0.13 in c:\\users\\afafc\\anaconda3\\lib\\site-packages (from httpcore==1.*->httpx->llama-index-core<0.11.0,>=0.10.1->llama_index.readers.web) (0.14.0)\n",
      "Requirement already satisfied: click in c:\\users\\afafc\\anaconda3\\lib\\site-packages (from nltk<4.0.0,>=3.8.1->llama-index-core<0.11.0,>=0.10.1->llama_index.readers.web) (8.0.4)\n",
      "Requirement already satisfied: joblib in c:\\users\\afafc\\anaconda3\\lib\\site-packages (from nltk<4.0.0,>=3.8.1->llama-index-core<0.11.0,>=0.10.1->llama_index.readers.web) (1.2.0)\n",
      "Requirement already satisfied: regex>=2021.8.3 in c:\\users\\afafc\\anaconda3\\lib\\site-packages (from nltk<4.0.0,>=3.8.1->llama-index-core<0.11.0,>=0.10.1->llama_index.readers.web) (2022.7.9)\n",
      "Requirement already satisfied: distro<2,>=1.7.0 in c:\\users\\afafc\\anaconda3\\lib\\site-packages (from openai>=1.1.0->llama-index-core<0.11.0,>=0.10.1->llama_index.readers.web) (1.9.0)\n",
      "Requirement already satisfied: requests-file>=1.4 in c:\\users\\afafc\\anaconda3\\lib\\site-packages (from tldextract>=2.0.1->newspaper3k<0.3.0,>=0.2.8->llama_index.readers.web) (1.5.1)\n",
      "Requirement already satisfied: filelock>=3.0.8 in c:\\users\\afafc\\anaconda3\\lib\\site-packages (from tldextract>=2.0.1->newspaper3k<0.3.0,>=0.2.8->llama_index.readers.web) (3.9.0)\n",
      "Requirement already satisfied: colorama in c:\\users\\afafc\\anaconda3\\lib\\site-packages (from tqdm<5.0.0,>=4.66.1->llama-index-core<0.11.0,>=0.10.1->llama_index.readers.web) (0.4.6)\n",
      "Requirement already satisfied: sortedcontainers in c:\\users\\afafc\\anaconda3\\lib\\site-packages (from trio~=0.17->selenium<5.0.0,>=4.17.2->llama_index.readers.web) (2.4.0)\n",
      "Requirement already satisfied: outcome in c:\\users\\afafc\\anaconda3\\lib\\site-packages (from trio~=0.17->selenium<5.0.0,>=4.17.2->llama_index.readers.web) (1.3.0.post0)\n",
      "Requirement already satisfied: cffi>=1.14 in c:\\users\\afafc\\anaconda3\\lib\\site-packages (from trio~=0.17->selenium<5.0.0,>=4.17.2->llama_index.readers.web) (1.15.1)\n",
      "Requirement already satisfied: wsproto>=0.14 in c:\\users\\afafc\\anaconda3\\lib\\site-packages (from trio-websocket~=0.9->selenium<5.0.0,>=4.17.2->llama_index.readers.web) (1.2.0)\n",
      "Requirement already satisfied: mypy-extensions>=0.3.0 in c:\\users\\afafc\\anaconda3\\lib\\site-packages (from typing-inspect>=0.8.0->llama-index-core<0.11.0,>=0.10.1->llama_index.readers.web) (1.0.0)\n",
      "Requirement already satisfied: pysocks!=1.5.7,<2.0,>=1.5.6 in c:\\users\\afafc\\anaconda3\\lib\\site-packages (from urllib3>=1.1.0->llama_index.readers.web) (1.7.1)\n",
      "Requirement already satisfied: marshmallow<4.0.0,>=3.18.0 in c:\\users\\afafc\\anaconda3\\lib\\site-packages (from dataclasses-json->llama-index-core<0.11.0,>=0.10.1->llama_index.readers.web) (3.21.2)\n",
      "Requirement already satisfied: pytz>=2020.1 in c:\\users\\afafc\\anaconda3\\lib\\site-packages (from pandas->llama-index-core<0.11.0,>=0.10.1->llama_index.readers.web) (2023.3.post1)\n",
      "Requirement already satisfied: tzdata>=2022.1 in c:\\users\\afafc\\anaconda3\\lib\\site-packages (from pandas->llama-index-core<0.11.0,>=0.10.1->llama_index.readers.web) (2023.3)\n",
      "Requirement already satisfied: pycparser in c:\\users\\afafc\\anaconda3\\lib\\site-packages (from cffi>=1.14->trio~=0.17->selenium<5.0.0,>=4.17.2->llama_index.readers.web) (2.21)\n",
      "Requirement already satisfied: chromadb in c:\\users\\afafc\\anaconda3\\lib\\site-packages (0.5.0)\n",
      "Requirement already satisfied: build>=1.0.3 in c:\\users\\afafc\\anaconda3\\lib\\site-packages (from chromadb) (1.2.1)\n",
      "Requirement already satisfied: requests>=2.28 in c:\\users\\afafc\\anaconda3\\lib\\site-packages (from chromadb) (2.31.0)\n",
      "Requirement already satisfied: pydantic>=1.9 in c:\\users\\afafc\\anaconda3\\lib\\site-packages (from chromadb) (1.10.8)\n",
      "Requirement already satisfied: chroma-hnswlib==0.7.3 in c:\\users\\afafc\\anaconda3\\lib\\site-packages (from chromadb) (0.7.3)\n",
      "Requirement already satisfied: fastapi>=0.95.2 in c:\\users\\afafc\\anaconda3\\lib\\site-packages (from chromadb) (0.111.0)\n",
      "Requirement already satisfied: uvicorn[standard]>=0.18.3 in c:\\users\\afafc\\anaconda3\\lib\\site-packages (from chromadb) (0.30.1)\n",
      "Requirement already satisfied: numpy>=1.22.5 in c:\\users\\afafc\\anaconda3\\lib\\site-packages (from chromadb) (1.24.3)\n",
      "Requirement already satisfied: posthog>=2.4.0 in c:\\users\\afafc\\anaconda3\\lib\\site-packages (from chromadb) (3.5.0)\n",
      "Requirement already satisfied: typing-extensions>=4.5.0 in c:\\users\\afafc\\anaconda3\\lib\\site-packages (from chromadb) (4.12.1)\n",
      "Requirement already satisfied: onnxruntime>=1.14.1 in c:\\users\\afafc\\anaconda3\\lib\\site-packages (from chromadb) (1.18.0)\n",
      "Requirement already satisfied: opentelemetry-api>=1.2.0 in c:\\users\\afafc\\anaconda3\\lib\\site-packages (from chromadb) (1.25.0)\n",
      "Requirement already satisfied: opentelemetry-exporter-otlp-proto-grpc>=1.2.0 in c:\\users\\afafc\\anaconda3\\lib\\site-packages (from chromadb) (1.25.0)\n",
      "Requirement already satisfied: opentelemetry-instrumentation-fastapi>=0.41b0 in c:\\users\\afafc\\anaconda3\\lib\\site-packages (from chromadb) (0.46b0)\n",
      "Requirement already satisfied: opentelemetry-sdk>=1.2.0 in c:\\users\\afafc\\anaconda3\\lib\\site-packages (from chromadb) (1.25.0)\n",
      "Requirement already satisfied: tokenizers>=0.13.2 in c:\\users\\afafc\\anaconda3\\lib\\site-packages (from chromadb) (0.19.1)\n",
      "Requirement already satisfied: pypika>=0.48.9 in c:\\users\\afafc\\anaconda3\\lib\\site-packages (from chromadb) (0.48.9)\n",
      "Requirement already satisfied: tqdm>=4.65.0 in c:\\users\\afafc\\anaconda3\\lib\\site-packages (from chromadb) (4.66.4)\n",
      "Requirement already satisfied: overrides>=7.3.1 in c:\\users\\afafc\\anaconda3\\lib\\site-packages (from chromadb) (7.7.0)\n",
      "Requirement already satisfied: importlib-resources in c:\\users\\afafc\\anaconda3\\lib\\site-packages (from chromadb) (6.4.0)\n",
      "Requirement already satisfied: grpcio>=1.58.0 in c:\\users\\afafc\\anaconda3\\lib\\site-packages (from chromadb) (1.64.1)\n",
      "Requirement already satisfied: bcrypt>=4.0.1 in c:\\users\\afafc\\anaconda3\\lib\\site-packages (from chromadb) (4.1.3)\n",
      "Requirement already satisfied: typer>=0.9.0 in c:\\users\\afafc\\anaconda3\\lib\\site-packages (from chromadb) (0.12.3)\n",
      "Requirement already satisfied: kubernetes>=28.1.0 in c:\\users\\afafc\\anaconda3\\lib\\site-packages (from chromadb) (29.0.0)\n",
      "Requirement already satisfied: tenacity>=8.2.3 in c:\\users\\afafc\\anaconda3\\lib\\site-packages (from chromadb) (8.3.0)\n",
      "Requirement already satisfied: PyYAML>=6.0.0 in c:\\users\\afafc\\anaconda3\\lib\\site-packages (from chromadb) (6.0.1)\n",
      "Requirement already satisfied: mmh3>=4.0.1 in c:\\users\\afafc\\anaconda3\\lib\\site-packages (from chromadb) (4.1.0)\n",
      "Requirement already satisfied: orjson>=3.9.12 in c:\\users\\afafc\\anaconda3\\lib\\site-packages (from chromadb) (3.10.3)\n",
      "Requirement already satisfied: packaging>=19.1 in c:\\users\\afafc\\anaconda3\\lib\\site-packages (from build>=1.0.3->chromadb) (23.2)\n",
      "Requirement already satisfied: pyproject_hooks in c:\\users\\afafc\\anaconda3\\lib\\site-packages (from build>=1.0.3->chromadb) (1.1.0)\n",
      "Requirement already satisfied: colorama in c:\\users\\afafc\\anaconda3\\lib\\site-packages (from build>=1.0.3->chromadb) (0.4.6)\n",
      "Requirement already satisfied: starlette<0.38.0,>=0.37.2 in c:\\users\\afafc\\anaconda3\\lib\\site-packages (from fastapi>=0.95.2->chromadb) (0.37.2)\n",
      "Requirement already satisfied: fastapi-cli>=0.0.2 in c:\\users\\afafc\\anaconda3\\lib\\site-packages (from fastapi>=0.95.2->chromadb) (0.0.4)\n",
      "Requirement already satisfied: httpx>=0.23.0 in c:\\users\\afafc\\anaconda3\\lib\\site-packages (from fastapi>=0.95.2->chromadb) (0.27.0)\n",
      "Requirement already satisfied: jinja2>=2.11.2 in c:\\users\\afafc\\anaconda3\\lib\\site-packages (from fastapi>=0.95.2->chromadb) (3.1.2)\n",
      "Requirement already satisfied: python-multipart>=0.0.7 in c:\\users\\afafc\\anaconda3\\lib\\site-packages (from fastapi>=0.95.2->chromadb) (0.0.9)\n",
      "Requirement already satisfied: ujson!=4.0.2,!=4.1.0,!=4.2.0,!=4.3.0,!=5.0.0,!=5.1.0,>=4.0.1 in c:\\users\\afafc\\anaconda3\\lib\\site-packages (from fastapi>=0.95.2->chromadb) (5.4.0)\n",
      "Requirement already satisfied: email_validator>=2.0.0 in c:\\users\\afafc\\anaconda3\\lib\\site-packages (from fastapi>=0.95.2->chromadb) (2.1.1)\n",
      "Requirement already satisfied: certifi>=14.05.14 in c:\\users\\afafc\\anaconda3\\lib\\site-packages (from kubernetes>=28.1.0->chromadb) (2023.11.17)\n",
      "Requirement already satisfied: six>=1.9.0 in c:\\users\\afafc\\anaconda3\\lib\\site-packages (from kubernetes>=28.1.0->chromadb) (1.16.0)\n",
      "Requirement already satisfied: python-dateutil>=2.5.3 in c:\\users\\afafc\\anaconda3\\lib\\site-packages (from kubernetes>=28.1.0->chromadb) (2.8.2)\n",
      "Requirement already satisfied: google-auth>=1.0.1 in c:\\users\\afafc\\anaconda3\\lib\\site-packages (from kubernetes>=28.1.0->chromadb) (2.29.0)\n",
      "Requirement already satisfied: websocket-client!=0.40.0,!=0.41.*,!=0.42.*,>=0.32.0 in c:\\users\\afafc\\anaconda3\\lib\\site-packages (from kubernetes>=28.1.0->chromadb) (0.58.0)\n",
      "Requirement already satisfied: requests-oauthlib in c:\\users\\afafc\\anaconda3\\lib\\site-packages (from kubernetes>=28.1.0->chromadb) (2.0.0)\n",
      "Requirement already satisfied: oauthlib>=3.2.2 in c:\\users\\afafc\\anaconda3\\lib\\site-packages (from kubernetes>=28.1.0->chromadb) (3.2.2)\n",
      "Requirement already satisfied: urllib3>=1.24.2 in c:\\users\\afafc\\anaconda3\\lib\\site-packages (from kubernetes>=28.1.0->chromadb) (2.2.1)\n",
      "Requirement already satisfied: coloredlogs in c:\\users\\afafc\\anaconda3\\lib\\site-packages (from onnxruntime>=1.14.1->chromadb) (15.0.1)\n",
      "Requirement already satisfied: flatbuffers in c:\\users\\afafc\\anaconda3\\lib\\site-packages (from onnxruntime>=1.14.1->chromadb) (24.3.25)\n",
      "Requirement already satisfied: protobuf in c:\\users\\afafc\\anaconda3\\lib\\site-packages (from onnxruntime>=1.14.1->chromadb) (4.25.3)\n",
      "Requirement already satisfied: sympy in c:\\users\\afafc\\anaconda3\\lib\\site-packages (from onnxruntime>=1.14.1->chromadb) (1.11.1)\n",
      "Requirement already satisfied: deprecated>=1.2.6 in c:\\users\\afafc\\anaconda3\\lib\\site-packages (from opentelemetry-api>=1.2.0->chromadb) (1.2.14)\n",
      "Requirement already satisfied: importlib-metadata<=7.1,>=6.0 in c:\\users\\afafc\\anaconda3\\lib\\site-packages (from opentelemetry-api>=1.2.0->chromadb) (6.0.0)\n",
      "Requirement already satisfied: googleapis-common-protos~=1.52 in c:\\users\\afafc\\anaconda3\\lib\\site-packages (from opentelemetry-exporter-otlp-proto-grpc>=1.2.0->chromadb) (1.63.1)\n",
      "Requirement already satisfied: opentelemetry-exporter-otlp-proto-common==1.25.0 in c:\\users\\afafc\\anaconda3\\lib\\site-packages (from opentelemetry-exporter-otlp-proto-grpc>=1.2.0->chromadb) (1.25.0)\n",
      "Requirement already satisfied: opentelemetry-proto==1.25.0 in c:\\users\\afafc\\anaconda3\\lib\\site-packages (from opentelemetry-exporter-otlp-proto-grpc>=1.2.0->chromadb) (1.25.0)\n",
      "Requirement already satisfied: opentelemetry-instrumentation-asgi==0.46b0 in c:\\users\\afafc\\anaconda3\\lib\\site-packages (from opentelemetry-instrumentation-fastapi>=0.41b0->chromadb) (0.46b0)\n",
      "Requirement already satisfied: opentelemetry-instrumentation==0.46b0 in c:\\users\\afafc\\anaconda3\\lib\\site-packages (from opentelemetry-instrumentation-fastapi>=0.41b0->chromadb) (0.46b0)\n",
      "Requirement already satisfied: opentelemetry-semantic-conventions==0.46b0 in c:\\users\\afafc\\anaconda3\\lib\\site-packages (from opentelemetry-instrumentation-fastapi>=0.41b0->chromadb) (0.46b0)\n",
      "Requirement already satisfied: opentelemetry-util-http==0.46b0 in c:\\users\\afafc\\anaconda3\\lib\\site-packages (from opentelemetry-instrumentation-fastapi>=0.41b0->chromadb) (0.46b0)\n",
      "Requirement already satisfied: setuptools>=16.0 in c:\\users\\afafc\\anaconda3\\lib\\site-packages (from opentelemetry-instrumentation==0.46b0->opentelemetry-instrumentation-fastapi>=0.41b0->chromadb) (68.0.0)\n",
      "Requirement already satisfied: wrapt<2.0.0,>=1.0.0 in c:\\users\\afafc\\anaconda3\\lib\\site-packages (from opentelemetry-instrumentation==0.46b0->opentelemetry-instrumentation-fastapi>=0.41b0->chromadb) (1.14.1)\n",
      "Requirement already satisfied: asgiref~=3.0 in c:\\users\\afafc\\anaconda3\\lib\\site-packages (from opentelemetry-instrumentation-asgi==0.46b0->opentelemetry-instrumentation-fastapi>=0.41b0->chromadb) (3.8.1)\n",
      "Requirement already satisfied: monotonic>=1.5 in c:\\users\\afafc\\anaconda3\\lib\\site-packages (from posthog>=2.4.0->chromadb) (1.6)\n",
      "Requirement already satisfied: backoff>=1.10.0 in c:\\users\\afafc\\anaconda3\\lib\\site-packages (from posthog>=2.4.0->chromadb) (2.2.1)\n",
      "Requirement already satisfied: charset-normalizer<4,>=2 in c:\\users\\afafc\\anaconda3\\lib\\site-packages (from requests>=2.28->chromadb) (3.3.2)\n",
      "Requirement already satisfied: idna<4,>=2.5 in c:\\users\\afafc\\anaconda3\\lib\\site-packages (from requests>=2.28->chromadb) (3.4)\n",
      "Requirement already satisfied: huggingface-hub<1.0,>=0.16.4 in c:\\users\\afafc\\anaconda3\\lib\\site-packages (from tokenizers>=0.13.2->chromadb) (0.23.3)\n",
      "Requirement already satisfied: click>=8.0.0 in c:\\users\\afafc\\anaconda3\\lib\\site-packages (from typer>=0.9.0->chromadb) (8.0.4)\n",
      "Requirement already satisfied: shellingham>=1.3.0 in c:\\users\\afafc\\anaconda3\\lib\\site-packages (from typer>=0.9.0->chromadb) (1.5.4)\n",
      "Requirement already satisfied: rich>=10.11.0 in c:\\users\\afafc\\anaconda3\\lib\\site-packages (from typer>=0.9.0->chromadb) (13.7.1)\n",
      "Requirement already satisfied: h11>=0.8 in c:\\users\\afafc\\anaconda3\\lib\\site-packages (from uvicorn[standard]>=0.18.3->chromadb) (0.14.0)\n",
      "Requirement already satisfied: httptools>=0.5.0 in c:\\users\\afafc\\anaconda3\\lib\\site-packages (from uvicorn[standard]>=0.18.3->chromadb) (0.6.1)\n",
      "Requirement already satisfied: python-dotenv>=0.13 in c:\\users\\afafc\\anaconda3\\lib\\site-packages (from uvicorn[standard]>=0.18.3->chromadb) (0.21.0)\n",
      "Requirement already satisfied: watchfiles>=0.13 in c:\\users\\afafc\\anaconda3\\lib\\site-packages (from uvicorn[standard]>=0.18.3->chromadb) (0.22.0)\n",
      "Requirement already satisfied: websockets>=10.4 in c:\\users\\afafc\\anaconda3\\lib\\site-packages (from uvicorn[standard]>=0.18.3->chromadb) (12.0)\n",
      "Requirement already satisfied: dnspython>=2.0.0 in c:\\users\\afafc\\anaconda3\\lib\\site-packages (from email_validator>=2.0.0->fastapi>=0.95.2->chromadb) (2.6.1)\n",
      "Requirement already satisfied: cachetools<6.0,>=2.0.0 in c:\\users\\afafc\\anaconda3\\lib\\site-packages (from google-auth>=1.0.1->kubernetes>=28.1.0->chromadb) (5.3.3)\n",
      "Requirement already satisfied: pyasn1-modules>=0.2.1 in c:\\users\\afafc\\anaconda3\\lib\\site-packages (from google-auth>=1.0.1->kubernetes>=28.1.0->chromadb) (0.2.8)\n",
      "Requirement already satisfied: rsa<5,>=3.1.4 in c:\\users\\afafc\\anaconda3\\lib\\site-packages (from google-auth>=1.0.1->kubernetes>=28.1.0->chromadb) (4.9)\n",
      "Requirement already satisfied: anyio in c:\\users\\afafc\\anaconda3\\lib\\site-packages (from httpx>=0.23.0->fastapi>=0.95.2->chromadb) (3.5.0)\n",
      "Requirement already satisfied: httpcore==1.* in c:\\users\\afafc\\anaconda3\\lib\\site-packages (from httpx>=0.23.0->fastapi>=0.95.2->chromadb) (1.0.5)\n",
      "Requirement already satisfied: sniffio in c:\\users\\afafc\\anaconda3\\lib\\site-packages (from httpx>=0.23.0->fastapi>=0.95.2->chromadb) (1.3.1)\n",
      "Requirement already satisfied: filelock in c:\\users\\afafc\\anaconda3\\lib\\site-packages (from huggingface-hub<1.0,>=0.16.4->tokenizers>=0.13.2->chromadb) (3.9.0)\n",
      "Requirement already satisfied: fsspec>=2023.5.0 in c:\\users\\afafc\\anaconda3\\lib\\site-packages (from huggingface-hub<1.0,>=0.16.4->tokenizers>=0.13.2->chromadb) (2024.5.0)\n",
      "Requirement already satisfied: zipp>=0.5 in c:\\users\\afafc\\anaconda3\\lib\\site-packages (from importlib-metadata<=7.1,>=6.0->opentelemetry-api>=1.2.0->chromadb) (3.11.0)\n",
      "Requirement already satisfied: MarkupSafe>=2.0 in c:\\users\\afafc\\anaconda3\\lib\\site-packages (from jinja2>=2.11.2->fastapi>=0.95.2->chromadb) (2.1.1)\n",
      "Requirement already satisfied: markdown-it-py>=2.2.0 in c:\\users\\afafc\\anaconda3\\lib\\site-packages (from rich>=10.11.0->typer>=0.9.0->chromadb) (2.2.0)\n",
      "Requirement already satisfied: pygments<3.0.0,>=2.13.0 in c:\\users\\afafc\\anaconda3\\lib\\site-packages (from rich>=10.11.0->typer>=0.9.0->chromadb) (2.15.1)\n",
      "Requirement already satisfied: humanfriendly>=9.1 in c:\\users\\afafc\\anaconda3\\lib\\site-packages (from coloredlogs->onnxruntime>=1.14.1->chromadb) (10.0)\n",
      "Requirement already satisfied: mpmath>=0.19 in c:\\users\\afafc\\anaconda3\\lib\\site-packages (from sympy->onnxruntime>=1.14.1->chromadb) (1.3.0)\n",
      "Requirement already satisfied: pyreadline3 in c:\\users\\afafc\\anaconda3\\lib\\site-packages (from humanfriendly>=9.1->coloredlogs->onnxruntime>=1.14.1->chromadb) (3.4.1)\n",
      "Requirement already satisfied: mdurl~=0.1 in c:\\users\\afafc\\anaconda3\\lib\\site-packages (from markdown-it-py>=2.2.0->rich>=10.11.0->typer>=0.9.0->chromadb) (0.1.0)\n",
      "Requirement already satisfied: pyasn1<0.5.0,>=0.4.6 in c:\\users\\afafc\\anaconda3\\lib\\site-packages (from pyasn1-modules>=0.2.1->google-auth>=1.0.1->kubernetes>=28.1.0->chromadb) (0.4.8)\n"
     ]
    }
   ],
   "source": [
    "# Install prerequisites\n",
    "!pip install llama-index-embeddings-huggingface\n",
    "!pip install llama-index-llms-ollama\n",
    "!pip install llama-index-vector-stores-chroma\n",
    "!pip install llama-index ipywidgets\n",
    "!pip install llama-index-llms-huggingface\n",
    "!pip install llama_index.readers.web\n",
    "!pip install chromadb\n",
    "\n",
    "# Import required modules from the llama_index library\n",
    "from llama_index.core import VectorStoreIndex, SimpleDirectoryReader\n",
    "from llama_index.embeddings.huggingface import HuggingFaceEmbedding\n",
    "from llama_index.core import Settings\n",
    "from llama_index.llms.ollama import Ollama\n",
    "from llama_index.core import StorageContext\n",
    "\n",
    "# Import ChromaVectorStore and chromadb module\n",
    "from llama_index.vector_stores.chroma import ChromaVectorStore\n",
    "import chromadb\n",
    "\n",
    "# Import the Ollama class\n",
    "from llama_index.llms.ollama import Ollama"
   ]
  },
  {
   "cell_type": "markdown",
   "id": "2df1d298",
   "metadata": {},
   "source": [
    "# Data pre processing"
   ]
  },
  {
   "cell_type": "markdown",
   "id": "5e9cdded",
   "metadata": {},
   "source": [
    "The dataset for this rag application is 4 articles on latest advancements and researches going in the field of Alzheimer's disease. After extracting the content from the webpages, the dataset is cleaned and combined to be one document."
   ]
  },
  {
   "cell_type": "code",
   "execution_count": 13,
   "id": "28a77038",
   "metadata": {},
   "outputs": [
    {
     "name": "stdout",
     "output_type": "stream",
     "text": [
      "Combined cleaned document:\n",
      "Brain study opens door to potential new disease treatments | Research and InnovationSkip to main content Search  You must have JavaScript enabled to use this form.SearchHome…ProjectsSuccess storiesAll success storiesBrain study opens door to potential new disease treatmentsBrain study opens door to potential new disease treatmentsMillions of people suffer from brain diseases. To better understand what happens in the brains of these patients, the EU-funded RobustSynapses project focused on synapses, where many brain conditions often first develop. By identifying key things that can go wrong, the project team has opened the door to potential new targets for life-saving treatments that would benefit everyone.©Zoran Milic #211950775, source: stock.adobe.com 2021PDF BasketNo article selectedConvert to PDFEmpty basketAdd to pdf basket5Jul2021 Neurodegenerative disorders such as Alzheimer’s disease, Parkinson’s disease and amyotrophic lateral sclerosis (ALS) all affect the brain. They can cause problems ranging from dementia through to paralysis.“The RobustSynapses project addressed one of the largest unmet medical needs – the fact that there are no cures for any of these major neurodegenerative conditions,” explains RobustSynapses principal investigator Patrik Verstreken, scientific director and group leader at the VIB Center for Brain & Disease Research at KU Leuven, Belgium. “To meet this challenge, we wanted to zoom in on what is happening at the earliest stages of these diseases.”More effective treatmentsMore specifically, the EU-funded RobustSynapses project focused on synapses. These small connections, which exist between nerve cell endings in the brain, enable signals to pass from one neuron to the next. Synapses are therefore critical to the brain’s function. They are also often the first site to be affected during neurodegenerative disease progression.In this European Research Council-supported project, Verstreken wanted to achieve a better understanding of how exactly these synapses function, and what might make things go wrong. His hypothesis was that this knowledge could enable medical professionals to one day identify disease progression earlier, and to be able to intervene more effectively. This could lead to more effective treatments, and the alleviation of problems for patients later.The project team began by studying what was happening at synapses in fruit flies, applying novel genome-editing methods. “What we found from this was that there are specific mechanisms at the synapse that are needed to remove dysfunctional debris,” adds Verstreken. “If this doesn’t happen, the synapses fail, causing problems.”Next, the team applied these findings in vitro to human neurons, generated from the skin cells of patients. This combination of approaches enabled the project team to first study synaptic processes live, and to then confirm – or not – their discoveries in human nerve cells.A critical finding, confirmed by both these approaches, was that problems at the synapse were being caused by a process called ‘Synapse-specific autophagy’. This discovery, Verstreken believes, could create new opportunities for therapeutic targets in the treatment of neurological disorders. “One of our most exciting innovations was that we were able to develop tools that interfere with the defects induced by this process at synaptic contacts, including cognitive decline,” he says. “We are now pursuing this in the hope of developing real therapeutic interventions.”Exciting research opportunitiesThis work is continuing apace in Verstreken’s lab. “First, we are using single cell approaches to define which cells in the brain are most affected by the synaptic processes we uncovered,” he explains. “One exciting discovery has been finding out why Parkinson’s disease patients suffer from sleep problems.”Verstreken plans to expand this particular line of research in the future, searching for additional affected cells in the brains of patients. These can then be modelled in appropriate systems in the lab, either, as in this project, in live animals, or in human neurons derived from skin cells.“Second, as I discussed earlier, we found a way to interfere with the effects of ‘synaptic autophagy’,” Verstreken continues. “We can achieve this by manipulating proteins that are central to the process and that are also found to cause risk to Parkinson’s disease when mutated in patients. We are now developing effective tools to achieve this, together with our industry partners.”The exciting research opportunities generated by the RobustSynapses project has opened the door to new approaches to neurodegenerative diseases. Given that there are no cures at present, identifying possible new avenues for new therapeutics could have a hugely positive effect on humanity. “Given the large number of people suffering from neurodegeneration, the impact could be very sizeable,” concludes Verstreken.Add to pdf basketPDF BasketNo article selectedConvert to PDFEmpty basketProject detailsProject acronymRobustSynapsesProject number646671Project coordinator:BelgiumProject participants:BelgiumTotal cost€ 1 999 025EU Contribution€ 1 999 025 Project duration January 2016 - June 2021See alsoMore information about project RobustSynapsesRelated R&I themesHealth & life sciencesNeuroscienceMedical researchMajor diseasesFrontier research (ERC)All success storiesYou must have JavaScript enabled to use this form.Country- Any -AlbaniaAlgeriaArgentinaArmeniaAustraliaAustriaBangladeshBelarusBelgiumBeninBoliviaBosnia and HerzegovinaBotswanaBrazilBulgariaBurkina FasoCambodiaCameroonCanadaCape VerdeCentral African RepublicChileChinaColombiaCosta RicaCroatiaCubaCyprusCzechiaDenmarkEcuadorEgyptEl SalvadorEstoniaEthiopiaEuropean UnionFaroe IslandsFinlandFranceFrench PolynesiaGabonGambiaGeorgiaGermanyGhanaGreeceGreenlandGuineaGuyanaHaitiHondurasHong KongHungaryIcelandIndiaIndonesiaIranIrelandIsraelItalyIvory CoastJamaicaJapanJordanKazakhstanKenyaKoreaKyrgyzstanLaosLatviaLebanonLibyaLichtensteinLithuaniaLuxembourgMadagascarMalawiMalaysiaMaldivesMaliMaltaMexicoMonacoMontenegroMoroccoMozambiqueNamibiaNetherlandsNew ZealandNigerNigeriaNorth MacedoniaNorwayPakistanPalestinePanamaPeruPhilipinesPolandPortugalRomaniaRussiaRwandaSaudi ArabiaSenegalSerbiaSingaporeSlovakiaSloveniaSouth AfricaSpainSri LankaSudanSwazilandSwedenSwitzerlandTaiwanTanzaniaThailandTunisiaTürkiyeUgandaUkraineUnited KingdomUnited StatesUruguayVenezuelaVietnamZambiaZimbabweAzerbaijanMoldovaTheme- Any -Agriculture & food-Agriculture-Forestry-Food safety & health risks-Animal health and welfareEU MissionsEuropean Innovation Council (EIC)-EIC Accelerator-EIC PathfinderIndustrial research-Standards, measures & testing-Nanotechnology-Materials & products-Industrial processes & robotics-Coal & steel-Building & constructionInformation society-Internet-Information technology-E-Commerce-Telecommunications-MultimediaMarie Skłodowska-Curie ActionsHuman resources & mobility-Training-Careers & mobilityInnovationResearch policy-Seventh Framework Programme-Scientific support to policies-Regional dimension of innovation-Horizon Europe-Horizon 2020-European Research Area-Enlargement-Economic development and cohesion-Widening participationResearch infrastructuresInternational cooperationPure sciences-Physics-Mathematics-Chemistry-Biology-AstronomyNanotechnology-Nanomedicine-Nanomaterials-Nanoelectronics-IndustrialMarine resources & aquacultureEnvironment-Ecosystems, incl. land, inland waters, marine-Earthquakes-Earth observation-Disaster reduction-Climate & global change-Clean technology and recycling-Biodiversity-Atmosphere-Land management-Health & environment-Natural disasters-Plastics-Water-Urban living-Sustainable developmentEnergy-Reliability of supply-Renewable energy sources-Rational energy use-Nuclear fusion-Nuclear fission-Fossil fuelsCultural heritageBioeconomyArtificial intelligenceHealth & life sciences-Tuberculosis-Rare & orphan diseases-Public health-Neuroscience-Molecular biology-Medical research-Malaria-Hepatitis-Major diseases-Health systems & management-Health & special needs-Allergy & asthma-Health & poverty-Health & ageing-Genomics-Genetic engineering-Drugs & drug processes-Diabetes-Coronavirus-Communicable diseases-Cancer-Biotechnology-Aids - HIVGreen dealGender equalityFrontier research (ERC)Financial instruments - InnovFinScience & businessScience in society-Education & popular sciences-Ethics-Future science & technology-People in science-Public opinion-Science communication-Science prizesSecuritySMEsSocial sciences and humanitiesSpace-Galileo-Space exploration-Space hardware-Space policy-TeledetectionTransport-Aeronautics-Intermodality-Rail-Road-WaterborneFramework programme- Any -Seventh Framework ProgrammeHorizon 2020Project acronym- Any -2DSi3D-FORENSICS/FTI4RinEU5G-Crosshaul5GwirelessA-LEAFAARC2ABIOMATERABU-MATRANACTIONActomyosin RingACTUATION2015ADAPTADAPT-ENVGENOMEADAPTEDADAPTIVEADASANDMEAEGISAEOLIXAESTAPPAF3AfricanBioServicesAFTERLIFEAGELESSAGILEAgriChemWheyAGRIMAXAGROinLOGAIDAAIDA-2020AirQastAliverALPHA-MANAMADEUSAMAZEAMBICONAMECRYSAMPHORAANDRUPOSAniMANIMETRICSANOCAPANTARESANYWHEREAPOLLOAPPLICATEAQUA-USERSAQUAEXCEL2020ARCHAIDEARCHFACTArchosARCHOSAUR RISEARIADNEARICEARIESARISEArmevaARROWHEADART AND BRAINARTSASHLEYASR-COMPENZDESASSISTANCEASSISTIDASTERICSAT2ATHENAAtlantOSATLASATTRACTAUGGMEDAURESAURORAAUTO-STACK COREAUTOIMMUNITY RASGRP1AUTOPROAVAAVECNETAVENUEAW-EnergyB-CASTB3AfricaB3YONDBABET-REAL5BACCHUSBACIBaltic GenderBAMBBARBARABASE-LiNE EarthBASE-PLATFORMBayesianHumanCortexBB GreenBE-OPTICALbeAWAREBeFOreBERSTBeyondSeqBHIVEBIG HITBIGCLOUTBigDataEuropeBigPicnicBio-AXBIO4ABIOCAPANBIOCAPTUREBiocascadesBIOCOGBioECONBioExcelBIOFFICIENCYBIOMEPBIONIC AIRCRAFTBIORESCUEBIOSEABIOSMARTBioSTEPBIOVADIABioWingsBIRD ATLASBIRDSBIREHABBisonBlue-ActionBlueBRIDGEBLUEHEALTHBLUEPRINTBNSmergersBoneImplantBOPACSBRIDGESBrightnESSBTCUREBYAXONC-BIRDC-MOBILEC-SERVEESCACHECANATUCANCER-IDCANCERHYDROGELPATCHCAPP-4-SMEsCAPSELLACARAMBACARBALIVECARBATCarbFix2CARDIOFUNXIONCareStoreCATCHCATCH MECAVITYQPDCD-LINKSCDACCDN-HCE-MICROARRAYCELLVIEWERCELSIUSCENTRELINECerealPathCERESCG-DS MorphosyntaxCH4BIOVALCHANGESCHEChEESECHEKCHEM21CHESSCHIBOWCHIPSCOPECHROMAVISIONCICERONECIMULACTCIPRNetCIRC-PACKCIRC4LifeCircEuitCISTEMCityNetCLAIMCLARIN-PLUSCLEAN SKY 2CLEANKERCLIMATE FOR CULTURECLIMATE-FIT FORESTSClimeFishCLOSEWEEECLOUD-TRAINCo-ActiveCo-ReSyFCOACCHCOACHCOBENCOBRACOCACOCONETCOFFERSCoHERECOLLDENSECOLLECTORSColonyPersPOLsCOMBACTE-MAGNETComfortCOMMITMENTCOMMONENERGYCOMMONSENSECOMPACTCOMPARECOMPROPCOMRADESCONBIOSCONCORTCONPRACONQUERContested UrbanismConTExtCOP21 RIPPLESCOPECOPERNICCORECorplinkCOSMICCOSMODETCosmological CandlesCOSMOSCOSTREAMCOSY-BIOCOSYNCOUNTERCRAFTCOURAGECPVMATCHcQOMCREAMCREATECREDENTIALCREEPCREMLINCRESTCRICCRISPCROSSCULTCRYSPENCRYSTALCSP 2CURECNCWITCYCLON HITD-ORBITDafiaDAFNEDANTEDAPPERDARWINDAVIADDebunkerDECODEDecumanusDEDALEDEEPDEMETERDEMETODEMOCRITOSDEMSTACKDEMTUREUROPEDEPICODEDESSINDeTOPDIASPORACONTESTDIDODIDO-MSDIETDIGEDIGIWHISTDIONICOSDIREVENZYMEDISCARDLESSDiscordiaDiSIEMDISKNETDISTRUCDITOSDIVERSIFOODDiViNeDMC-MalVecDORADOWNTOTENDREAMDRIMPACDRIVEDrive-ABDRIVER+DROPSADROUGHT-HEATDTOCEANDTOceanPlusDuetE-COMPAREDE-ferryE-RIHS PPe-ROSAE-SIDESE-SPACEEARLYDETECTEasyrightsEAU4FoodEBiSCEBODACEbolaMoDRADeCAIMANECO-COMPASSECO-MOMECOFISHEcofriendlyNanoECONADAPTECOSWINGECOWAMAECoWeBECRIN-IAEDC-MIXRISKEDU-ARCTICEDUHEALTHEeDAPPEeMAPEfficienSea2EFFIPROeHeritageEHRIEINFRACENTRALELASTISLETElephantineELICANELISAELISSAELITESELUTEEMBRACEDEMBRICEMC2EMIFEmPowerPutidaEMSODEVEN-SUGIENABLEEnabling ExcellenceENACTENCASEENCIRCLEENER2iENEXALENGAGEMEENGHUMENGIMAENHANCEENREMILKEnrich in AfricaENSAT-HTENSPIRITENTITLEEnvJusticeENVRI PLUSEOSC-hubEPERMEDEPFL FellowsEPISECCEPN2020-RIEQUAL-ISTEQUITY-LA IIERA-CLIM2ERADIATEERCCOMICSERIGridERMESESCAPE-NETESITESPOIRESPRITESSANUFESTEEM 2ETAEARTHETCETEKINAETexWeldETIMEEU CISE 2020EU-CAREEU-CIVCAPEU-LAC-MUSEUMSEU-MACSEU-STRATEU-TOPIAEUCALCEUCARBONEUCLEIAEUICITEUNAMUSEUNOIAEUNPACKEURAXINDEuroCirColEUROfusionEUROlinkCATEUROMBREuropean Spallation SourceEuroPONDEuroPruningEuroPublicIslamEUROSARCEUROVENUSEUSTACEEUTHYROIDEUXDATEVA-GLOBALeVACUATEEVAgEVER-ESTEVIDENCEEVO-COUPLINGSEVOCODEEWISAExcEEDEXCELLEXCEPTEXCILIGHTEXILVAEXMOLSExpression DynamicsEYE-RISKFAB-MOVEFABRICMETRICSFACTORY-IN-A-DAYFAIRTAXFAIRWAYFalconFASTNETFASTPASSFATIMAFEATFEEDBACKFERTINNOWAFEUTUREFiberEUseFIBRAFibrillationFIDUCEOFieldFOODFIRE-INFirst2RunFISSACFIThydroFIVEVBFLOODISFLORA ROBOTICAFLYHIGHFOAM-BUILDFOODMETRESForceFORECASTFORENSORFORMAMPFORTIKAForwarder2020FOWARIMFP4BATIWFPGA AcceleratorsFRESHFRESH AIRFRESH-DEMOFReSMeFREYAFSSCATFullcompFUTUREFutureAgricultureG2P-SOLGAMMAGAPSGAPVACGARPURGEECCOGELCLADGENDERACTIONGENDERMACROGENIUSGEO-CGEO-SAFEGeocondGeoSInPoGeoTwinnGEROPROTECTGETREALGlobal BioImagingGLOBEGloPID-R SEC 2GloPID-R-SecGLYCODIS3GLYCOSURFGLYCOVAXGN4-2GN4-3NGOAL-ROBOTSGoCARBGOTSOLARGRACEGRAGEGRAILGRAWITONGREENDCGreenProteinGREENRAILGRIFFONGS-A-DM-DSGUTWORMH2FutureHAP4MARBLEHaS-DARIAHHCAPTHEADSHealthy FuturesHealthyMinorCerealsHEAT-WHEATHeliatekHELIXHENNOVATIONHHFDWCHidden FoodsHIGGSEFTHigh-Luminosity Large Hadron ColliderHIGHTSHINDCONHISTHEOLHISTO-MRIHIT-CFHIT2GAPHIVEOPOLISHome2niteHOST TRANSLATIONHPCFinanceHYDRALAB-PLUSHydroZONESHYFIVEHypatiaHYPERHYPROGEOI-LEADI-REACTI2C8i3-FoodIAPEMIDEiBorderCtrlIBSENICANICE-ARCICECICT-AGRI 2ICT4CARTiCUPEID PhysiologyIDACIDEAIDentIFYIDRICAIFOODBAG GEN2iHealth-T2DIKIDiLABOURILEAnetIMMPACTIMPACT TBIMPRESSIMPRESSIONSIN-BRAININ-PREPIN-SKAINACHUSINCEPTIONINCLUSIVEINCOMMUNEINCREASEinDemandINEX-ADAMINFIERIINFORMEDINFRAFRONTIER2020INFRAVEC2INIAINMAINMAREINNOBITEInnoChainINNOPIPESINNOQUAInnoRenew CoEINNOVAInnovation NestINPACTINPUTINROADSINSIKTINSPIREInSPIRESINTAROSINTEGRIMINTENSIntentINTERACTINTERESTInterPregGenINTERSEXIONSINVISIBLE WATERSINVITEIoF2020IPBMNESIPCOMIperion CHIPRABIOIrenaiSCAPEISIGROWTHISOLMIsoNoseiSQAPERITAKAITaRSITEAMITN-DCHJERICO-NEXTJETSCREENJOLISAAJOPRADKATANAKEAC-BSRKidsAPKIOS CoEKNEEMOKNOXL3PilotLABIONICSLANDSUPPORTLASIG-TWINLATINCROPLCE4ROADSLEILACLEOLETS-CROWDLEVITATELIARLIBBIOLIBRALIGNOFLAGLINABIOFLUIDLINCLIPIDIDIETLiRichFCCLISTENLIVESEEDLLRLOCOMACHSLONGPOPLoveFood2MarketLOWBRASYSLTFCOFUND2013LungCARDLUVMIM-CUBEMACIVIVAMAGENTAMAGICMAGicSkyMAGNAPHARMMAGNEURONMAGNUMMAHEPAMAKERSMAMMAMANTISMAPS-LEDMAPS-URBEMAPSYNMARCANMARCARMARCOMAREPMARINE MAMMALSMARINERG-iMARISAMARKTHEPIGMARSOLMASSTRPLANMASTECSMasterMAT4TREATMAXIMAME-WEMECHANO-CONTROLMECHANOCHECKMedBioinformaticsMEDCOMMEDEAMEDGATEMEDIA4SECMEDICINEMEDINSMEDIT-AGEINGMEDLEMMeerTRAPMEETMeiosis2012MELAMELENDO2MelGenMEMEXMEMORYROWMERCESMERCURICMERCURYMETA-BIOMEMetaBiotaMETAFLUIDICSMETAPATHMIARDMicrobiomeSupportMICROFLUSAMICROMOLEMICROWINEMID-FREQUENCYMILESECURE-2050MIMEMingeiMINI-CHIPMINOUWMinWaterCSPMIRELMixITiNMIXMAXMMTECHMobidiagMODEXTREMEMofinaMOLEGROMOMECODEMOMENDOMONBASAMonfiscpolMOSaICMosaicsMPM-DREDGEMSMEDMSO4SCMUBICMultiCycleMultifastMULTIHEMPMultiple timescalesMULTISIMOMULTISURFMULTIVIVAXMUNINMWDIRMycoKeyMYCOSYNVACMYFISHMyNewGutMYRTENABBANANOCARGONANOCOSMOSNANOPACKNanoPartCatNANOTRAINFORGROWTH IINATURALE CGNATURVATIONNEDBELSNEEMONEMF21NEMONETTNEURICENEUROIMAGEEGNEUROSTRESSPEPNEW-MINENextNEXTBASENICHENIPSENITIMESRNOAWNONCODRIVERSNorthvoltNovacamNUDGE-ITNunataryukNUTRI2CYCLENutrientSensingVivoOCAMIROCEAN SENTINELOCEANFISHODAKODYSSEAOMNICSONCOTRACKOne Health EJPOnTrackOpenAIRE-AdvanceopenEOOPENNESSOPENUPOpera4FEVOPERASOPRECOMPOPTIFELOPTIMALVAXOptimuniseOPTIRAILORC-PLUSORFORCREAOSIRYSOurMythicalChildhoodOXIGENATEDOYSTERP4SBPACCASAPACMANPainDynamicsPALEOCHARPANDAPANDORAPANORAMIXPAPTICPARADISEParaFishControlPARAGONEPARSIFALPARTHENOSPASTAPATHPATHPHYLODYNPavitra GangaPCAPROTREATPCATDESPEACHIPEARLPEASSSPEGASUSPELICOPEMS4NANOPERCALPERFORMPerformancePERFORMANCE PLUSPericlesPERISCOPEPERSONEWSPERTPVPHAGOPHAGOBURNPhasAGEPHASE-CHANGE SWITCHPHD4ENERGYPHENOMENPHOENIXPHONOMETAPHOQUSPhoto4FuturePHOTODEMOSPHYSENSEPLACARDPLANGRIDEVPlanonPLEPLOTINAPOLYMARKPOnTEPOPFULLPoSeID-onPoshBee POTENTPower4bioPOWERBASEPRECEDIPRECISESADSPREDECTPREFACEPREPAREPREVASCINPRICEPRIDEPRIMEPRINTEGERPRISM CODEPRIVACY FLAGPRO-METROFOODPROACTIVEPROHEALTHPROTECTPROTEIN2FOODPROVIDEPULMOPVSITESPZQ4PSACQB50QCUMbERQROWDQUACOQUANTUMQUESSAQUIC-CONCEPTQUMECQUTEMAGR2PIR3WaterRABOTRADAR-ADRADAR-CNSRADIOFOREGROUNDSRADIOMIRAMSESRAMSSESRANPHYSRD-CONNECTRE-SERVERE4REACHREACHOUTREADREALVALUERECRECAREReCiPSSRECOBARECONASSRECONNECTRECORD-ITRECOTRANSreCreating EuropeRECREDREDIRNETREDMUDREDSHIFTREELERREFLOWREFRESHREFUGE-EDRELaTEDREMEBREMINDREMINDERREMIXREMOVEDEBRISReNatureRePASTREPLACOMBREPOPAREPRO-LIGHTREPROGRAMREProMagRes UrbisRESCCUEResCoMResidue2HeatRESISTANDRESOLUTERESOLVERESPONDRONERESPSPATDISPRESSEEPERETHINKTEXRETINARETUBIREVAMMADRHAPSODYRIBuildRICHESRISEWISERISKYCADROBOXRobustSENSERobustSynapsesROCKRotorDEMORTCURERURALIZATIONRURINNOS2BIOMS3CS4D4CSABANASAFE-TSafeCloudSafeNetSAFERAFRICASAFESHORESafeWaterAfricaSAFISAGESALBAGESALTGAESAMNetsSANITASSAPHIRSARTRESAS-RRLSAURONSavingFoodSCALASCALING UP NOVIHUMSCARBOSCAVENGESCI-GAIASCIENCESQUAREDsCO2-HeRoSeaDataCloudSEAFOODTOMORROWSEAHORSESEATIDESECINCORESECTORSECURESecureChainSECUREFISHSEDNASEEDSSELSUSSENATESENIORSSENSAGAINSENSE OF COMMITMENTSENSE-CogSENSENETSENSEOCEANSenseXSENSIndoorSEYLESGPCMSHADOKSSHAPE ENERGYSHARE-DEV3SHARECITYSHEESheepNetSHERPASHIELDSIIPSiLASSILCISILIKASIMRASINETSIRAMMSIRIUSSISSDENSkinSKIP-NMDSKLCARBONP2SMARTSmart EyeSmart-AKISSMART-TRUSTSMARTER TOGETHERSMARTHELMETSMARTNANOTOXSMARTNURSESMARTRESILIENCESMARTWATER4EUROPESmileSmokeFreeBrainSMRSMSSNIFFPHONESOCIAL BRAINSocialBrainSOCRATESSOLACESOLCRIMETSOLPARTSolve-RDSOPHIASOPHIESOXSPACE-OSpaceRadarPollinatorSPARKSSPARTerSSPCCTSPEXORSPICESSPICYSPIDERSSPIN-NANOSponGESSPOTLIGHTSPRINGSTAGE-STESTAR-ProBioSTARBIOS2STARDUSTSTAT-DxSTELLARSTEM4youthStemCellGerontoGenesSTIM-MCSTONESTOPSTORMSTRAVALStrength2FoodSTRESNETSTRETCHLENSSTRIKESTRONGMARSTTSUaaVESubCULTronSUCCESSSULACHANGESUNNYSUNRAYSuperaSUPERTWINSupraChem LabSUPREMESUREAL-23SURVANTSUSTAINABLESWEETOOLSSWINGSYMBIOTICSYN-TOOLKITSYSCIDSysKIDSyStemAgeTackSHSTACTICTAINTAKEDOWNTANDEMTAPASTB and TobaccoTBVAC2020TCBLTDM-SEALSTECHNEQUALITYTechnology Transfer FellowshipsTENSORTHE GRAILThe Invisible HelmetTHEIATHOMASTICALTilePlusTILOSTIMESTORMTiPAToMaxTomGEMTOMOSLATETOPIOSTOXI-TRIAGETRACETRACESTRACTIONTRAFIGTRAITTransAIDTRANSFORMERSTRANSLINKTransliteracyTRANSriskTRANSVAC2TRASACUTRASH-2-CASHTREASURETREATERTrelTRUSSTRUSTTrustVehicleTTTucan3GTunisie TelecomTwinBrainTwinPVTWIP4EUU-KAREU-PGxUltimakerULTIMATEUMBRELLAUNALABUnderSCOREUNRESTUPCYCLINGTHEOCEANSUPECBCGuPETURBANFLUXESURBANRECVACTRAINVAHVISTUSVALCRIValnevaVASCOVEGASVERDIVETBIONETVI-SEEMVIDISVis-a-VisVISCAVisiOnVISORSURFVIVALDIVOLATILEVORTEXVOX-POLVOXELVPH-CaSEVULCANWASTCARDWASTE4THINKWatchWaterWATERPROTECTWATERSPOUTTWaveRollerWAVESWEAM4iWEB-RADRWeHubsWIDENLIFEWILDWINEWILLPOWERWINETWORKWiseFeedWISEGRIDWOMEN ENTREPRENEURSWOSCAPX-MINEX2Rail-1XF-ACTORSXMHIMxxxxYSCHILLERZoteracZYBIOMProject numberProject coordinatorProject start dateProject end dateFindThis story in other languagesDE            Untersuchung des Gehirns eröffnet Möglichkeiten für neue Behandlungsmethoden ES            Estudio encefálico abre las puertas a posibles nuevos tratamientos de enfermedades FR            Une étude du cerveau ouvre la voie à de nouveaux traitements potentiels IT            Uno studio sul cervello apre la strada a nuovi potenziali trattamenti per le malattie NL            Hersenonderzoek opent deur naar mogelijke nieuwe behandelmethoden PL            Badanie mózgu otwiera drogę do potencjalnych nowych metod leczenia chorób     Share this page  This site is managed by: Directorate-General for Research and InnovationStrategyAbout the European CommissionBusiness, Economy, EuroLive, work, travel in the EULawFunding, TendersResearch and innovationEnergy, Climate change, EnvironmentEducationAid, Development cooperation, Fundamental rightsFood, Farming, FisheriesEU regional and urban developmentJobs at the European CommissionStatisticsPress CornerEventsPublicationsContact the European CommissionAccessibilityFollow the European Commission on social mediaResources for partnersLanguage policyCookiesPrivacy policyLegal notice400 Bad requestYour browser sent an invalid request.Altering Cellular Interactions Around Amyloid Plaques May Offer Novel Alzheimer’s Treatment Strategies |  Mount Sinai - New YorkToggle navigationToggle searchSearchClose                                                         1-800-MD-SINAI                                                                                    1-800-MD-SINAI                                                                                Find a Doctor                                                                                    Find a Doctor                                                                                Request an Appointment                                                                                    Request an Appointment                        Same-Day AppointmentsRequest an AppointmentRAABy NameBy SpecialtyNextSelect SpecialtyAcupunctureAdolescent MedicineAllergy and ImmunologyAnesthesiologyBreast CancerCancer (Oncology)CardiologyCardiovascular SurgeryDentistryEar, Nose, Throat (Otolaryngology)Endocrinology, Diabetes and MetabolismGastroenterologyGenetics and GenomicsGeriatric MedicineHematologyInfectious DiseaseInternal MedicineNephrologyNeurological/NeurosurgeryNeurologyObstetrics and GynecologyOccupational MedicineOphthalmologyOrthopaedic / Orthopaedic SurgeryPain ManagementPediatricsPlastic and Reconstructive SurgeryPodiatryPreventive MedicinePrimary Care (Internal Medicine)Psychology-PhDPulmonology/Sleep MedicineRadiologyRehabilitation and Physical MedicineRheumatologySpineSurgeryTransplantUrologyNext                                                        Our Locations                                                                                    Our Locations                                    Our Locations                            View More LocationsMount Sinai Beth IsraelMount Sinai BrooklynThe Mount Sinai HospitalMount Sinai MorningsideMount Sinai QueensMount Sinai South NassauMount Sinai West​​​New York Eye and Ear Infirmary of Mount SinaiMount Sinai Doctors Faculty PracticeThe Spine Hospital at Mount SinaiMount Sinai Kravis Children's HospitalThe Mount Sinai Health NetworkUrgent CareMount Sinai Doctors Outpatient LocationsMount Sinai-Union SquareThe Blavatnik Family Chelsea Medical CenterMount Sinai Emergency Care LocationsMount Sinai-Behavioral Health CenterPhillips School of Nursing at Mount Sinai                                                        Patient Care                                                                                    Patient Care                                    Featured Services                            All ServicesAllergy and ImmunologyCancerDermatologyDiabetesDigestive Diseases - GastroenterologyEar, Nose and ThroatEndocrinologyMedical Genetics and GenomicsGeriatricsHeart - Cardiology and Cardiovascular SurgeryHome Based CareInfectious DiseasesInternational ServicesInterventional RadiologyLiver DiseasesLung - PulmonologyMilitary Family Health ServicesMusic TherapyNephrology - Kidney DiseaseNeurologyNursing at Mount SinaiNeurosurgeryObstetrics and GynecologyOphthalmologyOrthopedicsPain ManagementPalliative CarePediatricsPrimary CarePsychiatryRadiologyRehabilitation MedicineRheumatologySocial WorkSpineSurgeryTransplantation ServicesUrgent CareUrology                                                        About Us                                                                                    About Us                                    About Us                    Visit UsCOVID-19 Facts and ResourcesOur MissionAsian ServicesBoard LeadershipExecutive LeadershipHospital PresidentsFacts and FiguresSocial Media HubInternational Patient ServicesMount Sinai Today BlogOffice for Diversity and InclusionPatient ExperienceInnovationAccountable Care OrganizationThe Mount Sinai Health NetworkMount Sinai InternationalEmergency PreparednessCareersNewsroomIcahn School of Medicine at Mount SinaiFinancial AssistanceLGBT- GNB HealthInsurance InformationLanguage & Communication Access ServicesMedical RecordsAwards and AccreditationsRoad Map for Action to Address RacismContact UsMedical Staff Services DepartmentMedication Access ProgramMyMountSinai® AppMount Sinai Center for Asian Equity and Professional DevelopmentDiversity, Equity, and InclusionPreparing for Surgery and Major ProceduresMount Sinai Staff ResourcesQuality and Regulatory AffairsDigital Patient Tools and ResourcesMount Sinai Hospitals Map AppCenter for Advanced PracticeClinical Command CenterMount Sinai Health System FormsKarpas Center for Health Education and Community OutreachMount Sinai Doctors.SearchClose 1-800-MD-SINAI1-800-MD-SINAIMyMountSinai  (MyChart)Check Symptoms & Get CarePay My BillFor PhysiciansSame-Day AppointmentsMake a GiftShareFacebookTwitterLinkedinEmailHomeAbout UsNewsroomPress ReleaseAltering Cellular Interactions Around Amyloid Plaques May Offer Novel Alzheimer’s Treatment StrategiesInnovative research from Mount Sinai also identifies new pathways for researchIcahn Mount Sinai researchers find PLXNB1, a hub gene predicted to drive a gene subnetwork causally linked to human AD, is upregulated in reactive astrocytes surrounding amyloid plaques.Credit: Bin Zhang, PhD, Icahn Mount SinaiShareNewsroomPress ReleasesIn the NewsSpecialty ReportsEndocrinology, Diabetes and Bone DiseaseENT - Head and Neck SurgeryThe Friedman Brain InstituteGastroenterologyGeriatricsGraduate School of Biomedical SciencesLiver DiseasesMount Sinai Fuster Heart HospitalNeurology and NeurosurgeryObstetrics, Gynecology and Reproductive ScienceOphthalmologyOrthopedicsPatient ExperiencePediatricsPsychiatryPulmonary, Critical Care and Sleep MedicineRehabilitation and Human PerformanceThe Tisch Cancer InstituteUrologyMeet the TeamAspen Ideas Festival2019 Speaker Bios2018 Aspen Ideas Festival2018 Speaker Bios2017 Aspen Ideas Festival2017 Speaker Bios2016 Aspen Ideas Festival2016 Speaker Bios2015 Aspen Ideas Festival2014 Aspen Ideas FestivalBrain Surgery Simulatorda Vinci Robotic Surgery2013 Aspen Ideas FestivalMount Sinai PodcastsRoad to ResilienceLife as a Hero’s JourneyIn Sickness & HealthEducation Through AutismThriving With Down SyndromeSurviving Domestic ViolenceWhen Hearts AttackThe Trials of Scientific ResearchThe Brain & Body Under Social StressThe Challenges of SchizophreniaZlata’s DiaryBridging Parenting and RecoveryPhysical Endurance Breeds ResilienceInterpreting ResilienceThe Dog Will See You NowApproaches to Building ResilienceWomen’s Health is Everyone’s RightThe Cold Chill of Seasonal DepressionWhen a Family Experiences a HomicideA New Approach to Behavioral HealthModern Widows ClubCoping with a Rapid-Aging DiseasePowering Through Internal ConflictMusic TherapyResilience Lessons from SullyThe Long Battle with Long COVIDReturn of Road to ResilienceRoad to Resilience ArchiveFarewellBright Days, Dark NightsTalking Resilience With a Harlem MinisterThe Cancer DancerComing HomeThe Resilience Paradox7300 DaysPolymath of the SoulOnly the LonelyKetamine: From Club to ClinicHeart to HeartThe Fierce Side of Self-CompassionBeyond Sleep HygieneWise UpToxic ApocalypseA WEIRDo’s Guide to ExerciseThe Man BoxGood TroubleA Shot in the ArmEnough with the MindfulnessPTSD, Meet MDMAYear of the PandemicTheater of WarWorkshopping ResilienceCancer is MeThe Indestructible Judith HuntThe Price of PerfectionOur Better AngelsThree Generations of Autism AdvocatesI Am Not My HairCoping After a Natural DisasterUnmaking Painful MemoriesRewrite Your ScriptOpening UpThree Good ThingsThe Recharge RoomEmily & Kumail on Staying InThe GiversThe Edge of the UnknownSigns of HopePandemic-Proof Parenting TipsOur Finest HourHow to Stay Sane While Staying HomeCalm Through ChaosThe Only Way Out is ThroughThe Body Heals the MindModeling Courage\"I Made a Decision to Live\"Facing Climate ChangeThe Gospel of Curtis10 Resilience Insights from 2019My Experiments With TruthThe Stuff With My MomKids Who Can DealYour Brain on FearThe Story of Bed 25A Scientist’s Guide to OptimismUnknown ExposureThe Comedian and the Brain TumorMeasuring the Mental Toll of Child SeparationForget Kumbaya: The Art of Self-CareDr. Krieger’s Three Resilience TipsSomebody to Lean OnThe Long Arm of Childhood TraumaResilience Stories (Live!)The Mystery VirusThe Power of OptimismThriving After a Devastating LossManaging Stress, Anxiety and FearA Resilient Journey from Trauma to SuccessFaith, Spirituality and MindfulnessBuilding a Resilient FamilyThe Prescription to My RecoveryAn Unexpected TraumaReal, Smart PeopleMiriam: The Dancing ScientistBevin: The Problem SolverJess: Love Thy NeighborJoshua: The SculptorMary: Autopsies Save LivesYasmin: The Barrier BreakerAdolfo: The Virus HunterMount Sinai FilmsThe Calling: Mount Sinai NursesJude Canela, RN: Transplant ICUKimberly Ashley, NP: VAD-Heart Transplant ProgramMichal Shamli, RN: Emergency RoomRenee Slon, RN: Geriatric Outpatient ClinicGenessy Rodriquez, RN: Telemetry UnitVanessa Solis, RN: Labor and Delivery NurseFaces of CareFrom Darkness to LightBorn to BeThe Surge At Mount SinaiNew York, NY(May 27, 2024)Researchers at the Icahn School of Medicine at Mount Sinai have made a significant breakthrough in Alzheimer’s disease research by identifying a novel way to potentially slow down or even halt disease progression. The study, which focuses on the role of reactive astrocytes and the plexin-B1 protein in Alzheimer's pathophysiology, provides crucial insights into brain cell communication and opens the door to innovative treatment strategies. It was published in Nature Neuroscience (DOI 10.1038/s41593-024-01664-w) on May 27.  This groundbreaking work is centered on the manipulation of the plexin-B1 protein to enhance the brain's ability to clear amyloid plaques, a hallmark of Alzheimer’s disease. Reactive astrocytes, a type of brain cell that becomes activated in response to injury or disease, were found to play a crucial role in this process. They help control the spacing around amyloid plaques, affecting how other brain cells can access and clear these harmful deposits. “Our findings offer a promising path for developing new treatments by improving how cells interact with these harmful plaques,” said Roland Friedel, PhD, Associate Professor of Neuroscience, and Neurosurgery, at Icahn Mount Sinai and a senior author of the study. The research was driven by the analysis of complex data comparing healthy individuals to those with Alzheimer’s, aiming to understand the disease's molecular and cellular foundations. Hongyan Zou, PhD, Professor of Neurosurgery, and Neuroscience, at Icahn Mount Sinai and one of the study’s lead authors, highlighted the broader implications of their findings: “Our study opens new pathways for Alzheimer’s research, emphasizing the importance of cellular interactions in developing neurodegenerative disease treatments.” One of the study’s most significant achievements is its validation of multiscale gene network models of Alzheimer’s disease. “This study not only confirms one of the most important predictions from our gene network models but also significantly advances our understanding of Alzheimer’s. It lays a solid foundation for developing novel therapeutics targeting such highly predictive network models,” said Bin Zhang, PhD, Willard T.C. Johnson Research Professor of Neurogenetics at Icahn Mount Sinai and one of the study’s lead authors. By demonstrating the critical role of plexin-B1 in Alzheimer's disease, the research underscores the potential of targeted therapies to disrupt the disease's progression. The research team emphasizes that while their findings mark a significant advance in the fight against Alzheimer’s, more research is needed to translate these discoveries into treatments for human patients. “Our ultimate goal is to develop treatments that can prevent or slow down Alzheimer’s progression,” Dr. Zhang added, outlining the team’s commitment to further exploring the therapeutic potential of plexin-B1. This study is supported by the NIH National Institute on Aging (NIA) grants U01AG046170 and RF1AG057440 and is part of the NIA-led Accelerating Medicines Partnership - Alzheimer's Disease (AMP-AD) Target Discovery and Preclinical Validation program. This public private partnership aims to shorten the time between the discovery of potential drug targets and the development of new drugs for Alzheimer’s disease treatment and prevention. The paper is titled “Regulation of cell distancing in peri-plaque glial nets by Plexin-B1 affects glial activation and amyloid compaction in Alzheimer’s disease.” About the Icahn School of Medicine at Mount Sinai The Icahn School of Medicine at Mount Sinai is internationally renowned for its outstanding research, educational, and clinical care programs. It is the sole academic partner for the eight- member hospitals* of the Mount Sinai Health System, one of the largest academic health systems in the United States, providing care to a large and diverse patient population.  Ranked 13th nationwide in National Institutes of Health (NIH) funding and among the 99th percentile in research dollars per investigator according to the Association of American Medical Colleges, Icahn Mount Sinai has a talented, productive, and successful faculty. More than 3,000 full-time scientists, educators, and clinicians work within and across 44 academic departments and 36 multidisciplinary institutes, a structure that facilitates tremendous collaboration and synergy. Our emphasis on translational research and therapeutics is evident in such diverse areas as genomics/big data, virology, neuroscience, cardiology, geriatrics, as well as gastrointestinal and liver diseases.  Icahn Mount Sinai offers highly competitive MD, PhD, and Master’s degree programs, with current enrollment of approximately 1,300 students. It has the largest graduate medical education program in the country, with more than 2,000 clinical residents and fellows training throughout the Health System. In addition, more than 550 postdoctoral research fellows are in training within the Health System.  A culture of innovation and discovery permeates every Icahn Mount Sinai program. Mount Sinai’s technology transfer office, one of the largest in the country, partners with faculty and trainees to pursue optimal commercialization of intellectual property to ensure that Mount Sinai discoveries and innovations translate into healthcare products and services that benefit the public.  Icahn Mount Sinai’s commitment to breakthrough science and clinical care is enhanced by academic affiliations that supplement and complement the School’s programs. Through the Mount Sinai Innovation Partners (MSIP), the Health System facilitates the real-world application and commercialization of medical breakthroughs made at Mount Sinai. Additionally, MSIP develops research partnerships with industry leaders such as Merck & Co., AstraZeneca, Novo Nordisk, and others.  The Icahn School of Medicine at Mount Sinai is located in New York City on the border between the Upper East Side and East Harlem, and classroom teaching takes place on a campus facing Central Park. Icahn Mount Sinai’s location offers many opportunities to interact with and care for diverse communities. Learning extends well beyond the borders of our physical campus, to the eight hospitals of the Mount Sinai Health System, our academic affiliates, and globally.  -------------------------------------------------------  * Mount Sinai Health System member hospitals: The Mount Sinai Hospital; Mount Sinai Beth Israel; Mount Sinai Brooklyn; Mount Sinai Morningside; Mount Sinai Queens; Mount Sinai South Nassau; Mount Sinai West; and New York Eye and Ear Infirmary of Mount Sinai.  Tags:                                                                                                                                                                                                Icahn School of Medicine at Mount Sinai,                                                                                                                                                                                                Mount Sinai Health System,                                                                                                                                                                                                Neurology,                                                                                                                                                                                                Neurosurgery,                                                                                                                                                                                                Roland Friedel, PhD,                                                                                                                                                                                                Bin Zhang, PhD,                                                                                                                                                                                                Hongyan Zou, MD, PhDAbout the Mount Sinai Health SystemMount Sinai Health System is one of the largest academic medical systems in the New York metro area, with 48,000 employees working across eight hospitals, more than 400 outpatient practices, more than 600 research and clinical labs, a school of nursing, and a leading school of medicine and graduate education. Mount Sinai advances health for all people, everywhere, by taking on the most complex health care challenges of our time—discovering and applying new scientific learning and knowledge; developing safer, more effective treatments; educating the next generation of medical leaders and innovators; and supporting local communities by delivering high-quality care to all who need it.Through the integration of its hospitals, labs, and schools, Mount Sinai offers comprehensive health care solutions from birth through geriatrics, leveraging innovative approaches such as artificial intelligence and informatics while keeping patients’ medical and emotional needs at the center of all treatment. The Health System includes approximately 9,000 primary and specialty care physicians and 11 free-standing joint-venture centers throughout the five boroughs of New York City, Westchester, Long Island, and Florida. Hospitals within the System are consistently ranked by Newsweek’s® “The World’s Best Smart Hospitals, Best in State Hospitals, World Best Hospitals and Best Specialty Hospitals” and by U.S. News & World Report's® “Best Hospitals” and “Best Children’s Hospitals.” The Mount Sinai Hospital is on the U.S. News & World Report® “Best Hospitals” Honor Roll for 2023-2024.For more information, visit https://www.mountsinai.org or find Mount Sinai on Facebook, Twitter and YouTube.NewsroomPress ReleasesIn the NewsSpecialty ReportsEndocrinology, Diabetes and Bone DiseaseENT - Head and Neck SurgeryThe Friedman Brain InstituteGastroenterologyGeriatricsGraduate School of Biomedical SciencesLiver DiseasesMount Sinai Fuster Heart HospitalNeurology and NeurosurgeryObstetrics, Gynecology and Reproductive ScienceOphthalmologyOrthopedicsPatient ExperiencePediatricsPsychiatryPulmonary, Critical Care and Sleep MedicineRehabilitation and Human PerformanceThe Tisch Cancer InstituteUrologyMeet the TeamAspen Ideas Festival2019 Speaker Bios2018 Aspen Ideas Festival2018 Speaker Bios2017 Aspen Ideas Festival2017 Speaker Bios2016 Aspen Ideas Festival2016 Speaker Bios2015 Aspen Ideas Festival2014 Aspen Ideas FestivalBrain Surgery Simulatorda Vinci Robotic Surgery2013 Aspen Ideas FestivalMount Sinai PodcastsRoad to ResilienceLife as a Hero’s JourneyIn Sickness & HealthEducation Through AutismThriving With Down SyndromeSurviving Domestic ViolenceWhen Hearts AttackThe Trials of Scientific ResearchThe Brain & Body Under Social StressThe Challenges of SchizophreniaZlata’s DiaryBridging Parenting and RecoveryPhysical Endurance Breeds ResilienceInterpreting ResilienceThe Dog Will See You NowApproaches to Building ResilienceWomen’s Health is Everyone’s RightThe Cold Chill of Seasonal DepressionWhen a Family Experiences a HomicideA New Approach to Behavioral HealthModern Widows ClubCoping with a Rapid-Aging DiseasePowering Through Internal ConflictMusic TherapyResilience Lessons from SullyThe Long Battle with Long COVIDReturn of Road to ResilienceRoad to Resilience ArchiveFarewellBright Days, Dark NightsTalking Resilience With a Harlem MinisterThe Cancer DancerComing HomeThe Resilience Paradox7300 DaysPolymath of the SoulOnly the LonelyKetamine: From Club to ClinicHeart to HeartThe Fierce Side of Self-CompassionBeyond Sleep HygieneWise UpToxic ApocalypseA WEIRDo’s Guide to ExerciseThe Man BoxGood TroubleA Shot in the ArmEnough with the MindfulnessPTSD, Meet MDMAYear of the PandemicTheater of WarWorkshopping ResilienceCancer is MeThe Indestructible Judith HuntThe Price of PerfectionOur Better AngelsThree Generations of Autism AdvocatesI Am Not My HairCoping After a Natural DisasterUnmaking Painful MemoriesRewrite Your ScriptOpening UpThree Good ThingsThe Recharge RoomEmily & Kumail on Staying InThe GiversThe Edge of the UnknownSigns of HopePandemic-Proof Parenting TipsOur Finest HourHow to Stay Sane While Staying HomeCalm Through ChaosThe Only Way Out is ThroughThe Body Heals the MindModeling Courage\"I Made a Decision to Live\"Facing Climate ChangeThe Gospel of Curtis10 Resilience Insights from 2019My Experiments With TruthThe Stuff With My MomKids Who Can DealYour Brain on FearThe Story of Bed 25A Scientist’s Guide to OptimismUnknown ExposureThe Comedian and the Brain TumorMeasuring the Mental Toll of Child SeparationForget Kumbaya: The Art of Self-CareDr. Krieger’s Three Resilience TipsSomebody to Lean OnThe Long Arm of Childhood TraumaResilience Stories (Live!)The Mystery VirusThe Power of OptimismThriving After a Devastating LossManaging Stress, Anxiety and FearA Resilient Journey from Trauma to SuccessFaith, Spirituality and MindfulnessBuilding a Resilient FamilyThe Prescription to My RecoveryAn Unexpected TraumaReal, Smart PeopleMiriam: The Dancing ScientistBevin: The Problem SolverJess: Love Thy NeighborJoshua: The SculptorMary: Autopsies Save LivesYasmin: The Barrier BreakerAdolfo: The Virus HunterMount Sinai FilmsThe Calling: Mount Sinai NursesJude Canela, RN: Transplant ICUKimberly Ashley, NP: VAD-Heart Transplant ProgramMichal Shamli, RN: Emergency RoomRenee Slon, RN: Geriatric Outpatient ClinicGenessy Rodriquez, RN: Telemetry UnitVanessa Solis, RN: Labor and Delivery NurseFaces of CareFrom Darkness to LightBorn to BeThe Surge At Mount SinaiIn This StoryRoland Friedel, PhDNeuroscienceNeurosurgeryBin Zhang, PhDGenetics and Genomic SciencesPharmacological SciencesArtificial Intelligence and Human HealthHongyan Zou, MD, PhDNeurosurgeryShow MoreFor Media InquiriesPhone:212-241-9200212-241-9200Fax:212-241-6512212-241-6512Email:NewsMedia@mssm.edu If you are a member of the media and are on deadline, please call the Press Office or page the press officer on call.View All Media ContactsFor Media InquiriesPhone:212-241-9200212-241-9200Fax:212-241-6512212-241-6512Email:NewsMedia@mssm.edu If you are a member of the media and are on deadline, please call the Press Office or page the press officer on call.View All Media ContactsRelated ArticlesPress ReleaseMount Sinai Researchers Find More Than 4,700 Gene Clusters Crucial for Prognosis in 32 Cancer TypesNov 13, 2023View All Press ReleasesPress ReleaseResearchers Identify the Role of an Alzheimer’s Disease Risk Gene in the BrainNov 30, 2022View All Press ReleasesPress ReleaseMount Sinai Receives $2 Million From the Parkinson’s Foundation to Investigate Underlying Cell-Specific Mechanisms of the ConditionOct 03, 2022View All Press ReleasesPress ReleaseResearchers Identify a Protein That Is Critical for Wound Healing after a Central Nervous System InjuryMar 02, 2020View All Press ReleasesNews\"Researchers Identify Protein Critical For Wound Healing After Spinal Cord Injury\"Mar 02, 2020View All NewsPress ReleaseMount Sinai Receives More Than $10 Million in Grant Funding for Brain Tumor Research Jan 02, 2020View All Press ReleasesPress ReleaseMount Sinai Researchers Uncover New Molecular Drivers of Parkinson’s DiseaseNov 20, 2019View All Press ReleasesPress ReleaseStudy Suggests Depression is Driven by Networks of Genes That Span Brain CircuitsMay 12, 2016View All Press ReleasesLinkedInFacebookTwitterYoutubeInstagramPinterestTiktokCOVID-19 Staff ResourcesMount Sinai Today Blog1-800-MD-SINAI1-800-MD-SINAI                                                                                                                                                    Patient Information                                                                                                                                    MyMountSinai® AppPay My BillNo Surprises ActInternational Services Mount Sinai AccessFind a DoctorCheck Symptoms & Get CarePatient Representatives OfficesLanguage and AccessibilityHealth LibraryClinical Trials Newsroom                                                                                                                                                    Research & Education                                                                                                                                    Icahn School of Medicine at Mount SinaiMedical EducationGraduate EducationResearchFind FacultyPhillips School of Nursing                                                                                                                                                    For Health Professionals                                                                                                                                    Transfer a Patient Mount Sinai ConnectRefer a PatientNursingHospital Sponsored ProgramsMedical Staff ServicesChoose A LocationHospitalsUrgent Care/Walk-InChoose a locationMount Sinai Beth IsraelMount Sinai BrooklynThe Mount Sinai HospitalMount Sinai MorningsideMount Sinai QueensMount Sinai South NassauMount Sinai West New York Eye and Ear Infirmary of Mount SinaiMount Sinai-Union SquareChoose a locationMount Sinai-Union Square Urgent CareMount Sinai Doctors West 23rd StreetMount Sinai Doctors East 34th Street©2024 Icahn School of Medicine at Mount SinaiContact UsCareersTerms & Conditions Privacy Policy HIPAA Privacy PracticesComplianceNon-Discrimination NoticePatient ResponsibilitiesInsurance & Price TransparencyVendorsclose×close×Blood vessel breakthrough is major step towards dementia treatment | Faculty of Biology, Medicine and Health | The University of ManchesterSkip to navigation | Skip to main content | Skip to footerFaculty of Biology, Medicine and HealthSearchSearch textClose menuFaculty of Biology, Medicine and HealthStoriesHomeStudySubject areasAudiologyBiosciencesDentistryMedicineMidwiferyNursingOptometryPharmacyPsychologyPublic health and dataSocial workSpeech and language therapy UndergraduateCourses (2024 entry)Courses (2025 entry)Global futuresTaught master'sCoursesPostgraduate researchProject searchFunded programmesAll PhD programmesInternational postgraduate researchersHow to applyContinuing professional development (CPD)CoursesOpen daysStudent blogChoosing universityResearchImpact and innovationTechnology platformsSupport for researchersResearch staff Research by school and divisionInstitutes, networks and centresPhD opportunitiesDoctoral AcademyUniversity Research ExplorerConnectSocial responsibilityPatients, staff and the publicFor studentsService learningEnvironmentResearch with impactEquality, diversity and inclusionGlobal healthInternational partnershipsBusiness engagementMedical education consultancyTeachers and advisersWidening participationEducational resourcesChoosing universitySupport the facultySocial mediaContact usNews blogEventsAboutOur schools and divisionsPeopleLeadership teamEquality, diversity and inclusionAthena SWANAddressing differential attainmentHistory and heritageMuseum of Medicine and HealthStoriesNewsContact usFaculty of Biology, Medicine and HealthStoriesBlood vessel breakthrough is major step towards dementia treatmentFaculty of Biology, Medicine and HealthStories Blood vessel breakthrough is major step towards dementia treatmentAlzheimer's disease and vascular dementia are the two most common types of dementia, collectively affecting around 700,000 people in the UK. They cause problems with memory, concentration, thinking and carrying out everyday activities. Two major breakthroughs from a team at The University of Manchester have revealed changes to blood vessels in the brain in dementia, transforming our understanding of these terrible diseases.Key factsAlzheimer's disease and vascular dementia collectively affect around 700,000 people in the UK alone.Clinical trials have been unsuccessful and there are no effective treatments.Our research has discovered new potential treatment targets, giving hope to people living with dementia.To date, over 300 drugs have been trialled as a treatment for Alzheimer's dementia. All of them have targeted the nerves in the brain and none have been successful. Similarly, all clinical trials looking at treating vascular dementia have also been unsuccessful.In both Alzheimer's and vascular dementia, blood flow to the brain is reduced, but the reasons for this were unknown.Could Alzheimer's disease be a blood vessel disorder?Alzheimer's disease is traditionally thought of as a disease of brain cells, where a protein called Amyloid-beta (Aβ) accumulates, forming plaques.The research in mice found that a smaller version of the protein, Aβ1-40, builds up in the walls of the small arteries in the brain, causing them to narrow and reducing blood flow to the brain. It is thought that this is one of the reasons for memory loss.The team discovered that the narrowing of arteries was caused by Aβ1-40 switching off a protein that normally serves to widen arteries, called BK. The team is now investigating precisely how Aβ1-40 blocks BK, so drugs to prevent this can be developed and tested to stop Alzheimer's disease progressing.Dr Adam GreensteinAdam is Clinical Senior Lecturer at The University of Manchester and a consultant physician and geriatrician.View academic profileResearch reveals new drug target for vascular dementiaHigh blood pressure (known as hypertension) is the main cause of vascular dementia, which develops due to damage to the small arteries of the brain.The team in Manchester, working with colleagues in the USA, discovered that high blood pressure reduced the activity of a protein called Kir2.1 that is present in cells lining arteries and normally serves to increase blood flow to active areas of the brain.They found that a drug already used to treat high blood pressure, called Amlodipine, restored the activity of Kir2.1 in mice, resulting in better blood flow to more active parts of the brain and protecting the brain from the harmful effects of high blood pressure. Amlodipine was more effective than other blood pressure medications in restoring Kir2.1 function. The research identifies Kir2.1 as a new target to protect the brain against damage caused by high blood pressure and slow the progression of vascular dementia.Giving hope to people living with dementiaBy showing exactly how dementia and high blood pressure affect small blood vessels, the team has opened the door to new avenues of research that could restore healthy blood flow to the brain and slow down the progression of these incurable diseases.The team also hopes to trial Amlodipine as an effective treatment for vascular dementia in humans. If successful, it would be the first clinically proven treatment for vascular dementia, and could be used in those with early signs of the condition to prevent further progression.More informationOther investigatorsMark NelsonStuart AllanHarry PritchardRelated publicationsDifferential restoration of functional hyperemia by antihypertensive drug classes in hypertension-related cerebral small vessel diseaseFunctionally linked potassium channel activity in cerebral endothelial and smooth muscle cells is compromised in Alzheimer's diseaseNanoscale coupling of junctophilin-2 and ryanodine receptors regulates vascular smooth muscle cell contractilityMediaPotential new drug for incurable vascular dementia (press release)Blood vessel breakthrough major step towards Alzheimer's treatment (press release)Contact us+44 (0) 161 306 6000Contact detailsFind usThe University of ManchesterOxford RdManchesterM13 9PLUKConnect with usDisclaimerData ProtectionCopyright noticeAccessibilityFreedom of informationCharitable statusRoyal Charter Number: RC000797\n"
     ]
    }
   ],
   "source": [
    "from llama_index.readers.web import BeautifulSoupWebReader\n",
    "#webpage\n",
    "urls = [\n",
    "    \"https://projects.research-and-innovation.ec.europa.eu/en/projects/success-stories/all/brain-study-opens-door-potential-new-disease-treatments\",\n",
    "    \"https://medicalxpress.com/news/2024-03-door-earlier-diagnosis-potential-treatment.html\",\n",
    "    \"https://www.mountsinai.org/about/newsroom/2024/altering-cellular-interactions-around-amyloid-plaques-may-offer-novel-alzheimers-treatment-strategies\",\n",
    "    \"https://www.bmh.manchester.ac.uk/stories/blood-vessel-breakthrough/\"\n",
    "]\n",
    "\n",
    "# Initializing an empty list to store text content from each article\n",
    "documents = []\n",
    "\n",
    "# Fetching HTML data for each URL and extract text content\n",
    "for url in urls:\n",
    "    html_data = BeautifulSoupWebReader().load_data([url])\n",
    "    text_content = html_data[0].text.strip()  \n",
    "    documents.append(text_content)\n",
    "\n",
    "# Combine the text content into a single document\n",
    "combined_document = \"\\n\\n\".join(documents)\n",
    "\n",
    "# replace \"\\n\" (paragraph break) and \"\\t\" (tab character)\n",
    "combined_document = combined_document.replace(\"\\n\", \"\")\n",
    "combined_document = combined_document.replace(\"\\t\", \"\")\n",
    "\n",
    "\n",
    "# Print the combined document\n",
    "print(\"Combined cleaned document:\")\n",
    "print(combined_document)"
   ]
  },
  {
   "cell_type": "markdown",
   "id": "2a30369a",
   "metadata": {},
   "source": [
    "The cleaned combined document is then saved as a text file named Research_paper.txt"
   ]
  },
  {
   "cell_type": "code",
   "execution_count": 15,
   "id": "6499756b",
   "metadata": {},
   "outputs": [],
   "source": [
    "with open('Research_paper.txt', 'w', encoding='utf-8') as text_file:\n",
    "    text_file.write(combined_document)"
   ]
  },
  {
   "cell_type": "markdown",
   "id": "5abaf905",
   "metadata": {},
   "source": [
    "For the preparation of knowledge base for the rag, the document is chunked first and then embedded using a hugging face embedding model. The embedded text is then used for creating the vector database."
   ]
  },
  {
   "cell_type": "markdown",
   "id": "978000b9",
   "metadata": {},
   "source": [
    "# Chunking"
   ]
  },
  {
   "cell_type": "markdown",
   "id": "c6b44962",
   "metadata": {},
   "source": [
    "Chunking strategy utilised is splitting the document by sentences."
   ]
  },
  {
   "cell_type": "code",
   "execution_count": 16,
   "id": "002ed769",
   "metadata": {},
   "outputs": [],
   "source": [
    "split_docs = combined_document.split(\". \")"
   ]
  },
  {
   "cell_type": "markdown",
   "id": "791fbf43",
   "metadata": {},
   "source": [
    "Saving the chunks created from the dataset as output files."
   ]
  },
  {
   "cell_type": "code",
   "execution_count": 18,
   "id": "3b4e9880",
   "metadata": {},
   "outputs": [],
   "source": [
    "def save_chunks_to_files(folder_name, chunked_data):\n",
    "\n",
    "  # Create directory\n",
    "  import os\n",
    "  try:\n",
    "    os.makedirs(\"/content/\" + folder_name, exist_ok=True)\n",
    "  except OSError as e:\n",
    "    print(f\"Error creating directory: {e}\")\n",
    "    return\n",
    "\n",
    "  count = 0\n",
    "  for doc in chunked_data:\n",
    "    fname = os.path.join(\"/content/\", folder_name, f\"Output{count}.txt\")\n",
    "    with open(fname, \"w\", encoding='utf-8') as text_file:\n",
    "      text_file.write(str(doc))\n",
    "    count += 1\n",
    "\n",
    "save_chunks_to_files(\"chunks\", split_docs)"
   ]
  },
  {
   "cell_type": "markdown",
   "id": "1f550f08",
   "metadata": {},
   "source": [
    "# Embedding"
   ]
  },
  {
   "cell_type": "markdown",
   "id": "8a6de834",
   "metadata": {},
   "source": [
    "After chunking, embeddings are created for the chunks of the dataset using an hugging face embedding model and LLM used here for generating texts is Phi-3 which is a small language model developed by Microsoft"
   ]
  },
  {
   "cell_type": "code",
   "execution_count": 19,
   "id": "62c758de",
   "metadata": {},
   "outputs": [],
   "source": [
    "# Use the Phi-3 as our LLM\n",
    "# Set a timeout of 10 minutes\n",
    "llm = Ollama(model=\"phi3\", request_timeout=600.0)"
   ]
  },
  {
   "cell_type": "code",
   "execution_count": 20,
   "id": "5fa83df2",
   "metadata": {},
   "outputs": [
    {
     "data": {
      "application/vnd.jupyter.widget-view+json": {
       "model_id": "f07db758b03d403fb8bf1f7403129754",
       "version_major": 2,
       "version_minor": 0
      },
      "text/plain": [
       "modules.json:   0%|          | 0.00/349 [00:00<?, ?B/s]"
      ]
     },
     "metadata": {},
     "output_type": "display_data"
    },
    {
     "name": "stderr",
     "output_type": "stream",
     "text": [
      "C:\\Users\\afafc\\anaconda3\\Lib\\site-packages\\huggingface_hub\\file_download.py:157: UserWarning: `huggingface_hub` cache-system uses symlinks by default to efficiently store duplicated files but your machine does not support them in C:\\Users\\afafc\\AppData\\Local\\llama_index\\models--BAAI--bge-small-en-v1.5. Caching files will still work but in a degraded version that might require more space on your disk. This warning can be disabled by setting the `HF_HUB_DISABLE_SYMLINKS_WARNING` environment variable. For more details, see https://huggingface.co/docs/huggingface_hub/how-to-cache#limitations.\n",
      "To support symlinks on Windows, you either need to activate Developer Mode or to run Python as an administrator. In order to see activate developer mode, see this article: https://docs.microsoft.com/en-us/windows/apps/get-started/enable-your-device-for-development\n",
      "  warnings.warn(message)\n"
     ]
    },
    {
     "data": {
      "application/vnd.jupyter.widget-view+json": {
       "model_id": "713b11e4291045ed946e1d37b4ce99f7",
       "version_major": 2,
       "version_minor": 0
      },
      "text/plain": [
       "config_sentence_transformers.json:   0%|          | 0.00/124 [00:00<?, ?B/s]"
      ]
     },
     "metadata": {},
     "output_type": "display_data"
    },
    {
     "data": {
      "application/vnd.jupyter.widget-view+json": {
       "model_id": "1c629f6ef25143088c7c4199157b1ac5",
       "version_major": 2,
       "version_minor": 0
      },
      "text/plain": [
       "README.md:   0%|          | 0.00/94.8k [00:00<?, ?B/s]"
      ]
     },
     "metadata": {},
     "output_type": "display_data"
    },
    {
     "data": {
      "application/vnd.jupyter.widget-view+json": {
       "model_id": "da3c64b01cea4c41be141b50ca9fe130",
       "version_major": 2,
       "version_minor": 0
      },
      "text/plain": [
       "sentence_bert_config.json:   0%|          | 0.00/52.0 [00:00<?, ?B/s]"
      ]
     },
     "metadata": {},
     "output_type": "display_data"
    },
    {
     "name": "stderr",
     "output_type": "stream",
     "text": [
      "C:\\Users\\afafc\\anaconda3\\Lib\\site-packages\\huggingface_hub\\file_download.py:1132: FutureWarning: `resume_download` is deprecated and will be removed in version 1.0.0. Downloads always resume when possible. If you want to force a new download, use `force_download=True`.\n",
      "  warnings.warn(\n"
     ]
    },
    {
     "data": {
      "application/vnd.jupyter.widget-view+json": {
       "model_id": "6d13b3c71dfb41b5b29a8b0725203e19",
       "version_major": 2,
       "version_minor": 0
      },
      "text/plain": [
       "config.json:   0%|          | 0.00/743 [00:00<?, ?B/s]"
      ]
     },
     "metadata": {},
     "output_type": "display_data"
    },
    {
     "data": {
      "application/vnd.jupyter.widget-view+json": {
       "model_id": "47bd3a99a91147d8b7667ca90bd6f85d",
       "version_major": 2,
       "version_minor": 0
      },
      "text/plain": [
       "model.safetensors:   0%|          | 0.00/133M [00:00<?, ?B/s]"
      ]
     },
     "metadata": {},
     "output_type": "display_data"
    },
    {
     "data": {
      "application/vnd.jupyter.widget-view+json": {
       "model_id": "c344042185754a6690bf12ea8a93e5a0",
       "version_major": 2,
       "version_minor": 0
      },
      "text/plain": [
       "tokenizer_config.json:   0%|          | 0.00/366 [00:00<?, ?B/s]"
      ]
     },
     "metadata": {},
     "output_type": "display_data"
    },
    {
     "data": {
      "application/vnd.jupyter.widget-view+json": {
       "model_id": "845ddb6c9eda44d5aed7e22257f03c65",
       "version_major": 2,
       "version_minor": 0
      },
      "text/plain": [
       "vocab.txt:   0%|          | 0.00/232k [00:00<?, ?B/s]"
      ]
     },
     "metadata": {},
     "output_type": "display_data"
    },
    {
     "data": {
      "application/vnd.jupyter.widget-view+json": {
       "model_id": "29017166e8364f749d12cf1d4bc4612b",
       "version_major": 2,
       "version_minor": 0
      },
      "text/plain": [
       "tokenizer.json:   0%|          | 0.00/711k [00:00<?, ?B/s]"
      ]
     },
     "metadata": {},
     "output_type": "display_data"
    },
    {
     "data": {
      "application/vnd.jupyter.widget-view+json": {
       "model_id": "876b6741e9ad407583be455db1b03f97",
       "version_major": 2,
       "version_minor": 0
      },
      "text/plain": [
       "special_tokens_map.json:   0%|          | 0.00/125 [00:00<?, ?B/s]"
      ]
     },
     "metadata": {},
     "output_type": "display_data"
    },
    {
     "data": {
      "application/vnd.jupyter.widget-view+json": {
       "model_id": "0b0c2f4271ab49b593e84ea35415c05b",
       "version_major": 2,
       "version_minor": 0
      },
      "text/plain": [
       "1_Pooling/config.json:   0%|          | 0.00/190 [00:00<?, ?B/s]"
      ]
     },
     "metadata": {},
     "output_type": "display_data"
    }
   ],
   "source": [
    "# Initialize a HuggingFace Embedding model\n",
    "embed_model = HuggingFaceEmbedding(model_name=\"BAAI/bge-small-en-v1.5\")\n",
    "\n",
    "# Specify the LLM and embedding model into LlamaIndex's settings\n",
    "Settings.llm = llm\n",
    "Settings.embed_model = embed_model"
   ]
  },
  {
   "cell_type": "markdown",
   "id": "05b13954",
   "metadata": {},
   "source": [
    "# Vector Database"
   ]
  },
  {
   "cell_type": "markdown",
   "id": "6e6796e3",
   "metadata": {},
   "source": [
    "Creating vector database and indexing the embeddings in the database and here we are using ChromaDB as the database solution."
   ]
  },
  {
   "cell_type": "code",
   "execution_count": 21,
   "id": "5dd00a8f",
   "metadata": {},
   "outputs": [
    {
     "name": "stdout",
     "output_type": "stream",
     "text": [
      "Loaded 50 docs\n",
      "name='Research_papers_collection' id=UUID('95100208-0c26-4610-9b9e-da8d0c9b7fb8') metadata=None tenant='default_tenant' database='default_database'\n",
      "Collection name is: Research_papers_collection\n"
     ]
    }
   ],
   "source": [
    "# Import ChromaVectorStore and chromadb module\n",
    "from llama_index.vector_stores.chroma import ChromaVectorStore\n",
    "import chromadb\n",
    "\n",
    "# Load documents\n",
    "reader = SimpleDirectoryReader(\"/content/chunks\") # load documents from the /data folder\n",
    "docs = reader.load_data()\n",
    "print(f\"Loaded {len(docs)} docs\")\n",
    "\n",
    "# Create client (\"db\") and a database (\"chroma_db\")\n",
    "db = chromadb.PersistentClient(path=\"./chroma_db\")\n",
    "\n",
    "# Create a collection/table in the db\n",
    "chroma_collection = db.create_collection(\"Research_papers_collection\")\n",
    "\n",
    "# Set up ChromaVectorStore and load in data\n",
    "vector_store = ChromaVectorStore(chroma_collection=chroma_collection)\n",
    "# Specify Chroma as our vector db\n",
    "storage_context = StorageContext.from_defaults(vector_store=vector_store)\n",
    "\n",
    "# Create the vector index\n",
    "vector_index = VectorStoreIndex.from_documents(\n",
    "    docs, # the file created earlier\n",
    "    storage_context = storage_context,\n",
    "    embed_model = embed_model\n",
    ")\n",
    "\n",
    "# Print the metadata\n",
    "print(chroma_collection)\n",
    "\n",
    "# Print the name of the collection (table)\n",
    "print(f'Collection name is: {chroma_collection.name}')"
   ]
  },
  {
   "cell_type": "markdown",
   "id": "7f29f725",
   "metadata": {},
   "source": [
    "# Prompt Template"
   ]
  },
  {
   "cell_type": "markdown",
   "id": "ee942d7e",
   "metadata": {},
   "source": [
    "Creating a prompt template for querying the LLM."
   ]
  },
  {
   "cell_type": "code",
   "execution_count": 22,
   "id": "4c72d6b1",
   "metadata": {},
   "outputs": [],
   "source": [
    "from llama_index.core.llms import ChatMessage, MessageRole\n",
    "from llama_index.core import ChatPromptTemplate\n",
    "\n",
    "qa_prompt_str = (\n",
    "    \"Context information is below.\\n\"\n",
    "    \"---------------------\\n\"\n",
    "    \"{context_str}\\n\"\n",
    "    \"---------------------\\n\"\n",
    "    \"Using only the context provided, \"\n",
    "    \"answer the question: {query_str}\\n\"\n",
    ")\n",
    "\n",
    "# Text QA Prompt\n",
    "chat_text_qa_msgs = [\n",
    "    ChatMessage(\n",
    "        role=MessageRole.SYSTEM,\n",
    "        content=(\n",
    "            \"If the question is not related to the context, please say you can't answer the question\"\n",
    "        ),\n",
    "    ),\n",
    "    ChatMessage(role=MessageRole.USER, content=qa_prompt_str),\n",
    "]\n",
    "\n",
    "text_qa_template = ChatPromptTemplate(chat_text_qa_msgs)"
   ]
  },
  {
   "cell_type": "markdown",
   "id": "7fb87156",
   "metadata": {},
   "source": [
    "# Query Pipeline"
   ]
  },
  {
   "cell_type": "markdown",
   "id": "1e2b1e7c",
   "metadata": {},
   "source": [
    "Creating query pipeline to query and retrieve relevant information from the vector database and presenting the query with context to the LLM and generate response.\n",
    "\n",
    "Following queries are related to the knowledge base or domain of the rag application."
   ]
  },
  {
   "cell_type": "code",
   "execution_count": 23,
   "id": "419de7b7",
   "metadata": {},
   "outputs": [
    {
     "name": "stdout",
     "output_type": "stream",
     "text": [
      " The focus of the EU-funded RobustSynapses project is on synapses in the brain. Synapses are where many brain conditions often first develop. This research is significant for understanding neurodegenerative diseases because, as explained by principal investigator Patrik Verstreken, there are no cures available for major neurodegenerative conditions such as dementia and paralysis. By studying synapses, the RobustSynapses project aims to address one of the largest unmet medical needs in this field, potentially leading to advancements that could help treat or prevent these debilitating diseases.\n"
     ]
    }
   ],
   "source": [
    "print(\n",
    "    vector_index.as_query_engine(\n",
    "        text_qa_template=text_qa_template,\n",
    "        llm=llm,\n",
    "    ).query(\"What is the focus of the EU-funded RobustSynapses project, and why is it significant for understanding neurodegenerative diseases?\")\n",
    ")"
   ]
  },
  {
   "cell_type": "code",
   "execution_count": 24,
   "id": "aca617c8",
   "metadata": {},
   "outputs": [
    {
     "name": "stdout",
     "output_type": "stream",
     "text": [
      " Patrik Verstreken is the principal investigator of the RobustSynapses project. He serves as the scientific director and group leader at the VIB Center for Brain & Disease Research at KU Leuven, Belgium. His role in the project involves addressing unmet medical needs related to major neurodegenerative conditions by exploring potential therapeutic targets and treatments.\n"
     ]
    }
   ],
   "source": [
    "print(\n",
    "    vector_index.as_query_engine(\n",
    "        text_qa_template=text_qa_template,\n",
    "        llm=llm,\n",
    "    ).query(\"Who is Patrik Verstreken, and what is his role in the RobustSynapses project?\")\n",
    ")"
   ]
  },
  {
   "cell_type": "code",
   "execution_count": 25,
   "id": "226d6ce2",
   "metadata": {},
   "outputs": [
    {
     "name": "stdout",
     "output_type": "stream",
     "text": [
      " The two most common types of dementia are Alzheimer's disease and vascular dementia. Collectively, they affect around 700,000 people in the UK.\n"
     ]
    }
   ],
   "source": [
    "print(\n",
    "    vector_index.as_query_engine(\n",
    "        text_qa_template=text_qa_template,\n",
    "        llm=llm,\n",
    "    ).query(\"What are the two most common types of dementia, and how many people in the UK are affected by them?\")\n",
    ")"
   ]
  },
  {
   "cell_type": "code",
   "execution_count": 32,
   "id": "409b32d4",
   "metadata": {},
   "outputs": [
    {
     "name": "stdout",
     "output_type": "stream",
     "text": [
      " Based on the given context information, reactive astrocytes are a type of brain cell that becomes activated in response to injury or disease. In relation to Alzheimer's disease, these cells play a crucial role as indicated by the study focusing on their involvement and interaction with the plexin-B1 protein. The context suggests that reactive astrocytes contribute to brain cell communication and potentially aid in the clearance of amyloid plaques, which are characteristic features of Alzheimer's pathophysiology. However, specific mechanisms by which they facilitate this process are not provided within the given information.\n"
     ]
    }
   ],
   "source": [
    "print(\n",
    "    vector_index.as_query_engine(\n",
    "        text_qa_template=text_qa_template,\n",
    "        llm=llm,\n",
    "    ).query(\"What role do reactive astrocytes play in Alzheimer's disease, and how do they contribute to the brain's ability to clear amyloid plaques?\")\n",
    ")"
   ]
  },
  {
   "cell_type": "code",
   "execution_count": 27,
   "id": "1085c455",
   "metadata": {},
   "outputs": [
    {
     "name": "stdout",
     "output_type": "stream",
     "text": [
      " The main cause of vascular dementia, as mentioned in the context, is high blood pressure (known as hypertension). This condition leads to damage to the small arteries of the brain.\n"
     ]
    }
   ],
   "source": [
    "print(\n",
    "    vector_index.as_query_engine(\n",
    "        text_qa_template=text_qa_template,\n",
    "        llm=llm,\n",
    "    ).query(\"What is the main cause of vascular dementia ?\")\n",
    ")\n"
   ]
  },
  {
   "cell_type": "markdown",
   "id": "570bc9a7",
   "metadata": {},
   "source": [
    "Out of Context Queries : These are the queries targeted out of the context of the knowledge base of the RAG or non domain queries."
   ]
  },
  {
   "cell_type": "code",
   "execution_count": 28,
   "id": "34c6a6ce",
   "metadata": {},
   "outputs": [
    {
     "name": "stdout",
     "output_type": "stream",
     "text": [
      " Based on the given context information, there is no mention of a location called \"pyramid\". Therefore, it's not possible to provide an answer about where \"pyramid\" is located. Please ensure the details you are seeking pertain to the provided context. If additional information becomes available or if this question refers to something else in the wider scope of knowledge, feel free to ask!\n"
     ]
    }
   ],
   "source": [
    "print(\n",
    "    vector_index.as_query_engine(\n",
    "        text_qa_template=text_qa_template,\n",
    "        llm=llm,\n",
    "    ).query(\"Where is pyramid ?\")\n",
    ")\n"
   ]
  },
  {
   "cell_type": "code",
   "execution_count": 36,
   "id": "a28762b0",
   "metadata": {},
   "outputs": [
    {
     "name": "stdout",
     "output_type": "stream",
     "text": [
      " I'm sorry, but based on the given context information, there is no mention or reference to Kerala. The content focuses on Mount Sinai Health System and related entities. Therefore, I cannot provide an answer about Kerala in this specific context.\n"
     ]
    }
   ],
   "source": [
    "print(\n",
    "    vector_index.as_query_engine(\n",
    "        text_qa_template=text_qa_template,\n",
    "        llm=llm,\n",
    "    ).query(\"Where is Kerala ?\")\n",
    ")"
   ]
  },
  {
   "cell_type": "code",
   "execution_count": 42,
   "id": "5c44771d",
   "metadata": {},
   "outputs": [
    {
     "name": "stdout",
     "output_type": "stream",
     "text": [
      " I'm sorry, but based on the provided context information, it does not relate to the treatment of ulcers. The given texts discuss findings related to cell interactions with harmful plaques in neuroscience research. To provide information about treating ulcers, I would need a relevant source or context specifically addressing gastrointestinal health and ulcer treatments.\n"
     ]
    }
   ],
   "source": [
    "print(\n",
    "    vector_index.as_query_engine(\n",
    "        text_qa_template=text_qa_template,\n",
    "        llm=llm,\n",
    "    ).query(\"How to treat ulcers ?\")\n",
    ")"
   ]
  }
 ],
 "metadata": {
  "kernelspec": {
   "display_name": "Python 3 (ipykernel)",
   "language": "python",
   "name": "python3"
  },
  "language_info": {
   "codemirror_mode": {
    "name": "ipython",
    "version": 3
   },
   "file_extension": ".py",
   "mimetype": "text/x-python",
   "name": "python",
   "nbconvert_exporter": "python",
   "pygments_lexer": "ipython3",
   "version": "3.11.5"
  }
 },
 "nbformat": 4,
 "nbformat_minor": 5
}
